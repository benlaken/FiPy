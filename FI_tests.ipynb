{
 "cells": [
  {
   "cell_type": "markdown",
   "metadata": {},
   "source": [
    "Notebook for hacking and development on the Fispy project."
   ]
  },
  {
   "cell_type": "code",
   "execution_count": null,
   "metadata": {
    "collapsed": false
   },
   "outputs": [],
   "source": [
    "import numpy as np\n",
    "import datetime as dt\n",
    "import pandas as pd\n",
    "from dateutil.relativedelta import relativedelta\n",
    "\n",
    "from bokeh.charts import Bar, output_file, show\n",
    "from bokeh.charts.attributes import cat, color\n",
    "from bokeh.charts.operations import blend\n",
    "from bokeh.charts.utils import df_from_json\n",
    "from bokeh.plotting import output_notebook, Figure\n",
    "from bokeh.models import ColumnDataSource, HoverTool, TapTool, Quad\n",
    "\n",
    "#from fispy.fispy import Asset, Portfolio\n",
    "\n",
    "output_notebook()"
   ]
  },
  {
   "cell_type": "markdown",
   "metadata": {},
   "source": [
    "### Testing for adding real stock data functions to investment assets "
   ]
  },
  {
   "cell_type": "code",
   "execution_count": null,
   "metadata": {
    "collapsed": false
   },
   "outputs": [],
   "source": [
    "from pandas_datareader import data, wb\n",
    "\n",
    "    \n",
    "class Investment(object):\n",
    "    def __init__(self, d):\n",
    "        self.value = None\n",
    "        self.roi = None\n",
    "        self.dividend = None\n",
    "        self.month_index = 0\n",
    "        self.period = d['period']\n",
    "        self.symbols = d['symbols']\n",
    "        self.historical = []\n",
    "    \n",
    "    def buyStock(self, addQuantity):\n",
    "        self.value += addQuantity\n",
    "    \n",
    "    def dividend_reinvest(self):\n",
    "        self.value += self.dividend\n",
    "    \n",
    "    def appreciate(self):\n",
    "        self.dividend = self.value * self.roi\n",
    "\n",
    "    def add_historical_growth(self):\n",
    "        delta = self.historical.values[self.month_index + 1]/self.historical.values[self.month_index]\n",
    "        self.value = self.value * delta\n",
    "        self.month_index += 1\n",
    "    \n",
    "    def fetch_real_stock_data(self):\n",
    "        ls_key = 'Adj Close' \n",
    "        end = dt.datetime(year=dt.datetime.now().year,\n",
    "                            month=dt.datetime.now().month, day=1)\n",
    "        start = end - relativedelta(months=self.period + 2) \n",
    "        f = data.DataReader(self.symbols, 'yahoo', start, end)\n",
    "        cleanData = f.ix[ls_key]\n",
    "        df = pd.DataFrame(cleanData)\n",
    "        self.historical = df.asfreq('m', method='pad',how='end')  "
   ]
  },
  {
   "cell_type": "code",
   "execution_count": null,
   "metadata": {
    "collapsed": false
   },
   "outputs": [],
   "source": []
  },
  {
   "cell_type": "code",
   "execution_count": null,
   "metadata": {
    "collapsed": false
   },
   "outputs": [],
   "source": [
    "t = Investment(d=d)"
   ]
  },
  {
   "cell_type": "code",
   "execution_count": null,
   "metadata": {
    "collapsed": false
   },
   "outputs": [],
   "source": [
    "t.fetch_real_stock_data()"
   ]
  },
  {
   "cell_type": "code",
   "execution_count": null,
   "metadata": {
    "collapsed": false
   },
   "outputs": [],
   "source": [
    "t.add_historical_growth()"
   ]
  },
  {
   "cell_type": "code",
   "execution_count": null,
   "metadata": {
    "collapsed": false
   },
   "outputs": [],
   "source": [
    "t.value"
   ]
  },
  {
   "cell_type": "code",
   "execution_count": null,
   "metadata": {
    "collapsed": false
   },
   "outputs": [],
   "source": [
    "fac = t.historical.values[1]/t.historical.values[0]"
   ]
  },
  {
   "cell_type": "code",
   "execution_count": null,
   "metadata": {
    "collapsed": false
   },
   "outputs": [],
   "source": [
    "fac * 10"
   ]
  },
  {
   "cell_type": "code",
   "execution_count": null,
   "metadata": {
    "collapsed": false
   },
   "outputs": [],
   "source": [
    "fac"
   ]
  },
  {
   "cell_type": "code",
   "execution_count": null,
   "metadata": {
    "collapsed": false
   },
   "outputs": [],
   "source": [
    "t.historical.values[1], t.historical.values[0]"
   ]
  },
  {
   "cell_type": "code",
   "execution_count": null,
   "metadata": {
    "collapsed": false
   },
   "outputs": [],
   "source": [
    "a1 = Asset(**{'kind':'job','monthly_income':1.5, 'monthly_expenses':0.7})\n"
   ]
  },
  {
   "cell_type": "code",
   "execution_count": null,
   "metadata": {
    "collapsed": false
   },
   "outputs": [],
   "source": [
    "a1 = Asset(**{'kind':'job','monthly_income':1.5, 'monthly_expenses':0.7})    \n"
   ]
  },
  {
   "cell_type": "markdown",
   "metadata": {
    "collapsed": true
   },
   "source": [
    "## Asset and Portfolio classes for hacking/testing ##"
   ]
  },
  {
   "cell_type": "code",
   "execution_count": null,
   "metadata": {
    "collapsed": false
   },
   "outputs": [],
   "source": [
    "class Asset(object):\n",
    "    def __init__(self, **kwargs):\n",
    "        self.kind = kwargs.get('kind')\n",
    "        assert self.kind.lower() in [None, 'real estate', 'stocks', 'job', 'cash']\n",
    "        self.monthly_income = kwargs.get('monthly_income')\n",
    "        self.monthly_expenses = kwargs.get('monthly_expenses')\n",
    "        self.start_date = kwargs.get('start_date', dt.datetime.now().date())\n",
    "        self.end_date = kwargs.get('end_date')\n",
    "        self.debt = kwargs.get('debt')\n",
    "        self.value = kwargs.get('value')\n",
    "        self.max_cash = kwargs.get('max_cash') \n",
    "        self.monthly_repayment = kwargs.get('monthly_repayment')\n",
    "        self.pay_debt_asap = kwargs.get('pay_debt_asap')\n",
    "    \n",
    "    def __str__(self):\n",
    "        return str(\"Asset = {0}\".format(self.kind))\n",
    "\n",
    "    def __iter__(self):\n",
    "        for key, value in sorted(a1.__dict__.items()):\n",
    "            yield key, value\n",
    "    \n",
    "\n",
    "class Portfolio(object):\n",
    "    \"\"\" Operates on lists of assets. Can add assets individually\n",
    "    with addNewAsset() function, or can initilize object with a\n",
    "    list of asset objects.\n",
    "    \n",
    "    Add a test that at most only one cash asset (a summary asset) is given.\n",
    "    \"\"\"\n",
    "    \n",
    "    def __init__(self, *assets):\n",
    "        self.assets = []\n",
    "        print(\"{0} items passed\".format(len(assets)))\n",
    "        if assets:\n",
    "            for asset in assets:\n",
    "                self.assets.append(asset)\n",
    "            self.date = min([asset.start_date for asset in self.assets])\n",
    "        self.monthly_income = 0\n",
    "        self.monthly_expenses = 0\n",
    "        self.netInvestments = 0\n",
    "        self.debt = 0\n",
    "        self.prd = 60\n",
    "        self.cash = 0\n",
    "        self.networth = 0 # (cash + investments + property value) - debt\n",
    "        \n",
    "    \n",
    "    def summary(self):\n",
    "        print(\"--Summary--\\nIncome: {0:3.2f} \\nCash: {1:3.2f} \\nDebt: {3:3.2f} \\nInvestments: {2:3.2f}\".format(\n",
    "                self.monthly_income, self.cash, self.netInvestments, self.debt))\n",
    "        print(\"Net worth: {0:3.2f}\".format(self.networth))\n",
    "    \n",
    "    def addNewAsset(self, new_asset):\n",
    "        self.assets.append(new_asset)\n",
    "    \n",
    "    def monthlyIncome(self):\n",
    "        tmp_income = 0\n",
    "        for asset in self.assets:\n",
    "            if asset.monthly_income:\n",
    "                tmp_income += asset.monthly_income\n",
    "        self.monthly_income = tmp_income\n",
    "    \n",
    "    def monthlyExpenses(self):\n",
    "        tmp_expenses = 0\n",
    "        for asset in self.assets:\n",
    "            if asset.monthly_expenses:\n",
    "                tmp_expenses += asset.monthly_expenses\n",
    "        self.monthly_expenses = tmp_expenses\n",
    "        assert tmp_expenses < self.monthly_income,\"Error: spending too much money...\"\n",
    "        self.monthly_income -= tmp_expenses\n",
    "    \n",
    "    def investmentPortfolio(self):\n",
    "        tmp_net = 0\n",
    "        for asset in self.assets:\n",
    "            if asset.kind.lower() == 'stocks':\n",
    "                # Work out value of assets\n",
    "                tmp_net += asset.value\n",
    "                # Increment assets (this should be replaced with historical monthly flux)\n",
    "                asset.value *= 1.00333  # placeholder way of incrementing value of an asset\n",
    "                # Buy more assets (at the moment this is naieve, \n",
    "                # and will spend all money on first stock it encounters in asset list)\n",
    "                if self.monthly_income > 0: # If money left at end of month, invest it\n",
    "                    asset.value += self.monthly_income\n",
    "                    self.monthly_income = 0\n",
    "        self.netInvestments = tmp_net\n",
    "    \n",
    "    def countCash(self):\n",
    "        \"\"\"nb. this function only expects to find one cash asset\"\"\"\n",
    "        max_cash = 0\n",
    "        for asset in self.assets:\n",
    "            if asset.kind.lower() == 'cash': \n",
    "                self.cash = asset.value\n",
    "                max_cash = asset.max_cash\n",
    "                if self.cash < max_cash and self.monthly_income > 0:\n",
    "                    asset.value += self.monthly_income\n",
    "                    self.monthly_income = 0.0\n",
    "                    self.cash = asset.value\n",
    "                    \n",
    "    def monthlyRepay(self):\n",
    "        for asset in self.assets:\n",
    "            if asset.debt and asset.monthly_repayment:\n",
    "                assert self.monthly_income > asset.monthly_repayment,\"Error: cant meet monthly repayment :(\"\n",
    "                if (asset.debt - asset.monthly_repayment) <= 0.0:\n",
    "                    #if this is the last payment...\n",
    "                    self.monthly_income -= asset.debt\n",
    "                    asset.debt = None\n",
    "                    asset.monthly_repayment = None\n",
    "                    return\n",
    "                else:\n",
    "                    if asset.pay_debt_asap:\n",
    "                        asset.debt -= self.monthly_income\n",
    "                        self.monthly_income = 0.0\n",
    "                    else:\n",
    "                        asset.debt -= asset.monthly_repayment\n",
    "                        self.monthly_income -= asset.monthly_repayment\n",
    "    \n",
    "    def monthlyDebt(self):\n",
    "        tmp_debt = 0\n",
    "        for asset in self.assets:\n",
    "            if asset.debt:\n",
    "                tmp_debt += asset.debt\n",
    "        self.debt = tmp_debt\n",
    "        \n",
    "    \n",
    "    def calcNetWorth(self):\n",
    "        net_value = 0\n",
    "        for asset in self.assets:\n",
    "            # cash, property and investments all have a value property (not jobs)\n",
    "            if asset.value:\n",
    "                net_value += asset.value\n",
    "        self.networth = net_value - self.debt\n",
    "    \n",
    "    def update_monthly(self):\n",
    "        self.date = self.date + relativedelta(months=1)\n",
    "        self.monthlyIncome()   # Gather income at start of month\n",
    "        self.monthlyExpenses() # Work out living expenses and subtract it from the income\n",
    "        self.monthlyRepay()    # Repay monthly morgage expenses from income\n",
    "        self.monthlyDebt()     # Work out remaining size of accumulated debt\n",
    "        self.countCash()       # Count the cash and add to pile if required\n",
    "        self.investmentPortfolio() # Gather investments value, and grow, also buy more if money left\n",
    "        self.calcNetWorth()\n",
    "        \n",
    "    def quad_positions(self, left, right, bottom, top, color):\n",
    "        # Add debt marker\n",
    "        left.append(self.date)\n",
    "        right.append(self.date + relativedelta(months=1))\n",
    "        top.append(0.0)\n",
    "        bottom.append(self.debt * -1)\n",
    "        color.append('#FE642E')\n",
    "        # Add cash marker\n",
    "        left.append(self.date)\n",
    "        right.append(self.date + relativedelta(months=1))\n",
    "        bottom.append(0.0)\n",
    "        top.append(self.cash)\n",
    "        color.append('green')\n",
    "        # Add stock marker\n",
    "        left.append(self.date)\n",
    "        right.append(self.date + relativedelta(months=1))\n",
    "        bottom.append(self.cash)\n",
    "        top.append(self.cash + self.netInvestments)\n",
    "        color.append('#BF00FF')\n",
    "        # Add net worth marker (including  primary property)\n",
    "        left.append(self.date)\n",
    "        right.append(self.date + relativedelta(months=1))\n",
    "        bottom.append(self.cash + self.netInvestments)\n",
    "        top.append(self.networth)\n",
    "        color.append('#BDBDBD')\n",
    "        return\n",
    "\n",
    "    def gen_quads(self):\n",
    "        left = []\n",
    "        right = []\n",
    "        top=[]\n",
    "        bottom=[]\n",
    "        color=[]\n",
    "        for i in range(self.prd):\n",
    "            self.update_monthly()\n",
    "            self.quad_positions(left=left, top=top, bottom=bottom,\n",
    "                                right=right, color=color)\n",
    "        return pd.DataFrame({'left': left, 'right': right, 'top': top,\n",
    "                            'bottom': bottom, 'color': color})"
   ]
  },
  {
   "cell_type": "code",
   "execution_count": null,
   "metadata": {
    "collapsed": false
   },
   "outputs": [],
   "source": [
    "# Initilise with list of assets...\n",
    "d1 = {'kind': 'job', \n",
    "      'monthly_income': 1.5, \n",
    "      'start_date': dt.date(2016, 6, 1)}\n",
    "\n",
    "d2 = {'kind': 'job',\n",
    "      'monthly_income': 1.5,\n",
    "      'monthly_expenses': 0.7,\n",
    "      'start_date': dt.date(2016, 12, 1)}\n",
    "\n",
    "d3 = {'kind': 'real estate',\n",
    "      'debt': 70,\n",
    "      'value':150,\n",
    "      'monthly_repayment':0.5,\n",
    "      'start_date': dt.date(2016, 6, 1),\n",
    "      'pay_debt_asap':True}\n",
    "\n",
    "d4 = {'kind': 'stocks',\n",
    "      'value': 15,\n",
    "      'symbol': 'NYSE:BRK.B'}\n",
    "\n",
    "d5 = {'kind': 'cash',\n",
    "      'value': 15,\n",
    "      'max_cash':30}\n",
    "\n",
    "test2 = Portfolio(Asset(**d1), Asset(**d2), Asset(**d3), Asset(**d4), Asset(**d5))\n",
    "\n",
    "#test2.monthlyIncome()\n",
    "#test2.monthlyExpenses()\n",
    "#test2.monthlyDebt()\n",
    "#print(test2.monthly_income, test2.monthly_expenses, test2.debt)\n",
    "#print(test2.date)\n",
    "bdf_quad = test2.gen_quads()\n",
    "test2.summary()"
   ]
  },
  {
   "cell_type": "code",
   "execution_count": null,
   "metadata": {
    "collapsed": false
   },
   "outputs": [],
   "source": []
  },
  {
   "cell_type": "code",
   "execution_count": null,
   "metadata": {
    "collapsed": false
   },
   "outputs": [],
   "source": [
    "a1 = Asset(**{'kind':'job','monthly_income':1.5, 'monthly_expenses':0.7})\n",
    "p1 = Portfolio(a1)\n",
    "\n",
    "for k,v in a1:\n",
    "    print(k,v)"
   ]
  },
  {
   "cell_type": "code",
   "execution_count": null,
   "metadata": {
    "collapsed": false
   },
   "outputs": [],
   "source": [
    "a1.debt"
   ]
  },
  {
   "cell_type": "code",
   "execution_count": null,
   "metadata": {
    "collapsed": false
   },
   "outputs": [],
   "source": [
    "source=ColumnDataSource(bdf_quad)\n",
    "TOOLS=\"crosshair, pan, reset, resize, wheel_zoom\"\n",
    "\n",
    "plot = Figure(tools=TOOLS, x_axis_type='datetime', plot_height=500, \n",
    "              plot_width=700, title=\"FI chart\")\n",
    "\n",
    "#plot.add_tools(TapTool())\n",
    "plot.yaxis.axis_label = \"Val\"\n",
    "plot.xaxis.axis_label = \"Time\"\n",
    "\n",
    "renderer = plot.quad(source=source, left='left', right='right', \n",
    "                     bottom='bottom', top='top', color='color')\n",
    "\n",
    "#selected_q = Quad(fill_alpha=1, fill_color=\"green\", line_color=None)\n",
    "#nonselected_q = Quad(fill_alpha=0.2, fill_color=\"blue\", line_color=\"firebrick\")\n",
    "#renderer.selection_glyph = selected_q\n",
    "#renderer.nonselection_glyph = nonselected_q\n",
    "    \n",
    "show(plot)"
   ]
  },
  {
   "cell_type": "code",
   "execution_count": null,
   "metadata": {
    "collapsed": false
   },
   "outputs": [],
   "source": [
    "d1 = {'kind': 'job', \n",
    "      'monthly_income': 1.5, \n",
    "      'start_date': dt.date(2016, 6, 1)}\n",
    "\n",
    "d2 = {'kind': 'job', \n",
    "      'monthly_income': 1.5, \n",
    "      'start_date': dt.date(2016, 6, 1)}\n",
    "\n",
    "\n",
    "test2 = Portfolio(Asset(**d1),Asset(**d2) )\n",
    "test2.monthlyIncome()\n",
    "\n",
    "assert test2.monthly_income == 3.0, \"Income incorrect\""
   ]
  },
  {
   "cell_type": "code",
   "execution_count": null,
   "metadata": {
    "collapsed": false
   },
   "outputs": [],
   "source": []
  },
  {
   "cell_type": "code",
   "execution_count": null,
   "metadata": {
    "collapsed": false
   },
   "outputs": [],
   "source": [
    "import datetime as dt"
   ]
  },
  {
   "cell_type": "code",
   "execution_count": null,
   "metadata": {
    "collapsed": false
   },
   "outputs": [],
   "source": [
    "tdate = dt.date(2003,2,1)\n",
    "start = dt.date(2000,1,1)\n",
    "end = dt.date(2099,1,1)\n",
    "in_month = tdate >= start and tdate <= end"
   ]
  },
  {
   "cell_type": "code",
   "execution_count": null,
   "metadata": {
    "collapsed": false
   },
   "outputs": [],
   "source": []
  },
  {
   "cell_type": "code",
   "execution_count": null,
   "metadata": {
    "collapsed": true
   },
   "outputs": [],
   "source": []
  },
  {
   "cell_type": "code",
   "execution_count": null,
   "metadata": {
    "collapsed": true
   },
   "outputs": [],
   "source": []
  }
 ],
 "metadata": {
  "kernelspec": {
   "display_name": "Python 3",
   "language": "python",
   "name": "python3"
  },
  "language_info": {
   "codemirror_mode": {
    "name": "ipython",
    "version": 3
   },
   "file_extension": ".py",
   "mimetype": "text/x-python",
   "name": "python",
   "nbconvert_exporter": "python",
   "pygments_lexer": "ipython3",
   "version": "3.5.1"
  },
  "widgets": {
   "state": {},
   "version": "1.1.2"
  }
 },
 "nbformat": 4,
 "nbformat_minor": 0
}
