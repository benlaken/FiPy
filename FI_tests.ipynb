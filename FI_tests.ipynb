{
 "cells": [
  {
   "cell_type": "markdown",
   "metadata": {},
   "source": [
    "Notebook for hacking and development on the Fispy project."
   ]
  },
  {
   "cell_type": "code",
   "execution_count": 1,
   "metadata": {
    "collapsed": false
   },
   "outputs": [],
   "source": [
    "import numpy as np\n",
    "import datetime as dt\n",
    "import pandas as pd\n",
    "from dateutil.relativedelta import relativedelta\n",
    "\n",
    "from bokeh.charts import Bar, output_file, show\n",
    "from bokeh.charts.attributes import cat, color\n",
    "from bokeh.charts.operations import blend\n",
    "from bokeh.charts.utils import df_from_json\n",
    "from bokeh.plotting import output_notebook, Figure\n",
    "from bokeh.models import ColumnDataSource, HoverTool, TapTool, Quad\n",
    "\n",
    "#from fispy.fispy import Asset, Portfolio\n",
    "\n",
    "output_notebook()"
   ]
  },
  {
   "cell_type": "markdown",
   "metadata": {},
   "source": [
    "### Testing for adding real stock data functions to investment assets "
   ]
  },
  {
   "cell_type": "code",
   "execution_count": 78,
   "metadata": {
    "collapsed": false
   },
   "outputs": [],
   "source": [
    "from pandas_datareader import data, wb\n",
    "\n",
    "    \n",
    "class Investment(object):\n",
    "    def __init__(self, d):\n",
    "        self.value = None\n",
    "        self.roi = None\n",
    "        self.dividend = None\n",
    "        self.month_index = 0\n",
    "        self.period = d['period']\n",
    "        self.symbols = d['symbols']\n",
    "        self.historical = []\n",
    "    \n",
    "    def buyStock(self, addQuantity):\n",
    "        self.value += addQuantity\n",
    "    \n",
    "    def dividend_reinvest(self):\n",
    "        self.value += self.dividend\n",
    "    \n",
    "    def appreciate(self):\n",
    "        self.dividend = self.value * self.roi\n",
    "\n",
    "    def add_historical_growth(self):\n",
    "        delta = self.historical.values[self.month_index + 1]/self.historical.values[self.month_index]\n",
    "        self.value = self.value * delta\n",
    "        self.month_index += 1\n",
    "    \n",
    "    def fetch_real_stock_data(self):\n",
    "        ls_key = 'Adj Close' \n",
    "        end = dt.datetime(year=dt.datetime.now().year,\n",
    "                            month=dt.datetime.now().month, day=1)\n",
    "        start = end - relativedelta(months=self.period + 2) \n",
    "        f = data.DataReader(self.symbols, 'yahoo', start, end)\n",
    "        cleanData = f.ix[ls_key]\n",
    "        df = pd.DataFrame(cleanData)\n",
    "        self.historical = df.asfreq('m', method='pad',how='end')  "
   ]
  },
  {
   "cell_type": "code",
   "execution_count": null,
   "metadata": {
    "collapsed": false
   },
   "outputs": [],
   "source": []
  },
  {
   "cell_type": "code",
   "execution_count": 79,
   "metadata": {
    "collapsed": false
   },
   "outputs": [],
   "source": [
    "t = Investment(d=d)"
   ]
  },
  {
   "cell_type": "code",
   "execution_count": 80,
   "metadata": {
    "collapsed": false
   },
   "outputs": [],
   "source": [
    "t.fetch_real_stock_data()"
   ]
  },
  {
   "cell_type": "code",
   "execution_count": 84,
   "metadata": {
    "collapsed": false
   },
   "outputs": [],
   "source": [
    "t.add_historical_growth()"
   ]
  },
  {
   "cell_type": "code",
   "execution_count": 85,
   "metadata": {
    "collapsed": false
   },
   "outputs": [
    {
     "data": {
      "text/plain": [
       "array([ 10.16057347])"
      ]
     },
     "execution_count": 85,
     "metadata": {},
     "output_type": "execute_result"
    }
   ],
   "source": [
    "t.value"
   ]
  },
  {
   "cell_type": "code",
   "execution_count": 88,
   "metadata": {
    "collapsed": false
   },
   "outputs": [],
   "source": [
    "fac = t.historical.values[1]/t.historical.values[0]"
   ]
  },
  {
   "cell_type": "code",
   "execution_count": 89,
   "metadata": {
    "collapsed": false
   },
   "outputs": [
    {
     "data": {
      "text/plain": [
       "array([ 10.16057347])"
      ]
     },
     "execution_count": 89,
     "metadata": {},
     "output_type": "execute_result"
    }
   ],
   "source": [
    "fac * 10"
   ]
  },
  {
   "cell_type": "code",
   "execution_count": 90,
   "metadata": {
    "collapsed": false
   },
   "outputs": [
    {
     "data": {
      "text/plain": [
       "array([ 1.01605735])"
      ]
     },
     "execution_count": 90,
     "metadata": {},
     "output_type": "execute_result"
    }
   ],
   "source": [
    "fac"
   ]
  },
  {
   "cell_type": "code",
   "execution_count": 93,
   "metadata": {
    "collapsed": false
   },
   "outputs": [
    {
     "data": {
      "text/plain": [
       "(array([ 77.667068]), array([ 76.43965]))"
      ]
     },
     "execution_count": 93,
     "metadata": {},
     "output_type": "execute_result"
    }
   ],
   "source": [
    "t.historical.values[1], t.historical.values[0]"
   ]
  },
  {
   "cell_type": "code",
   "execution_count": 22,
   "metadata": {
    "collapsed": false
   },
   "outputs": [],
   "source": [
    "a1 = Asset(**{'kind':'job','monthly_income':1.5, 'monthly_expenses':0.7})\n"
   ]
  },
  {
   "cell_type": "code",
   "execution_count": 14,
   "metadata": {
    "collapsed": false
   },
   "outputs": [],
   "source": [
    "a1 = Asset(**{'kind':'job','monthly_income':1.5, 'monthly_expenses':0.7})    \n"
   ]
  },
  {
   "cell_type": "markdown",
   "metadata": {
    "collapsed": true
   },
   "source": [
    "## Asset and Portfolio classes for hacking/testing ##"
   ]
  },
  {
   "cell_type": "code",
   "execution_count": 29,
   "metadata": {
    "collapsed": false
   },
   "outputs": [],
   "source": [
    "class Asset(object):\n",
    "    def __init__(self, **kwargs):\n",
    "        self.kind = kwargs.get('kind', None)\n",
    "        assert self.kind.lower() in [None, 'real estate', 'stocks', 'job', 'cash']\n",
    "        self.monthly_income = kwargs.get('monthly_income', None)\n",
    "        self.monthly_expenses = kwargs.get('monthly_expenses', None)\n",
    "        self.start_date = kwargs.get('start_date', dt.datetime.now().date())\n",
    "        self.end_date = kwargs.get('end_date', None)\n",
    "        self.debt = kwargs.get('debt', None)\n",
    "        self.value = kwargs.get('value', None)\n",
    "        self.max_cash = kwargs.get('max_cash', None) \n",
    "        self.monthly_repayment = kwargs.get('monthly_repayment', None)\n",
    "        self.pay_debt_asap = kwargs.get('pay_debt_asap', None)\n",
    "    \n",
    "    def __str__(self):\n",
    "        return str(\"Asset = {0}\".format(self.kind))\n",
    "\n",
    "    def __iter__(self):\n",
    "        for key, value in sorted(a1.__dict__.items()):\n",
    "            yield key, value\n",
    "    \n",
    "\n",
    "class Portfolio(object):\n",
    "    \"\"\" Operates on lists of assets. Can add assets individually\n",
    "    with addNewAsset() function, or can initilize object with a\n",
    "    list of asset objects.\n",
    "    \n",
    "    Add a test that at most only one cash asset (a summary asset) is given.\n",
    "    \"\"\"\n",
    "    \n",
    "    def __init__(self, *assets):\n",
    "        self.assets = []\n",
    "        print(\"{0} items passed\".format(len(assets)))\n",
    "        if assets:\n",
    "            for asset in assets:\n",
    "                self.assets.append(asset)\n",
    "            self.date = min([asset.start_date for asset in self.assets])\n",
    "        self.monthly_income = 0\n",
    "        self.monthly_expenses = 0\n",
    "        self.netInvestments = 0\n",
    "        self.debt = 0\n",
    "        self.prd = 60\n",
    "        self.cash = 0\n",
    "        self.networth = 0 # (cash + investments + property value) - debt\n",
    "        \n",
    "    \n",
    "    def summary(self):\n",
    "        print(\"--Summary--\\nIncome: {0:3.2f} \\nCash: {1:3.2f} \\nDebt: {3:3.2f} \\nInvestments: {2:3.2f}\".format(\n",
    "                self.monthly_income, self.cash, self.netInvestments, self.debt))\n",
    "        print(\"Net worth: {0:3.2f}\".format(self.networth))\n",
    "    \n",
    "    def addNewAsset(self, new_asset):\n",
    "        self.assets.append(new_asset)\n",
    "    \n",
    "    def monthlyIncome(self):\n",
    "        tmp_income = 0\n",
    "        for asset in self.assets:\n",
    "            if asset.monthly_income:\n",
    "                tmp_income += asset.monthly_income\n",
    "        self.monthly_income = tmp_income\n",
    "    \n",
    "    def monthlyExpenses(self):\n",
    "        tmp_expenses = 0\n",
    "        for asset in self.assets:\n",
    "            if asset.monthly_expenses:\n",
    "                tmp_expenses += asset.monthly_expenses\n",
    "        self.monthly_expenses = tmp_expenses\n",
    "        assert tmp_expenses < self.monthly_income,\"Error: spending too much money...\"\n",
    "        self.monthly_income -= tmp_expenses\n",
    "    \n",
    "    def investmentPortfolio(self):\n",
    "        tmp_net = 0\n",
    "        for asset in self.assets:\n",
    "            if asset.kind.lower() == 'stocks':\n",
    "                # Work out value of assets\n",
    "                tmp_net += asset.value\n",
    "                # Increment assets (this should be replaced with historical monthly flux)\n",
    "                asset.value *= 1.00333  # placeholder way of incrementing value of an asset\n",
    "                # Buy more assets (at the moment this is naieve, \n",
    "                # and will spend all money on first stock it encounters in asset list)\n",
    "                if self.monthly_income > 0: # If money left at end of month, invest it\n",
    "                    asset.value += self.monthly_income\n",
    "                    self.monthly_income = 0\n",
    "        self.netInvestments = tmp_net\n",
    "    \n",
    "    def countCash(self):\n",
    "        \"\"\"nb. this function only expects to find one cash asset\"\"\"\n",
    "        max_cash = 0\n",
    "        for asset in self.assets:\n",
    "            if asset.kind.lower() == 'cash': \n",
    "                self.cash = asset.value\n",
    "                max_cash = asset.max_cash\n",
    "                if self.cash < max_cash and self.monthly_income > 0:\n",
    "                    asset.value += self.monthly_income\n",
    "                    self.monthly_income = 0.0\n",
    "                    self.cash = asset.value\n",
    "                    \n",
    "    def monthlyRepay(self):\n",
    "        for asset in self.assets:\n",
    "            if asset.debt and asset.monthly_repayment:\n",
    "                assert self.monthly_income > asset.monthly_repayment,\"Error: cant meet monthly repayment :(\"\n",
    "                if (asset.debt - asset.monthly_repayment) <= 0.0:\n",
    "                    #if this is the last payment...\n",
    "                    self.monthly_income -= asset.debt\n",
    "                    asset.debt = None\n",
    "                    asset.monthly_repayment = None\n",
    "                    return\n",
    "                else:\n",
    "                    if asset.pay_debt_asap:\n",
    "                        asset.debt -= self.monthly_income\n",
    "                        self.monthly_income = 0.0\n",
    "                    else:\n",
    "                        asset.debt -= asset.monthly_repayment\n",
    "                        self.monthly_income -= asset.monthly_repayment\n",
    "    \n",
    "    def monthlyDebt(self):\n",
    "        tmp_debt = 0\n",
    "        for asset in self.assets:\n",
    "            if asset.debt:\n",
    "                tmp_debt += asset.debt\n",
    "        self.debt = tmp_debt\n",
    "        \n",
    "    \n",
    "    def calcNetWorth(self):\n",
    "        net_value = 0\n",
    "        for asset in self.assets:\n",
    "            # cash, property and investments all have a value property (not jobs)\n",
    "            if asset.value:\n",
    "                net_value += asset.value\n",
    "        self.networth = net_value - self.debt\n",
    "    \n",
    "    def update_monthly(self):\n",
    "        self.date = self.date + relativedelta(months=1)\n",
    "        self.monthlyIncome()   # Gather income at start of month\n",
    "        self.monthlyExpenses() # Work out living expenses and subtract it from the income\n",
    "        self.monthlyRepay()    # Repay monthly morgage expenses from income\n",
    "        self.monthlyDebt()     # Work out remaining size of accumulated debt\n",
    "        self.countCash()       # Count the cash and add to pile if required\n",
    "        self.investmentPortfolio() # Gather investments value, and grow, also buy more if money left\n",
    "        self.calcNetWorth()\n",
    "        \n",
    "    def quad_positions(self, left, right, bottom, top, color):\n",
    "        # Add debt marker\n",
    "        left.append(self.date)\n",
    "        right.append(self.date + relativedelta(months=1))\n",
    "        top.append(0.0)\n",
    "        bottom.append(self.debt * -1)\n",
    "        color.append('#FE642E')\n",
    "        # Add cash marker\n",
    "        left.append(self.date)\n",
    "        right.append(self.date + relativedelta(months=1))\n",
    "        bottom.append(0.0)\n",
    "        top.append(self.cash)\n",
    "        color.append('green')\n",
    "        # Add stock marker\n",
    "        left.append(self.date)\n",
    "        right.append(self.date + relativedelta(months=1))\n",
    "        bottom.append(self.cash)\n",
    "        top.append(self.cash + self.netInvestments)\n",
    "        color.append('#BF00FF')\n",
    "        # Add net worth marker (including  primary property)\n",
    "        left.append(self.date)\n",
    "        right.append(self.date + relativedelta(months=1))\n",
    "        bottom.append(self.cash + self.netInvestments)\n",
    "        top.append(self.networth)\n",
    "        color.append('#BDBDBD')\n",
    "        return\n",
    "\n",
    "    def gen_quads(self):\n",
    "        left = []\n",
    "        right = []\n",
    "        top=[]\n",
    "        bottom=[]\n",
    "        color=[]\n",
    "        for i in range(self.prd):\n",
    "            self.update_monthly()\n",
    "            self.quad_positions(left=left, top=top, bottom=bottom,\n",
    "                                right=right, color=color)\n",
    "        return pd.DataFrame({'left': left, 'right': right, 'top': top,\n",
    "                            'bottom': bottom, 'color': color})"
   ]
  },
  {
   "cell_type": "code",
   "execution_count": 5,
   "metadata": {
    "collapsed": false
   },
   "outputs": [
    {
     "name": "stdout",
     "output_type": "stream",
     "text": [
      "5 items passed\n",
      "--Summary--\n",
      "Income: 0.00 \n",
      "Cash: 30.10\n",
      "Debt: 0.00\n",
      "Investments: 70.66\n",
      "Net worth: 253.29\n"
     ]
    }
   ],
   "source": [
    "# Initilise with list of assets...\n",
    "d1 = {'kind': 'job', \n",
    "      'monthly_income': 1.5, \n",
    "      'start_date': dt.date(2016, 6, 1)}\n",
    "\n",
    "d2 = {'kind': 'job',\n",
    "      'monthly_income': 1.5,\n",
    "      'monthly_expenses': 0.7,\n",
    "      'start_date': dt.date(2016, 12, 1)}\n",
    "\n",
    "d3 = {'kind': 'real estate',\n",
    "      'debt': 70,\n",
    "      'value':150,\n",
    "      'monthly_repayment':0.5,\n",
    "      'start_date': dt.date(2016, 6, 1),\n",
    "      'pay_debt_asap':True}\n",
    "\n",
    "d4 = {'kind': 'stocks',\n",
    "      'value': 15,\n",
    "      'symbol': 'NYSE:BRK.B'}\n",
    "\n",
    "d5 = {'kind': 'cash',\n",
    "      'value': 15,\n",
    "      'max_cash':30}\n",
    "\n",
    "test2 = Portfolio(Asset(**d1), Asset(**d2), Asset(**d3), Asset(**d4), Asset(**d5))\n",
    "\n",
    "#test2.monthlyIncome()\n",
    "#test2.monthlyExpenses()\n",
    "#test2.monthlyDebt()\n",
    "#print(test2.monthly_income, test2.monthly_expenses, test2.debt)\n",
    "#print(test2.date)\n",
    "bdf_quad = test2.gen_quads()\n",
    "test2.summary()"
   ]
  },
  {
   "cell_type": "code",
   "execution_count": 15,
   "metadata": {
    "collapsed": false
   },
   "outputs": [
    {
     "name": "stdout",
     "output_type": "stream",
     "text": [
      "1 items passed\n"
     ]
    },
    {
     "data": {
      "text/plain": [
       "2"
      ]
     },
     "execution_count": 15,
     "metadata": {},
     "output_type": "execute_result"
    }
   ],
   "source": [
    "a1 = Asset(**{'kind':'job','monthly_income':1.5, 'monthly_expenses':0.7})\n",
    "p1 = Portfolio(a1)\n",
    "\n",
    "p1.addNewAsset(a1)\n",
    "len(p1.assets)"
   ]
  },
  {
   "cell_type": "code",
   "execution_count": 12,
   "metadata": {
    "collapsed": true
   },
   "outputs": [],
   "source": []
  },
  {
   "cell_type": "code",
   "execution_count": null,
   "metadata": {
    "collapsed": false
   },
   "outputs": [],
   "source": []
  },
  {
   "cell_type": "code",
   "execution_count": 6,
   "metadata": {
    "collapsed": false
   },
   "outputs": [
    {
     "data": {
      "text/html": [
       "\n",
       "\n",
       "    <div class=\"plotdiv\" id=\"3dd52b1c-6818-426e-beff-33a6799db066\"></div>\n",
       "<script type=\"text/javascript\">\n",
       "  \n",
       "  (function(global) {\n",
       "    function now() {\n",
       "      return new Date();\n",
       "    }\n",
       "  \n",
       "    if (typeof (window._bokeh_onload_callbacks) === \"undefined\") {\n",
       "      window._bokeh_onload_callbacks = [];\n",
       "    }\n",
       "  \n",
       "    function run_callbacks() {\n",
       "      window._bokeh_onload_callbacks.forEach(function(callback) { callback() });\n",
       "      delete window._bokeh_onload_callbacks\n",
       "      console.info(\"Bokeh: all callbacks have finished\");\n",
       "    }\n",
       "  \n",
       "    function load_libs(js_urls, callback) {\n",
       "      window._bokeh_onload_callbacks.push(callback);\n",
       "      if (window._bokeh_is_loading > 0) {\n",
       "        console.log(\"Bokeh: BokehJS is being loaded, scheduling callback at\", now());\n",
       "        return null;\n",
       "      }\n",
       "      if (js_urls == null || js_urls.length === 0) {\n",
       "        run_callbacks();\n",
       "        return null;\n",
       "      }\n",
       "      console.log(\"Bokeh: BokehJS not loaded, scheduling load and callback at\", now());\n",
       "      window._bokeh_is_loading = js_urls.length;\n",
       "      for (var i = 0; i < js_urls.length; i++) {\n",
       "        var url = js_urls[i];\n",
       "        var s = document.createElement('script');\n",
       "        s.src = url;\n",
       "        s.async = false;\n",
       "        s.onreadystatechange = s.onload = function() {\n",
       "          window._bokeh_is_loading--;\n",
       "          if (window._bokeh_is_loading === 0) {\n",
       "            console.log(\"Bokeh: all BokehJS libraries loaded\");\n",
       "            run_callbacks()\n",
       "          }\n",
       "        };\n",
       "        s.onerror = function() {\n",
       "          console.warn(\"failed to load library \" + url);\n",
       "        };\n",
       "        console.log(\"Bokeh: injecting script tag for BokehJS library: \", url);\n",
       "        document.getElementsByTagName(\"head\")[0].appendChild(s);\n",
       "      }\n",
       "    };var element = document.getElementById(\"3dd52b1c-6818-426e-beff-33a6799db066\");\n",
       "    if (element == null) {\n",
       "      console.log(\"Bokeh: ERROR: autoload.js configured with elementid '3dd52b1c-6818-426e-beff-33a6799db066' but no matching script tag was found. \")\n",
       "      return false;\n",
       "    }\n",
       "  \n",
       "    var js_urls = [];\n",
       "  \n",
       "    var inline_js = [\n",
       "      function(Bokeh) {\n",
       "        Bokeh.$(function() {\n",
       "            var docs_json = {\"42969b81-fd87-4e49-bd91-e44638a4c3eb\":{\"roots\":{\"references\":[{\"attributes\":{},\"id\":\"0b7b9289-932f-4044-95b6-e03af7de9980\",\"type\":\"ToolEvents\"},{\"attributes\":{\"days\":[1,2,3,4,5,6,7,8,9,10,11,12,13,14,15,16,17,18,19,20,21,22,23,24,25,26,27,28,29,30,31]},\"id\":\"667df78a-4458-4c71-979f-07d9ba70c065\",\"type\":\"DaysTicker\"},{\"attributes\":{\"axis_label\":\"Time\",\"formatter\":{\"id\":\"ed1fe831-46d8-447b-ba76-f64390e3315e\",\"type\":\"DatetimeTickFormatter\"},\"plot\":{\"id\":\"eb03e0ee-35bc-4404-ba0f-484317fd4927\",\"subtype\":\"Figure\",\"type\":\"Plot\"},\"ticker\":{\"id\":\"1af0e77f-2246-45dd-9daa-13dd787ef6ef\",\"type\":\"DatetimeTicker\"}},\"id\":\"96ccc41f-3560-49b6-8ed5-4ed1be99c522\",\"type\":\"DatetimeAxis\"},{\"attributes\":{},\"id\":\"0f63e8df-3012-4cea-9dd9-4f0127316971\",\"type\":\"YearsTicker\"},{\"attributes\":{\"bottom\":{\"field\":\"bottom\"},\"fill_alpha\":{\"value\":0.1},\"fill_color\":{\"value\":\"#1f77b4\"},\"left\":{\"field\":\"left\"},\"line_alpha\":{\"value\":0.1},\"line_color\":{\"value\":\"#1f77b4\"},\"right\":{\"field\":\"right\"},\"top\":{\"field\":\"top\"}},\"id\":\"2d5dfcb8-4938-479e-9c3e-bc851e58f59a\",\"type\":\"Quad\"},{\"attributes\":{\"callback\":null},\"id\":\"5a1cfa47-cb43-42fd-8dd1-f1438f675f01\",\"type\":\"DataRange1d\"},{\"attributes\":{\"bottom\":{\"field\":\"bottom\"},\"fill_color\":{\"field\":\"color\"},\"left\":{\"field\":\"left\"},\"line_color\":{\"field\":\"color\"},\"right\":{\"field\":\"right\"},\"top\":{\"field\":\"top\"}},\"id\":\"91f5f8b0-f607-4129-a407-18ba676a1d84\",\"type\":\"Quad\"},{\"attributes\":{\"data_source\":{\"id\":\"8e43bbbe-e4f6-4001-bc27-0f328d02d96c\",\"type\":\"ColumnDataSource\"},\"glyph\":{\"id\":\"91f5f8b0-f607-4129-a407-18ba676a1d84\",\"type\":\"Quad\"},\"hover_glyph\":null,\"nonselection_glyph\":{\"id\":\"2d5dfcb8-4938-479e-9c3e-bc851e58f59a\",\"type\":\"Quad\"},\"selection_glyph\":null},\"id\":\"48c95c67-657c-4988-a012-5406ac38dd5f\",\"type\":\"GlyphRenderer\"},{\"attributes\":{\"base\":60,\"mantissas\":[1,2,5,10,15,20,30],\"max_interval\":1800000.0,\"min_interval\":1000.0,\"num_minor_ticks\":0},\"id\":\"f652d8ae-4f91-417d-a349-12d0a19feb61\",\"type\":\"AdaptiveTicker\"},{\"attributes\":{\"axis_label\":\"Val\",\"formatter\":{\"id\":\"1de02f47-12b4-4d3c-970b-b567c2f7b64d\",\"type\":\"BasicTickFormatter\"},\"plot\":{\"id\":\"eb03e0ee-35bc-4404-ba0f-484317fd4927\",\"subtype\":\"Figure\",\"type\":\"Plot\"},\"ticker\":{\"id\":\"bee8163b-7bd3-47a9-a37c-cc9dc48d7c3d\",\"type\":\"BasicTicker\"}},\"id\":\"1afb1b51-cf68-44bb-b09b-03e16edbc269\",\"type\":\"LinearAxis\"},{\"attributes\":{\"days\":[1,15]},\"id\":\"aa77799c-60d0-49f3-a2e8-1cab19090635\",\"type\":\"DaysTicker\"},{\"attributes\":{\"below\":[{\"id\":\"96ccc41f-3560-49b6-8ed5-4ed1be99c522\",\"type\":\"DatetimeAxis\"}],\"left\":[{\"id\":\"1afb1b51-cf68-44bb-b09b-03e16edbc269\",\"type\":\"LinearAxis\"}],\"plot_height\":500,\"plot_width\":700,\"renderers\":[{\"id\":\"96ccc41f-3560-49b6-8ed5-4ed1be99c522\",\"type\":\"DatetimeAxis\"},{\"id\":\"83c7f03d-4981-4aa4-9e90-ee039bf24207\",\"type\":\"Grid\"},{\"id\":\"1afb1b51-cf68-44bb-b09b-03e16edbc269\",\"type\":\"LinearAxis\"},{\"id\":\"fbff2aa0-6b5a-41c1-9e8e-1adb1e778dd3\",\"type\":\"Grid\"},{\"id\":\"48c95c67-657c-4988-a012-5406ac38dd5f\",\"type\":\"GlyphRenderer\"}],\"title\":\"FI chart\",\"tool_events\":{\"id\":\"0b7b9289-932f-4044-95b6-e03af7de9980\",\"type\":\"ToolEvents\"},\"tools\":[{\"id\":\"566d09b9-07f7-484b-af23-f233fc9735de\",\"type\":\"CrosshairTool\"},{\"id\":\"fa4fa0db-4101-4285-bc6b-0e8f88b3796a\",\"type\":\"PanTool\"},{\"id\":\"776c8b4a-67ea-44c1-8ba6-9d125592e23c\",\"type\":\"ResetTool\"},{\"id\":\"7af09a2d-4525-444c-8153-32cf8c527af1\",\"type\":\"ResizeTool\"},{\"id\":\"1cc9981e-1405-49dc-80ab-8971942976ba\",\"type\":\"WheelZoomTool\"}],\"x_range\":{\"id\":\"00fb66b8-c906-4224-a8ec-7ea21f26deae\",\"type\":\"DataRange1d\"},\"y_range\":{\"id\":\"5a1cfa47-cb43-42fd-8dd1-f1438f675f01\",\"type\":\"DataRange1d\"}},\"id\":\"eb03e0ee-35bc-4404-ba0f-484317fd4927\",\"subtype\":\"Figure\",\"type\":\"Plot\"},{\"attributes\":{\"months\":[0,4,8]},\"id\":\"ee2ac10a-ec4c-451a-83ae-f77e607df01a\",\"type\":\"MonthsTicker\"},{\"attributes\":{\"base\":24,\"mantissas\":[1,2,4,6,8,12],\"max_interval\":43200000.0,\"min_interval\":3600000.0,\"num_minor_ticks\":0},\"id\":\"4da36c52-be3b-4025-90d1-576bb8687cd0\",\"type\":\"AdaptiveTicker\"},{\"attributes\":{\"plot\":{\"id\":\"eb03e0ee-35bc-4404-ba0f-484317fd4927\",\"subtype\":\"Figure\",\"type\":\"Plot\"},\"ticker\":{\"id\":\"1af0e77f-2246-45dd-9daa-13dd787ef6ef\",\"type\":\"DatetimeTicker\"}},\"id\":\"83c7f03d-4981-4aa4-9e90-ee039bf24207\",\"type\":\"Grid\"},{\"attributes\":{\"months\":[0,6]},\"id\":\"ccccda61-9de7-46dc-bd8a-22cf98463a6d\",\"type\":\"MonthsTicker\"},{\"attributes\":{\"days\":[1,8,15,22]},\"id\":\"6c87056d-ec4e-441c-b82e-2ff8fd17075a\",\"type\":\"DaysTicker\"},{\"attributes\":{\"callback\":null},\"id\":\"00fb66b8-c906-4224-a8ec-7ea21f26deae\",\"type\":\"DataRange1d\"},{\"attributes\":{},\"id\":\"1de02f47-12b4-4d3c-970b-b567c2f7b64d\",\"type\":\"BasicTickFormatter\"},{\"attributes\":{\"num_minor_ticks\":5},\"id\":\"1af0e77f-2246-45dd-9daa-13dd787ef6ef\",\"type\":\"DatetimeTicker\"},{\"attributes\":{},\"id\":\"ed1fe831-46d8-447b-ba76-f64390e3315e\",\"type\":\"DatetimeTickFormatter\"},{\"attributes\":{\"dimension\":1,\"plot\":{\"id\":\"eb03e0ee-35bc-4404-ba0f-484317fd4927\",\"subtype\":\"Figure\",\"type\":\"Plot\"},\"ticker\":{\"id\":\"bee8163b-7bd3-47a9-a37c-cc9dc48d7c3d\",\"type\":\"BasicTicker\"}},\"id\":\"fbff2aa0-6b5a-41c1-9e8e-1adb1e778dd3\",\"type\":\"Grid\"},{\"attributes\":{\"months\":[0,1,2,3,4,5,6,7,8,9,10,11]},\"id\":\"0e95b44c-fd98-4418-b8a8-0e6f4ec0bcfc\",\"type\":\"MonthsTicker\"},{\"attributes\":{\"plot\":{\"id\":\"eb03e0ee-35bc-4404-ba0f-484317fd4927\",\"subtype\":\"Figure\",\"type\":\"Plot\"}},\"id\":\"566d09b9-07f7-484b-af23-f233fc9735de\",\"type\":\"CrosshairTool\"},{\"attributes\":{\"plot\":{\"id\":\"eb03e0ee-35bc-4404-ba0f-484317fd4927\",\"subtype\":\"Figure\",\"type\":\"Plot\"}},\"id\":\"7af09a2d-4525-444c-8153-32cf8c527af1\",\"type\":\"ResizeTool\"},{\"attributes\":{\"callback\":null,\"column_names\":[\"color\",\"left\",\"top\",\"index\",\"bottom\",\"right\"],\"data\":{\"bottom\":[-67.7,0.0,15.0,30.0,-65.4,0.0,15.0,30.049950000000003,-63.10000000000001,0.0,15.0,30.100066333500003,-60.80000000000001,0.0,15.0,30.15034955439056,-58.500000000000014,0.0,15.0,30.200800218406677,-56.20000000000002,0.0,15.0,30.251418883133972,-53.90000000000002,0.0,15.0,30.30220610801481,-51.60000000000002,0.0,15.0,30.353162454354504,-49.300000000000026,0.0,15.0,30.404288485327505,-47.00000000000003,0.0,15.0,30.455584765983645,-44.70000000000003,0.0,15.0,30.50705186325437,-42.400000000000034,0.0,15.0,30.558690345959008,-40.10000000000004,0.0,15.0,30.61050078481105,-37.80000000000004,0.0,15.0,30.662483752424475,-35.50000000000004,0.0,15.0,30.71463982332005,-33.200000000000045,0.0,15.0,30.766969573931704,-30.900000000000045,0.0,15.0,30.8194735826129,-28.600000000000044,0.0,15.0,30.872152429643002,-26.300000000000043,0.0,15.0,30.925006697233712,-24.000000000000043,0.0,15.0,30.978036969535502,-21.700000000000042,0.0,15.0,31.031243832644055,-19.40000000000004,0.0,15.0,31.08462787460676,-17.10000000000004,0.0,15.0,31.1381896854292,-14.80000000000004,0.0,15.0,31.19192985708168,-12.500000000000039,0.0,15.0,31.245848983505763,-10.200000000000038,0.0,15.0,31.299947660620838,-7.9000000000000385,0.0,15.0,31.354226486330706,-5.600000000000039,0.0,15.0,31.408686060530187,-3.300000000000039,0.0,15.0,31.463326985111753,-1.000000000000039,0.0,15.0,31.518149863972177,1.2999999999999607,0.0,15.0,31.573155303019206,0.0,0.0,18.59999999999996,35.228343910178225,0.0,0.0,20.89999999999996,37.583716295399114,0.0,0.0,23.19999999999996,39.9392730706628,0.0,0.0,25.49999999999996,42.29501484998811,0.0,0.0,27.79999999999996,44.65094224943857,0.0,0.0,30.099999999999962,47.007055887129205,0.0,0.0,30.099999999999962,47.06335638323335,0.0,0.0,30.099999999999962,49.41984435998951,0.0,0.0,30.099999999999962,51.78417944170828,0.0,0.0,30.099999999999962,54.15638775924917,0.0,0.0,30.099999999999962,56.53649553048747,0.0,0.0,30.099999999999962,58.924529060604,0.0,0.0,30.099999999999962,61.32051474237582,0.0,0.0,30.099999999999962,63.72447905646793,0.0,0.0,30.099999999999962,66.13644857172596,0.0,0.0,30.099999999999962,68.55644994546981,0.0,0.0,30.099999999999962,70.98450992378822,0.0,0.0,30.099999999999962,73.42065534183445,0.0,0.0,30.099999999999962,75.86491312412275,0.0,0.0,30.099999999999962,78.31731028482608,0.0,0.0,30.099999999999962,80.77787392807456,0.0,0.0,30.099999999999962,83.24663124825504,0.0,0.0,30.099999999999962,85.72360953031173,0.0,0.0,30.099999999999962,88.20883615004767,0.0,0.0,30.099999999999962,90.70233857442733,0.0,0.0,30.099999999999962,93.20414436188017,0.0,0.0,30.099999999999962,95.71428116260525,0.0,0.0,30.099999999999962,98.23277671887672,0.0,0.0,30.099999999999962,100.75965886535059],\"color\":[\"#FE642E\",\"green\",\"#BF00FF\",\"#BDBDBD\",\"#FE642E\",\"green\",\"#BF00FF\",\"#BDBDBD\",\"#FE642E\",\"green\",\"#BF00FF\",\"#BDBDBD\",\"#FE642E\",\"green\",\"#BF00FF\",\"#BDBDBD\",\"#FE642E\",\"green\",\"#BF00FF\",\"#BDBDBD\",\"#FE642E\",\"green\",\"#BF00FF\",\"#BDBDBD\",\"#FE642E\",\"green\",\"#BF00FF\",\"#BDBDBD\",\"#FE642E\",\"green\",\"#BF00FF\",\"#BDBDBD\",\"#FE642E\",\"green\",\"#BF00FF\",\"#BDBDBD\",\"#FE642E\",\"green\",\"#BF00FF\",\"#BDBDBD\",\"#FE642E\",\"green\",\"#BF00FF\",\"#BDBDBD\",\"#FE642E\",\"green\",\"#BF00FF\",\"#BDBDBD\",\"#FE642E\",\"green\",\"#BF00FF\",\"#BDBDBD\",\"#FE642E\",\"green\",\"#BF00FF\",\"#BDBDBD\",\"#FE642E\",\"green\",\"#BF00FF\",\"#BDBDBD\",\"#FE642E\",\"green\",\"#BF00FF\",\"#BDBDBD\",\"#FE642E\",\"green\",\"#BF00FF\",\"#BDBDBD\",\"#FE642E\",\"green\",\"#BF00FF\",\"#BDBDBD\",\"#FE642E\",\"green\",\"#BF00FF\",\"#BDBDBD\",\"#FE642E\",\"green\",\"#BF00FF\",\"#BDBDBD\",\"#FE642E\",\"green\",\"#BF00FF\",\"#BDBDBD\",\"#FE642E\",\"green\",\"#BF00FF\",\"#BDBDBD\",\"#FE642E\",\"green\",\"#BF00FF\",\"#BDBDBD\",\"#FE642E\",\"green\",\"#BF00FF\",\"#BDBDBD\",\"#FE642E\",\"green\",\"#BF00FF\",\"#BDBDBD\",\"#FE642E\",\"green\",\"#BF00FF\",\"#BDBDBD\",\"#FE642E\",\"green\",\"#BF00FF\",\"#BDBDBD\",\"#FE642E\",\"green\",\"#BF00FF\",\"#BDBDBD\",\"#FE642E\",\"green\",\"#BF00FF\",\"#BDBDBD\",\"#FE642E\",\"green\",\"#BF00FF\",\"#BDBDBD\",\"#FE642E\",\"green\",\"#BF00FF\",\"#BDBDBD\",\"#FE642E\",\"green\",\"#BF00FF\",\"#BDBDBD\",\"#FE642E\",\"green\",\"#BF00FF\",\"#BDBDBD\",\"#FE642E\",\"green\",\"#BF00FF\",\"#BDBDBD\",\"#FE642E\",\"green\",\"#BF00FF\",\"#BDBDBD\",\"#FE642E\",\"green\",\"#BF00FF\",\"#BDBDBD\",\"#FE642E\",\"green\",\"#BF00FF\",\"#BDBDBD\",\"#FE642E\",\"green\",\"#BF00FF\",\"#BDBDBD\",\"#FE642E\",\"green\",\"#BF00FF\",\"#BDBDBD\",\"#FE642E\",\"green\",\"#BF00FF\",\"#BDBDBD\",\"#FE642E\",\"green\",\"#BF00FF\",\"#BDBDBD\",\"#FE642E\",\"green\",\"#BF00FF\",\"#BDBDBD\",\"#FE642E\",\"green\",\"#BF00FF\",\"#BDBDBD\",\"#FE642E\",\"green\",\"#BF00FF\",\"#BDBDBD\",\"#FE642E\",\"green\",\"#BF00FF\",\"#BDBDBD\",\"#FE642E\",\"green\",\"#BF00FF\",\"#BDBDBD\",\"#FE642E\",\"green\",\"#BF00FF\",\"#BDBDBD\",\"#FE642E\",\"green\",\"#BF00FF\",\"#BDBDBD\",\"#FE642E\",\"green\",\"#BF00FF\",\"#BDBDBD\",\"#FE642E\",\"green\",\"#BF00FF\",\"#BDBDBD\",\"#FE642E\",\"green\",\"#BF00FF\",\"#BDBDBD\",\"#FE642E\",\"green\",\"#BF00FF\",\"#BDBDBD\",\"#FE642E\",\"green\",\"#BF00FF\",\"#BDBDBD\",\"#FE642E\",\"green\",\"#BF00FF\",\"#BDBDBD\",\"#FE642E\",\"green\",\"#BF00FF\",\"#BDBDBD\",\"#FE642E\",\"green\",\"#BF00FF\",\"#BDBDBD\",\"#FE642E\",\"green\",\"#BF00FF\",\"#BDBDBD\",\"#FE642E\",\"green\",\"#BF00FF\",\"#BDBDBD\",\"#FE642E\",\"green\",\"#BF00FF\",\"#BDBDBD\",\"#FE642E\",\"green\",\"#BF00FF\",\"#BDBDBD\"],\"index\":[0,1,2,3,4,5,6,7,8,9,10,11,12,13,14,15,16,17,18,19,20,21,22,23,24,25,26,27,28,29,30,31,32,33,34,35,36,37,38,39,40,41,42,43,44,45,46,47,48,49,50,51,52,53,54,55,56,57,58,59,60,61,62,63,64,65,66,67,68,69,70,71,72,73,74,75,76,77,78,79,80,81,82,83,84,85,86,87,88,89,90,91,92,93,94,95,96,97,98,99,100,101,102,103,104,105,106,107,108,109,110,111,112,113,114,115,116,117,118,119,120,121,122,123,124,125,126,127,128,129,130,131,132,133,134,135,136,137,138,139,140,141,142,143,144,145,146,147,148,149,150,151,152,153,154,155,156,157,158,159,160,161,162,163,164,165,166,167,168,169,170,171,172,173,174,175,176,177,178,179,180,181,182,183,184,185,186,187,188,189,190,191,192,193,194,195,196,197,198,199,200,201,202,203,204,205,206,207,208,209,210,211,212,213,214,215,216,217,218,219,220,221,222,223,224,225,226,227,228,229,230,231,232,233,234,235,236,237,238,239],\"left\":[1467331200000.0,1467331200000.0,1467331200000.0,1467331200000.0,1470009600000.0,1470009600000.0,1470009600000.0,1470009600000.0,1472688000000.0,1472688000000.0,1472688000000.0,1472688000000.0,1475280000000.0,1475280000000.0,1475280000000.0,1475280000000.0,1477958400000.0,1477958400000.0,1477958400000.0,1477958400000.0,1480550400000.0,1480550400000.0,1480550400000.0,1480550400000.0,1483228800000.0,1483228800000.0,1483228800000.0,1483228800000.0,1485907200000.0,1485907200000.0,1485907200000.0,1485907200000.0,1488326400000.0,1488326400000.0,1488326400000.0,1488326400000.0,1491004800000.0,1491004800000.0,1491004800000.0,1491004800000.0,1493596800000.0,1493596800000.0,1493596800000.0,1493596800000.0,1496275200000.0,1496275200000.0,1496275200000.0,1496275200000.0,1498867200000.0,1498867200000.0,1498867200000.0,1498867200000.0,1501545600000.0,1501545600000.0,1501545600000.0,1501545600000.0,1504224000000.0,1504224000000.0,1504224000000.0,1504224000000.0,1506816000000.0,1506816000000.0,1506816000000.0,1506816000000.0,1509494400000.0,1509494400000.0,1509494400000.0,1509494400000.0,1512086400000.0,1512086400000.0,1512086400000.0,1512086400000.0,1514764800000.0,1514764800000.0,1514764800000.0,1514764800000.0,1517443200000.0,1517443200000.0,1517443200000.0,1517443200000.0,1519862400000.0,1519862400000.0,1519862400000.0,1519862400000.0,1522540800000.0,1522540800000.0,1522540800000.0,1522540800000.0,1525132800000.0,1525132800000.0,1525132800000.0,1525132800000.0,1527811200000.0,1527811200000.0,1527811200000.0,1527811200000.0,1530403200000.0,1530403200000.0,1530403200000.0,1530403200000.0,1533081600000.0,1533081600000.0,1533081600000.0,1533081600000.0,1535760000000.0,1535760000000.0,1535760000000.0,1535760000000.0,1538352000000.0,1538352000000.0,1538352000000.0,1538352000000.0,1541030400000.0,1541030400000.0,1541030400000.0,1541030400000.0,1543622400000.0,1543622400000.0,1543622400000.0,1543622400000.0,1546300800000.0,1546300800000.0,1546300800000.0,1546300800000.0,1548979200000.0,1548979200000.0,1548979200000.0,1548979200000.0,1551398400000.0,1551398400000.0,1551398400000.0,1551398400000.0,1554076800000.0,1554076800000.0,1554076800000.0,1554076800000.0,1556668800000.0,1556668800000.0,1556668800000.0,1556668800000.0,1559347200000.0,1559347200000.0,1559347200000.0,1559347200000.0,1561939200000.0,1561939200000.0,1561939200000.0,1561939200000.0,1564617600000.0,1564617600000.0,1564617600000.0,1564617600000.0,1567296000000.0,1567296000000.0,1567296000000.0,1567296000000.0,1569888000000.0,1569888000000.0,1569888000000.0,1569888000000.0,1572566400000.0,1572566400000.0,1572566400000.0,1572566400000.0,1575158400000.0,1575158400000.0,1575158400000.0,1575158400000.0,1577836800000.0,1577836800000.0,1577836800000.0,1577836800000.0,1580515200000.0,1580515200000.0,1580515200000.0,1580515200000.0,1583020800000.0,1583020800000.0,1583020800000.0,1583020800000.0,1585699200000.0,1585699200000.0,1585699200000.0,1585699200000.0,1588291200000.0,1588291200000.0,1588291200000.0,1588291200000.0,1590969600000.0,1590969600000.0,1590969600000.0,1590969600000.0,1593561600000.0,1593561600000.0,1593561600000.0,1593561600000.0,1596240000000.0,1596240000000.0,1596240000000.0,1596240000000.0,1598918400000.0,1598918400000.0,1598918400000.0,1598918400000.0,1601510400000.0,1601510400000.0,1601510400000.0,1601510400000.0,1604188800000.0,1604188800000.0,1604188800000.0,1604188800000.0,1606780800000.0,1606780800000.0,1606780800000.0,1606780800000.0,1609459200000.0,1609459200000.0,1609459200000.0,1609459200000.0,1612137600000.0,1612137600000.0,1612137600000.0,1612137600000.0,1614556800000.0,1614556800000.0,1614556800000.0,1614556800000.0,1617235200000.0,1617235200000.0,1617235200000.0,1617235200000.0,1619827200000.0,1619827200000.0,1619827200000.0,1619827200000.0,1622505600000.0,1622505600000.0,1622505600000.0,1622505600000.0],\"right\":[1470009600000.0,1470009600000.0,1470009600000.0,1470009600000.0,1472688000000.0,1472688000000.0,1472688000000.0,1472688000000.0,1475280000000.0,1475280000000.0,1475280000000.0,1475280000000.0,1477958400000.0,1477958400000.0,1477958400000.0,1477958400000.0,1480550400000.0,1480550400000.0,1480550400000.0,1480550400000.0,1483228800000.0,1483228800000.0,1483228800000.0,1483228800000.0,1485907200000.0,1485907200000.0,1485907200000.0,1485907200000.0,1488326400000.0,1488326400000.0,1488326400000.0,1488326400000.0,1491004800000.0,1491004800000.0,1491004800000.0,1491004800000.0,1493596800000.0,1493596800000.0,1493596800000.0,1493596800000.0,1496275200000.0,1496275200000.0,1496275200000.0,1496275200000.0,1498867200000.0,1498867200000.0,1498867200000.0,1498867200000.0,1501545600000.0,1501545600000.0,1501545600000.0,1501545600000.0,1504224000000.0,1504224000000.0,1504224000000.0,1504224000000.0,1506816000000.0,1506816000000.0,1506816000000.0,1506816000000.0,1509494400000.0,1509494400000.0,1509494400000.0,1509494400000.0,1512086400000.0,1512086400000.0,1512086400000.0,1512086400000.0,1514764800000.0,1514764800000.0,1514764800000.0,1514764800000.0,1517443200000.0,1517443200000.0,1517443200000.0,1517443200000.0,1519862400000.0,1519862400000.0,1519862400000.0,1519862400000.0,1522540800000.0,1522540800000.0,1522540800000.0,1522540800000.0,1525132800000.0,1525132800000.0,1525132800000.0,1525132800000.0,1527811200000.0,1527811200000.0,1527811200000.0,1527811200000.0,1530403200000.0,1530403200000.0,1530403200000.0,1530403200000.0,1533081600000.0,1533081600000.0,1533081600000.0,1533081600000.0,1535760000000.0,1535760000000.0,1535760000000.0,1535760000000.0,1538352000000.0,1538352000000.0,1538352000000.0,1538352000000.0,1541030400000.0,1541030400000.0,1541030400000.0,1541030400000.0,1543622400000.0,1543622400000.0,1543622400000.0,1543622400000.0,1546300800000.0,1546300800000.0,1546300800000.0,1546300800000.0,1548979200000.0,1548979200000.0,1548979200000.0,1548979200000.0,1551398400000.0,1551398400000.0,1551398400000.0,1551398400000.0,1554076800000.0,1554076800000.0,1554076800000.0,1554076800000.0,1556668800000.0,1556668800000.0,1556668800000.0,1556668800000.0,1559347200000.0,1559347200000.0,1559347200000.0,1559347200000.0,1561939200000.0,1561939200000.0,1561939200000.0,1561939200000.0,1564617600000.0,1564617600000.0,1564617600000.0,1564617600000.0,1567296000000.0,1567296000000.0,1567296000000.0,1567296000000.0,1569888000000.0,1569888000000.0,1569888000000.0,1569888000000.0,1572566400000.0,1572566400000.0,1572566400000.0,1572566400000.0,1575158400000.0,1575158400000.0,1575158400000.0,1575158400000.0,1577836800000.0,1577836800000.0,1577836800000.0,1577836800000.0,1580515200000.0,1580515200000.0,1580515200000.0,1580515200000.0,1583020800000.0,1583020800000.0,1583020800000.0,1583020800000.0,1585699200000.0,1585699200000.0,1585699200000.0,1585699200000.0,1588291200000.0,1588291200000.0,1588291200000.0,1588291200000.0,1590969600000.0,1590969600000.0,1590969600000.0,1590969600000.0,1593561600000.0,1593561600000.0,1593561600000.0,1593561600000.0,1596240000000.0,1596240000000.0,1596240000000.0,1596240000000.0,1598918400000.0,1598918400000.0,1598918400000.0,1598918400000.0,1601510400000.0,1601510400000.0,1601510400000.0,1601510400000.0,1604188800000.0,1604188800000.0,1604188800000.0,1604188800000.0,1606780800000.0,1606780800000.0,1606780800000.0,1606780800000.0,1609459200000.0,1609459200000.0,1609459200000.0,1609459200000.0,1612137600000.0,1612137600000.0,1612137600000.0,1612137600000.0,1614556800000.0,1614556800000.0,1614556800000.0,1614556800000.0,1617235200000.0,1617235200000.0,1617235200000.0,1617235200000.0,1619827200000.0,1619827200000.0,1619827200000.0,1619827200000.0,1622505600000.0,1622505600000.0,1622505600000.0,1622505600000.0,1625097600000.0,1625097600000.0,1625097600000.0,1625097600000.0],\"top\":[0.0,15.0,30.0,112.34994999999999,0.0,15.0,30.049950000000003,114.70006633349999,0.0,15.0,30.100066333500003,117.05034955439054,0.0,15.0,30.15034955439056,119.40080021840666,0.0,15.0,30.200800218406677,121.75141888313395,0.0,15.0,30.251418883133972,124.1022061080148,0.0,15.0,30.30220610801481,126.45316245435448,0.0,15.0,30.353162454354504,128.80428848532748,0.0,15.0,30.404288485327505,131.15558476598363,0.0,15.0,30.455584765983645,133.50705186325433,0.0,15.0,30.50705186325437,135.85869034595896,0.0,15.0,30.558690345959008,138.21050078481102,0.0,15.0,30.61050078481105,140.56248375242444,0.0,15.0,30.662483752424475,142.91463982332002,0.0,15.0,30.71463982332005,145.26696957393165,0.0,15.0,30.766969573931704,147.61947358261284,0.0,15.0,30.8194735826129,149.97215242964296,0.0,15.0,30.872152429643002,152.32500669723365,0.0,15.0,30.925006697233712,154.67803696953547,0.0,15.0,30.978036969535502,157.031243832644,0.0,15.0,31.031243832644055,159.3846278746067,0.0,15.0,31.08462787460676,161.73818968542918,0.0,15.0,31.1381896854292,164.09192985708162,0.0,15.0,31.19192985708168,166.44584898350573,0.0,15.0,31.245848983505763,168.7999476606208,0.0,15.0,31.299947660620838,171.15422648633066,0.0,15.0,31.354226486330706,173.50868606053015,0.0,15.0,31.408686060530187,175.8633269851117,0.0,15.0,31.463326985111753,178.21814986397214,0.0,15.0,31.518149863972177,180.57315530301918,0.0,15.0,31.573155303019206,182.92834391017823,0.0,18.59999999999996,35.228343910178225,185.28371629539913,0.0,20.89999999999996,37.583716295399114,187.6392730706628,0.0,23.19999999999996,39.9392730706628,189.9950148499881,0.0,25.49999999999996,42.29501484998811,192.3509422494386,0.0,27.79999999999996,44.65094224943857,194.7070558871292,0.0,30.099999999999962,47.007055887129205,197.06335638323336,0.0,30.099999999999962,47.06335638323335,199.41984435998953,0.0,30.099999999999962,49.41984435998951,201.7841794417083,0.0,30.099999999999962,51.78417944170828,204.15638775924918,0.0,30.099999999999962,54.15638775924917,206.53649553048749,0.0,30.099999999999962,56.53649553048747,208.92452906060402,0.0,30.099999999999962,58.924529060604,211.32051474237582,0.0,30.099999999999962,61.32051474237582,213.72447905646794,0.0,30.099999999999962,63.72447905646793,216.13644857172596,0.0,30.099999999999962,66.13644857172596,218.5564499454698,0.0,30.099999999999962,68.55644994546981,220.98450992378824,0.0,30.099999999999962,70.98450992378822,223.42065534183445,0.0,30.099999999999962,73.42065534183445,225.86491312412275,0.0,30.099999999999962,75.86491312412275,228.31731028482608,0.0,30.099999999999962,78.31731028482608,230.77787392807454,0.0,30.099999999999962,80.77787392807456,233.24663124825503,0.0,30.099999999999962,83.24663124825504,235.72360953031173,0.0,30.099999999999962,85.72360953031173,238.20883615004766,0.0,30.099999999999962,88.20883615004767,240.70233857442733,0.0,30.099999999999962,90.70233857442733,243.20414436188017,0.0,30.099999999999962,93.20414436188017,245.71428116260523,0.0,30.099999999999962,95.71428116260525,248.23277671887672,0.0,30.099999999999962,98.23277671887672,250.7596588653506,0.0,30.099999999999962,100.75965886535059,253.2949555293722]}},\"id\":\"8e43bbbe-e4f6-4001-bc27-0f328d02d96c\",\"type\":\"ColumnDataSource\"},{\"attributes\":{\"days\":[1,4,7,10,13,16,19,22,25,28]},\"id\":\"38d61d43-48fa-4f29-8509-4a463deac7c7\",\"type\":\"DaysTicker\"},{\"attributes\":{\"plot\":{\"id\":\"eb03e0ee-35bc-4404-ba0f-484317fd4927\",\"subtype\":\"Figure\",\"type\":\"Plot\"}},\"id\":\"776c8b4a-67ea-44c1-8ba6-9d125592e23c\",\"type\":\"ResetTool\"},{\"attributes\":{\"plot\":{\"id\":\"eb03e0ee-35bc-4404-ba0f-484317fd4927\",\"subtype\":\"Figure\",\"type\":\"Plot\"}},\"id\":\"fa4fa0db-4101-4285-bc6b-0e8f88b3796a\",\"type\":\"PanTool\"},{\"attributes\":{},\"id\":\"bee8163b-7bd3-47a9-a37c-cc9dc48d7c3d\",\"type\":\"BasicTicker\"},{\"attributes\":{\"months\":[0,2,4,6,8,10]},\"id\":\"16daabba-3db3-462b-a0f3-8baa78d6ba86\",\"type\":\"MonthsTicker\"},{\"attributes\":{\"max_interval\":500.0,\"num_minor_ticks\":0},\"id\":\"92971f10-fc58-4d74-be0d-a1f253d0fedb\",\"type\":\"AdaptiveTicker\"},{\"attributes\":{\"plot\":{\"id\":\"eb03e0ee-35bc-4404-ba0f-484317fd4927\",\"subtype\":\"Figure\",\"type\":\"Plot\"}},\"id\":\"1cc9981e-1405-49dc-80ab-8971942976ba\",\"type\":\"WheelZoomTool\"}],\"root_ids\":[\"eb03e0ee-35bc-4404-ba0f-484317fd4927\"]},\"title\":\"Bokeh Application\",\"version\":\"0.11.1\"}};\n",
       "            var render_items = [{\"docid\":\"42969b81-fd87-4e49-bd91-e44638a4c3eb\",\"elementid\":\"3dd52b1c-6818-426e-beff-33a6799db066\",\"modelid\":\"eb03e0ee-35bc-4404-ba0f-484317fd4927\",\"notebook_comms_target\":\"afb6bb56-ce12-4788-91f4-078ba0e71f78\"}];\n",
       "            \n",
       "            Bokeh.embed.embed_items(docs_json, render_items);\n",
       "        });\n",
       "      },\n",
       "      function(Bokeh) {\n",
       "      }\n",
       "    ];\n",
       "  \n",
       "    function run_inline_js() {\n",
       "      for (var i = 0; i < inline_js.length; i++) {\n",
       "        inline_js[i](window.Bokeh);\n",
       "      }\n",
       "    }\n",
       "  \n",
       "    if (window._bokeh_is_loading === 0) {\n",
       "      console.log(\"Bokeh: BokehJS loaded, going straight to plotting\");\n",
       "      run_inline_js();\n",
       "    } else {\n",
       "      load_libs(js_urls, function() {\n",
       "        console.log(\"Bokeh: BokehJS plotting callback run at\", now());\n",
       "        run_inline_js();\n",
       "      });\n",
       "    }\n",
       "  }(this));\n",
       "</script>"
      ]
     },
     "metadata": {},
     "output_type": "display_data"
    },
    {
     "data": {
      "text/html": [
       "<p><code>&lt;Bokeh Notebook handle for <strong>In[6]</strong>&gt;</code></p>"
      ],
      "text/plain": [
       "<bokeh.io._CommsHandle at 0x7fd445a97898>"
      ]
     },
     "execution_count": 6,
     "metadata": {},
     "output_type": "execute_result"
    }
   ],
   "source": [
    "source=ColumnDataSource(bdf_quad)\n",
    "TOOLS=\"crosshair, pan, reset, resize, wheel_zoom\"\n",
    "\n",
    "plot = Figure(tools=TOOLS, x_axis_type='datetime', plot_height=500, \n",
    "              plot_width=700, title=\"FI chart\")\n",
    "\n",
    "#plot.add_tools(TapTool())\n",
    "plot.yaxis.axis_label = \"Val\"\n",
    "plot.xaxis.axis_label = \"Time\"\n",
    "\n",
    "renderer = plot.quad(source=source, left='left', right='right', \n",
    "                     bottom='bottom', top='top', color='color')\n",
    "\n",
    "#selected_q = Quad(fill_alpha=1, fill_color=\"green\", line_color=None)\n",
    "#nonselected_q = Quad(fill_alpha=0.2, fill_color=\"blue\", line_color=\"firebrick\")\n",
    "#renderer.selection_glyph = selected_q\n",
    "#renderer.nonselection_glyph = nonselected_q\n",
    "    \n",
    "show(plot)"
   ]
  },
  {
   "cell_type": "code",
   "execution_count": 7,
   "metadata": {
    "collapsed": false
   },
   "outputs": [
    {
     "name": "stdout",
     "output_type": "stream",
     "text": [
      "2 items passed\n"
     ]
    }
   ],
   "source": [
    "d1 = {'kind': 'job', \n",
    "      'monthly_income': 1.5, \n",
    "      'start_date': dt.date(2016, 6, 1)}\n",
    "\n",
    "d2 = {'kind': 'job', \n",
    "      'monthly_income': 1.5, \n",
    "      'start_date': dt.date(2016, 6, 1)}\n",
    "\n",
    "\n",
    "test2 = Portfolio(Asset(**d1),Asset(**d2) )\n",
    "test2.monthlyIncome()\n",
    "\n",
    "assert test2.monthly_income == 3.0, \"Income incorrect\""
   ]
  },
  {
   "cell_type": "code",
   "execution_count": null,
   "metadata": {
    "collapsed": false
   },
   "outputs": [],
   "source": []
  },
  {
   "cell_type": "code",
   "execution_count": 8,
   "metadata": {
    "collapsed": false
   },
   "outputs": [],
   "source": [
    "import datetime as dt"
   ]
  },
  {
   "cell_type": "code",
   "execution_count": 9,
   "metadata": {
    "collapsed": false
   },
   "outputs": [],
   "source": [
    "tdate = dt.date(2003,2,1)\n",
    "start = dt.date(2000,1,1)\n",
    "end = dt.date(2099,1,1)\n",
    "in_month = tdate >= start and tdate <= end"
   ]
  },
  {
   "cell_type": "code",
   "execution_count": null,
   "metadata": {
    "collapsed": false
   },
   "outputs": [],
   "source": []
  },
  {
   "cell_type": "code",
   "execution_count": null,
   "metadata": {
    "collapsed": false
   },
   "outputs": [],
   "source": []
  },
  {
   "cell_type": "code",
   "execution_count": null,
   "metadata": {
    "collapsed": true
   },
   "outputs": [],
   "source": []
  }
 ],
 "metadata": {
  "kernelspec": {
   "display_name": "Python 3",
   "language": "python",
   "name": "python3"
  },
  "language_info": {
   "codemirror_mode": {
    "name": "ipython",
    "version": 3
   },
   "file_extension": ".py",
   "mimetype": "text/x-python",
   "name": "python",
   "nbconvert_exporter": "python",
   "pygments_lexer": "ipython3",
   "version": "3.5.1"
  },
  "widgets": {
   "state": {},
   "version": "1.1.2"
  }
 },
 "nbformat": 4,
 "nbformat_minor": 0
}
