{
 "cells": [
  {
   "cell_type": "markdown",
   "metadata": {},
   "source": [
    "Notebook for hacking and development on the Fispy project."
   ]
  },
  {
   "cell_type": "code",
   "execution_count": 1,
   "metadata": {
    "collapsed": false
   },
   "outputs": [
    {
     "data": {
      "text/html": [
       "\n",
       "    <div class=\"bk-banner\">\n",
       "        <a href=\"http://bokeh.pydata.org\" target=\"_blank\" class=\"bk-logo bk-logo-small bk-logo-notebook\"></a>\n",
       "        <span id=\"a1e0390b-41cf-4a51-8310-dcc4d8afcf89\">Loading BokehJS ...</span>\n",
       "    </div>"
      ]
     },
     "metadata": {},
     "output_type": "display_data"
    },
    {
     "data": {
      "application/javascript": [
       "\n",
       "(function(global) {\n",
       "  function now() {\n",
       "    return new Date();\n",
       "  }\n",
       "\n",
       "  if (typeof (window._bokeh_onload_callbacks) === \"undefined\") {\n",
       "    window._bokeh_onload_callbacks = [];\n",
       "  }\n",
       "\n",
       "  function run_callbacks() {\n",
       "    window._bokeh_onload_callbacks.forEach(function(callback) { callback() });\n",
       "    delete window._bokeh_onload_callbacks\n",
       "    console.info(\"Bokeh: all callbacks have finished\");\n",
       "  }\n",
       "\n",
       "  function load_libs(js_urls, callback) {\n",
       "    window._bokeh_onload_callbacks.push(callback);\n",
       "    if (window._bokeh_is_loading > 0) {\n",
       "      console.log(\"Bokeh: BokehJS is being loaded, scheduling callback at\", now());\n",
       "      return null;\n",
       "    }\n",
       "    if (js_urls == null || js_urls.length === 0) {\n",
       "      run_callbacks();\n",
       "      return null;\n",
       "    }\n",
       "    console.log(\"Bokeh: BokehJS not loaded, scheduling load and callback at\", now());\n",
       "    window._bokeh_is_loading = js_urls.length;\n",
       "    for (var i = 0; i < js_urls.length; i++) {\n",
       "      var url = js_urls[i];\n",
       "      var s = document.createElement('script');\n",
       "      s.src = url;\n",
       "      s.async = false;\n",
       "      s.onreadystatechange = s.onload = function() {\n",
       "        window._bokeh_is_loading--;\n",
       "        if (window._bokeh_is_loading === 0) {\n",
       "          console.log(\"Bokeh: all BokehJS libraries loaded\");\n",
       "          run_callbacks()\n",
       "        }\n",
       "      };\n",
       "      s.onerror = function() {\n",
       "        console.warn(\"failed to load library \" + url);\n",
       "      };\n",
       "      console.log(\"Bokeh: injecting script tag for BokehJS library: \", url);\n",
       "      document.getElementsByTagName(\"head\")[0].appendChild(s);\n",
       "    }\n",
       "  };\n",
       "\n",
       "  var js_urls = ['https://cdn.pydata.org/bokeh/release/bokeh-0.11.1.min.js', 'https://cdn.pydata.org/bokeh/release/bokeh-widgets-0.11.1.min.js', 'https://cdn.pydata.org/bokeh/release/bokeh-compiler-0.11.1.min.js'];\n",
       "\n",
       "  var inline_js = [\n",
       "    function(Bokeh) {\n",
       "      Bokeh.set_log_level(\"info\");\n",
       "    },\n",
       "    \n",
       "    function(Bokeh) {\n",
       "      Bokeh.$(\"#a1e0390b-41cf-4a51-8310-dcc4d8afcf89\").text(\"BokehJS successfully loaded\");\n",
       "    },\n",
       "    function(Bokeh) {\n",
       "      console.log(\"Bokeh: injecting CSS: https://cdn.pydata.org/bokeh/release/bokeh-0.11.1.min.css\");\n",
       "      Bokeh.embed.inject_css(\"https://cdn.pydata.org/bokeh/release/bokeh-0.11.1.min.css\");\n",
       "      console.log(\"Bokeh: injecting CSS: https://cdn.pydata.org/bokeh/release/bokeh-widgets-0.11.1.min.css\");\n",
       "      Bokeh.embed.inject_css(\"https://cdn.pydata.org/bokeh/release/bokeh-widgets-0.11.1.min.css\");\n",
       "    }\n",
       "  ];\n",
       "\n",
       "  function run_inline_js() {\n",
       "    for (var i = 0; i < inline_js.length; i++) {\n",
       "      inline_js[i](window.Bokeh);\n",
       "    }\n",
       "  }\n",
       "\n",
       "  if (window._bokeh_is_loading === 0) {\n",
       "    console.log(\"Bokeh: BokehJS loaded, going straight to plotting\");\n",
       "    run_inline_js();\n",
       "  } else {\n",
       "    load_libs(js_urls, function() {\n",
       "      console.log(\"Bokeh: BokehJS plotting callback run at\", now());\n",
       "      run_inline_js();\n",
       "    });\n",
       "  }\n",
       "}(this));"
      ]
     },
     "metadata": {},
     "output_type": "display_data"
    }
   ],
   "source": [
    "import numpy as np\n",
    "import datetime as dt\n",
    "import pandas as pd\n",
    "from dateutil.relativedelta import relativedelta\n",
    "\n",
    "from bokeh.charts import Bar, output_file, show\n",
    "from bokeh.charts.attributes import cat, color\n",
    "from bokeh.charts.operations import blend\n",
    "from bokeh.charts.utils import df_from_json\n",
    "from bokeh.plotting import output_notebook, Figure\n",
    "from bokeh.models import ColumnDataSource, HoverTool, TapTool, Quad\n",
    "\n",
    "#from fispy.fispy import Asset, Portfolio\n",
    "\n",
    "output_notebook()"
   ]
  },
  {
   "cell_type": "markdown",
   "metadata": {},
   "source": [
    "### Testing for adding real stock data functions to investment assets "
   ]
  },
  {
   "cell_type": "code",
   "execution_count": null,
   "metadata": {
    "collapsed": false
   },
   "outputs": [],
   "source": [
    "from pandas_datareader import data, wb\n",
    "\n",
    "    \n",
    "class Investment(object):\n",
    "    def __init__(self, d):\n",
    "        self.value = None\n",
    "        self.roi = None\n",
    "        self.dividend = None\n",
    "        self.month_index = 0\n",
    "        self.period = d['period']\n",
    "        self.symbols = d['symbols']\n",
    "        self.historical = []\n",
    "    \n",
    "    def buyStock(self, addQuantity):\n",
    "        self.value += addQuantity\n",
    "    \n",
    "    def dividend_reinvest(self):\n",
    "        self.value += self.dividend\n",
    "    \n",
    "    def appreciate(self):\n",
    "        self.dividend = self.value * self.roi\n",
    "\n",
    "    def add_historical_growth(self):\n",
    "        delta = self.historical.values[self.month_index + 1]/self.historical.values[self.month_index]\n",
    "        self.value = self.value * delta\n",
    "        self.month_index += 1\n",
    "    \n",
    "    def fetch_real_stock_data(self):\n",
    "        ls_key = 'Adj Close' \n",
    "        end = dt.datetime(year=dt.datetime.now().year,\n",
    "                            month=dt.datetime.now().month, day=1)\n",
    "        start = end - relativedelta(months=self.period + 2) \n",
    "        f = data.DataReader(self.symbols, 'yahoo', start, end)\n",
    "        cleanData = f.ix[ls_key]\n",
    "        df = pd.DataFrame(cleanData)\n",
    "        self.historical = df.asfreq('m', method='pad',how='end')  "
   ]
  },
  {
   "cell_type": "code",
   "execution_count": null,
   "metadata": {
    "collapsed": false
   },
   "outputs": [],
   "source": []
  },
  {
   "cell_type": "code",
   "execution_count": null,
   "metadata": {
    "collapsed": false
   },
   "outputs": [],
   "source": [
    "t = Investment(d=d)"
   ]
  },
  {
   "cell_type": "code",
   "execution_count": null,
   "metadata": {
    "collapsed": false
   },
   "outputs": [],
   "source": [
    "t.fetch_real_stock_data()"
   ]
  },
  {
   "cell_type": "code",
   "execution_count": null,
   "metadata": {
    "collapsed": false
   },
   "outputs": [],
   "source": [
    "t.add_historical_growth()"
   ]
  },
  {
   "cell_type": "code",
   "execution_count": null,
   "metadata": {
    "collapsed": false
   },
   "outputs": [],
   "source": [
    "t.value"
   ]
  },
  {
   "cell_type": "code",
   "execution_count": null,
   "metadata": {
    "collapsed": false
   },
   "outputs": [],
   "source": [
    "fac = t.historical.values[1]/t.historical.values[0]"
   ]
  },
  {
   "cell_type": "code",
   "execution_count": null,
   "metadata": {
    "collapsed": false
   },
   "outputs": [],
   "source": [
    "fac * 10"
   ]
  },
  {
   "cell_type": "code",
   "execution_count": null,
   "metadata": {
    "collapsed": false
   },
   "outputs": [],
   "source": [
    "fac"
   ]
  },
  {
   "cell_type": "code",
   "execution_count": null,
   "metadata": {
    "collapsed": false
   },
   "outputs": [],
   "source": [
    "t.historical.values[1], t.historical.values[0]"
   ]
  },
  {
   "cell_type": "code",
   "execution_count": null,
   "metadata": {
    "collapsed": false
   },
   "outputs": [],
   "source": [
    "a1 = Asset(**{'kind':'job','monthly_income':1.5, 'monthly_expenses':0.7})\n"
   ]
  },
  {
   "cell_type": "code",
   "execution_count": null,
   "metadata": {
    "collapsed": false
   },
   "outputs": [],
   "source": [
    "a1 = Asset(**{'kind':'job','monthly_income':1.5, 'monthly_expenses':0.7})    \n"
   ]
  },
  {
   "cell_type": "markdown",
   "metadata": {
    "collapsed": true
   },
   "source": [
    "## Asset and Portfolio classes for hacking/testing ##"
   ]
  },
  {
   "cell_type": "code",
   "execution_count": 56,
   "metadata": {
    "collapsed": false
   },
   "outputs": [],
   "source": [
    "class Asset(object):\n",
    "    def __init__(self, **kwargs):\n",
    "        self.kind = kwargs.get('kind')\n",
    "        assert self.kind.lower() in [None, 'real estate', 'stocks', 'job', 'cash']\n",
    "        self.monthly_income = kwargs.get('monthly_income')\n",
    "        self.monthly_expenses = kwargs.get('monthly_expenses')\n",
    "        self.start_date = kwargs.get('start_date', dt.datetime.now().date())\n",
    "        self.end_date = kwargs.get('end_date')\n",
    "        self.debt = kwargs.get('debt')\n",
    "        self.value = kwargs.get('value')\n",
    "        self.max_cash = kwargs.get('max_cash') \n",
    "        self.monthly_repayment = kwargs.get('monthly_repayment')\n",
    "        self.pay_debt_asap = kwargs.get('pay_debt_asap')\n",
    "    \n",
    "    def __str__(self):\n",
    "        return str(\"Asset = {0}\".format(self.kind))\n",
    "\n",
    "    def __iter__(self):\n",
    "        for key, value in sorted(a1.__dict__.items()):\n",
    "            yield key, value\n",
    "    \n",
    "\n",
    "class Portfolio(object):\n",
    "    \"\"\" Operates on lists of assets. Can add assets individually\n",
    "    with addNewAsset() function, or can initilize object with a\n",
    "    list of asset objects.\n",
    "\n",
    "    :param Asset: n number of Asset objects\n",
    "    :param prd: integer indicating number of months to run  \n",
    "    :returns: A Portfolio instance\n",
    "    \"\"\"\n",
    "\n",
    "    def __init__(self, *assets, prd=60):\n",
    "        self.assets = []\n",
    "        print(\"{0} items passed\".format(len(assets)))\n",
    "        if assets:\n",
    "            for asset in assets:\n",
    "                self.assets.append(asset)\n",
    "            self.date = min([asset.start_date for asset in self.assets])\n",
    "        self.monthly_income = 0\n",
    "        self.monthly_expenses = 0\n",
    "        self.net_investments = 0\n",
    "        self.debt = 0\n",
    "        self.prd = prd\n",
    "        self.cash = 0\n",
    "        self._temporary_capitol = None # \n",
    "        self.networth = 0\n",
    "        self.fi = False\n",
    "        self.buy_property_threshold = 80\n",
    "        self.passive_income = 0\n",
    "    \n",
    "    def buy_property(self, asset):\n",
    "        \"\"\"Subtract value of asset from investments\"\"\"\n",
    "        print('placeholder function Portfolio.buy_property()')\n",
    "        self.sell_shares(amount=asset.value - asset.debt)\n",
    "        self.add_new_asset(new_asset=asset)\n",
    "        \n",
    "    def sell_shares(self, amount):\n",
    "        \"\"\"Need a method to handel liquidating a share portfolio\"\"\"\n",
    "        # gather up all stock assets\n",
    "        # remove required value from stocks and place in self._temporary_capitol\n",
    "        print(\"placeholder function in Portfolio.sell_shares()\")\n",
    "        self._temporary_capitol = amount\n",
    "        for asset in self.assets:\n",
    "            if asset.kind.lower() == 'stocks':\n",
    "                if asset.value > amount:\n",
    "                    asset.value -= amount\n",
    "                    self._temporary_capitol = amount\n",
    "                else:\n",
    "                    # if one asset cant meet all requirements look for more\n",
    "                    amount -= asset.value\n",
    "                    asset.value = 0\n",
    "    \n",
    "    def check_fi(self):\n",
    "        \"\"\"Check if FI has been reached. Point at which monthly incoming\n",
    "        is greater than monthly outgoings before counting wages from jobs.\n",
    "        \"\"\"\n",
    "        negative = 0\n",
    "        positive = 0\n",
    "        for asset in self.assets:\n",
    "            if asset.monthly_expenses:\n",
    "                negative += asset.monthly_expenses\n",
    "            if asset.monthly_repayment:\n",
    "                negative += asset.monthly_repayment\n",
    "            if asset.kind != 'job' and asset.monthly_income:\n",
    "                positive += asset.monthly_income\n",
    "        self.passive_income = positive\n",
    "        if positive > negative:\n",
    "            self.fi = True\n",
    "        else:\n",
    "            self.fi = False\n",
    "    \n",
    "    def summary(self):\n",
    "        \"\"\"Print a summary of the Portfolio instance values of Income, Cash\n",
    "        Debt, Investments and Net worth.\n",
    "\n",
    "        :param self:\n",
    "        :returns: A series of string items\n",
    "        \"\"\"\n",
    "        print(\"--Summary--\\nIncome: {0:3.2f} \\nCash: {1:3.2f}\".format(\n",
    "                self.monthly_income, self.cash))\n",
    "        print(\"Debt: {0:3.2f}\".format(self.debt))\n",
    "        print(\"Investments: {0:3.2f}\".format(self.net_investments))\n",
    "        print(\"Net worth: {0:3.2f}\".format(self.networth))\n",
    "        print(\"Passive income: {0:3.2f}\".format(self.passive_income))\n",
    "\n",
    "    def add_new_asset(self, new_asset):\n",
    "        \"\"\"Add a new Asset() obect to an existing Portfolio instance.\n",
    "        This will be useful for modifying established portfolios once this is\n",
    "        running as a web app.\n",
    "\n",
    "        :param Asset(): Instance of Asset() object\n",
    "        :returns: Updates Portfolio object\n",
    "        \"\"\"\n",
    "        self.assets.append(new_asset)\n",
    "\n",
    "    def monthly_ingres(self):\n",
    "        \"\"\"Calculate avaiable monthly cash based on monthly_income from all\n",
    "        Asset() objects of a portfolio.\n",
    "\n",
    "        :param self.assets: Sums asset.monthly_income across asset objects\n",
    "        :returns self.monthly_income: float\n",
    "        \"\"\"\n",
    "        tmp_income = 0\n",
    "        for asset in self.assets:\n",
    "            if asset.monthly_income:\n",
    "                tmp_income += asset.monthly_income\n",
    "        self.monthly_income = tmp_income\n",
    "\n",
    "    def monthly_egres(self):\n",
    "        \"\"\"Calculate and update the monthly outgoing money by summing\n",
    "        monthly_expenses from asset items.\n",
    "\n",
    "        :param self.assets.monthly_expenses: Sums list of asset.monthly_expense\n",
    "        :returns self.monthly_expenses: float\n",
    "        \"\"\"\n",
    "        tmp_expenses = 0\n",
    "        for asset in self.assets:\n",
    "            if asset.monthly_expenses:\n",
    "                tmp_expenses += asset.monthly_expenses\n",
    "        self.monthly_expenses = tmp_expenses\n",
    "        assert tmp_expenses < self.monthly_income, \"Error: spending too much\"\n",
    "        self.monthly_income -= tmp_expenses\n",
    "\n",
    "    def investment_portfolio(self):\n",
    "        \"\"\"Start of portflio methods.\"\"\"\n",
    "        tmp_net = 0\n",
    "        for asset in self.assets:\n",
    "            if asset.kind.lower() == 'stocks':\n",
    "                tmp_net += asset.value\n",
    "                asset.value *= 1.00333\n",
    "                if self.monthly_income > 0:\n",
    "                    asset.value += self.monthly_income\n",
    "                    self.monthly_income = 0\n",
    "        self.net_investments = tmp_net\n",
    "\n",
    "    def count_cash(self):\n",
    "        \"\"\"Examines assets for 'cash' type asset and does various actions.\n",
    "        nb. this function only expects to find one cash asset\n",
    "\n",
    "        :param self.asset.value: float\n",
    "        :results self.cash: float\n",
    "        \"\"\"\n",
    "        max_cash = 0\n",
    "        for asset in self.assets:\n",
    "            if asset.kind.lower() == 'cash':\n",
    "                self.cash = asset.value\n",
    "                max_cash = asset.max_cash\n",
    "                if self.cash < max_cash and self.monthly_income > 0:\n",
    "                    asset.value += self.monthly_income\n",
    "                    self.monthly_income = 0.0\n",
    "                    self.cash = asset.value\n",
    "\n",
    "    def monthly_repay(self):\n",
    "        \"\"\"Examines a flag (asset.pay_debt_asap) from asset objects with debt.\n",
    "        If an asset has the flag set to True, it will take as much as possible\n",
    "        from the montly avaiable money (after expenses account for), and spend\n",
    "        it on minimizing the debt. The minimum repayments should be covered\n",
    "        for all assets before additional payments are considered.\n",
    "\n",
    "        :param self.asset:\n",
    "        :returns self.asset.debt: float\n",
    "        \"\"\"\n",
    "        error1 = \"Error: cant meet monthly repayment :(\"\n",
    "        for asset in self.assets:\n",
    "            if asset.debt and asset.monthly_repayment:\n",
    "                assert self.monthly_income > asset.monthly_repayment, error1\n",
    "                # Pay all minimum debts for the month\n",
    "                if (asset.debt - asset.monthly_repayment) <= 0.0:\n",
    "                    # if this is the last payment, remove the debt\n",
    "                    self.monthly_income -= asset.debt\n",
    "                    asset.debt = None\n",
    "                    asset.monthly_repayment = None\n",
    "                else:\n",
    "                    # otherwise, just take the minimum and dont worry\n",
    "                    asset.debt -= asset.monthly_repayment\n",
    "                    self.monthly_income -= asset.monthly_repayment\n",
    "        for asset in self.assets:\n",
    "            if asset.debt and asset.pay_debt_asap and self.monthly_income > 0.0:\n",
    "                asset.debt -= self.monthly_income\n",
    "                self.monthly_income = 0.0\n",
    "\n",
    "    def monthly_debt(self):\n",
    "        \"\"\"Calculate debt each month. Examines the Assets held in the Portfolio\n",
    "        object, and sums the debt. Assigns this value to self.debt.\n",
    "\n",
    "        :param self: Examines Portfolio objects assets.debt floats\n",
    "        :returns self.debt: float\n",
    "        \"\"\"\n",
    "        tmp_debt = 0\n",
    "        for asset in self.assets:\n",
    "            if asset.debt:\n",
    "                tmp_debt += asset.debt\n",
    "        self.debt = tmp_debt\n",
    "\n",
    "    def calc_net_worth(self):\n",
    "        \"\"\"Calculates Net worth by summing value of assets and subtracting debt.\n",
    "\n",
    "        :param self: Examines attributes of Portfolio object\n",
    "        :returns: self.networth in Portfolio object\n",
    "        \"\"\"\n",
    "        net_value = 0\n",
    "        for asset in self.assets:\n",
    "            if asset.value:\n",
    "                net_value += asset.value\n",
    "        self.networth = net_value - self.debt\n",
    "\n",
    "    def update_monthly(self):\n",
    "        self.date = self.date + relativedelta(months=1)\n",
    "        if self.net_investments > self.buy_property_threshold:\n",
    "            print('triggered buy property')\n",
    "            self.buy_property(asset=Asset(**{'kind': 'real estate',\n",
    "                                       'debt': 70,\n",
    "                                       'value':150,\n",
    "                                       'monthly_repayment':0.5,\n",
    "                                       'monthly_income':0.8,\n",
    "                                       'start_date': self.date,\n",
    "                                       'pay_debt_asap':True}))\n",
    "        self.monthly_ingres()\n",
    "        self.monthly_egres()\n",
    "        self.monthly_repay()\n",
    "        self.monthly_debt()\n",
    "        self.count_cash()\n",
    "        self.investment_portfolio()\n",
    "        self.calc_net_worth()\n",
    "        self.check_fi()\n",
    "\n",
    "    def quad_positions(self, left, right, bottom, top, color):\n",
    "        \"\"\"Assign values to the left, right, bottom, and top position\n",
    "        labels and a color value for the Bokeh Quad glyph. Uses two\n",
    "        diffrent colors depending on if FI has been reached.\n",
    "\n",
    "        :param self, left, right, bottom, top, color:\n",
    "        :returns: Assigns values to the list items.\n",
    "        \"\"\"\n",
    "        # Add debt marker\n",
    "        left.append(self.date)\n",
    "        right.append(self.date + relativedelta(months=1))\n",
    "        top.append(0.0)\n",
    "        bottom.append(self.debt * -1)\n",
    "        if self.fi:\n",
    "            color.append('#e65c00')\n",
    "        else:\n",
    "            color.append('#ff944d')\n",
    "        # Add cash marker\n",
    "        left.append(self.date)\n",
    "        right.append(self.date + relativedelta(months=1))\n",
    "        bottom.append(0.0)\n",
    "        top.append(self.cash)\n",
    "        if self.fi:\n",
    "            color.append('#008000')\n",
    "        else:\n",
    "            color.append('#00e600')\n",
    "        # Add stock marker\n",
    "        left.append(self.date)\n",
    "        right.append(self.date + relativedelta(months=1))\n",
    "        bottom.append(self.cash)\n",
    "        top.append(self.cash + self.net_investments)\n",
    "        if self.fi:\n",
    "            color.append('#800080')\n",
    "        else:\n",
    "            color.append('#e600e6')\n",
    "        # Add net worth marker (including  primary property)\n",
    "        left.append(self.date)\n",
    "        right.append(self.date + relativedelta(months=1))\n",
    "        bottom.append(self.cash + self.net_investments)\n",
    "        top.append(self.networth)\n",
    "        if self.fi:\n",
    "            color.append('#75a3a3')\n",
    "        else:\n",
    "            color.append('#b3cccc')\n",
    "        return\n",
    "\n",
    "    def gen_quads(self):\n",
    "        \"\"\"For the current state of Portfolio properties generate quad plot\n",
    "        dataframe object to be consumed by Bokeh plots.\n",
    "\n",
    "        :param self: Examines attributes of Portfolio object\n",
    "        :returns: a pd.DataFrame object\n",
    "        \"\"\"\n",
    "        left = []\n",
    "        right = []\n",
    "        top = []\n",
    "        bottom = []\n",
    "        color = []\n",
    "        for i in range(self.prd):\n",
    "            self.update_monthly()\n",
    "            self.quad_positions(left=left, top=top, bottom=bottom,\n",
    "                                right=right, color=color)\n",
    "        return pd.DataFrame({'left': left, 'right': right, 'top': top,\n",
    "                            'bottom': bottom, 'color': color})\n"
   ]
  },
  {
   "cell_type": "code",
   "execution_count": 57,
   "metadata": {
    "collapsed": false
   },
   "outputs": [
    {
     "name": "stdout",
     "output_type": "stream",
     "text": [
      "5 items passed\n",
      "triggered buy property\n",
      "placeholder function Portfolio.buy_property()\n",
      "placeholder function in Portfolio.sell_shares()\n",
      "triggered buy property\n",
      "placeholder function Portfolio.buy_property()\n",
      "placeholder function in Portfolio.sell_shares()\n",
      "triggered buy property\n",
      "placeholder function Portfolio.buy_property()\n",
      "placeholder function in Portfolio.sell_shares()\n",
      "triggered buy property\n",
      "placeholder function Portfolio.buy_property()\n",
      "placeholder function in Portfolio.sell_shares()\n",
      "--Summary--\n",
      "Income: 0.00 \n",
      "Cash: 30.10\n",
      "Debt: 0.00\n",
      "Investments: 35.69\n",
      "Net worth: 821.41\n",
      "Passive income: 3.20\n"
     ]
    }
   ],
   "source": [
    "# Initilise with list of assets...\n",
    "d1 = {'kind': 'job', \n",
    "      'monthly_income': 1.5, \n",
    "      'start_date': dt.date(2016, 6, 1)}\n",
    "\n",
    "d2 = {'kind': 'job',\n",
    "      'monthly_income': 1.5,\n",
    "      'monthly_expenses': 0.7,\n",
    "      'start_date': dt.date(2016, 12, 1)}\n",
    "\n",
    "d3 = {'kind': 'real estate',\n",
    "      'debt': 70,\n",
    "      'value':150,\n",
    "      'monthly_repayment':0.5,\n",
    "      'start_date': dt.date(2016, 6, 1),\n",
    "      'pay_debt_asap':True}\n",
    "\n",
    "d4 = {'kind': 'stocks',\n",
    "      'value': 15,\n",
    "      'symbol': 'NYSE:BRK.B'}\n",
    "\n",
    "d5 = {'kind': 'cash',\n",
    "      'value': 15,\n",
    "      'max_cash':30}\n",
    "\n",
    "test2 = Portfolio(Asset(**d1), Asset(**d2), Asset(**d3), \n",
    "                  Asset(**d4), Asset(**d5), prd=200)\n",
    "\n",
    "#test2.monthlyIncome()\n",
    "#test2.monthlyExpenses()\n",
    "#test2.monthlyDebt()\n",
    "#print(test2.monthly_income, test2.monthly_expenses, test2.debt)\n",
    "#print(test2.date)\n",
    "bdf_quad = test2.gen_quads()\n",
    "test2.summary()"
   ]
  },
  {
   "cell_type": "code",
   "execution_count": null,
   "metadata": {
    "collapsed": false
   },
   "outputs": [],
   "source": []
  },
  {
   "cell_type": "code",
   "execution_count": 33,
   "metadata": {
    "collapsed": false
   },
   "outputs": [
    {
     "name": "stdout",
     "output_type": "stream",
     "text": [
      "1 items passed\n",
      "debt None\n",
      "end_date None\n",
      "kind job\n",
      "max_cash None\n",
      "monthly_expenses 0.7\n",
      "monthly_income 1.5\n",
      "monthly_repayment None\n",
      "pay_debt_asap None\n",
      "start_date 2016-06-12\n",
      "value None\n"
     ]
    }
   ],
   "source": [
    "a1 = Asset(**{'kind':'job','monthly_income':1.5, 'monthly_expenses':0.7})\n",
    "p1 = Portfolio(a1)\n",
    "\n",
    "for k,v in a1:\n",
    "    print(k,v)"
   ]
  },
  {
   "cell_type": "code",
   "execution_count": null,
   "metadata": {
    "collapsed": false
   },
   "outputs": [],
   "source": []
  },
  {
   "cell_type": "code",
   "execution_count": 58,
   "metadata": {
    "collapsed": false
   },
   "outputs": [
    {
     "data": {
      "text/html": [
       "\n",
       "\n",
       "    <div class=\"plotdiv\" id=\"2609ac52-b652-44b9-b38c-8d3aaee0b7ba\"></div>\n",
       "<script type=\"text/javascript\">\n",
       "  \n",
       "  (function(global) {\n",
       "    function now() {\n",
       "      return new Date();\n",
       "    }\n",
       "  \n",
       "    if (typeof (window._bokeh_onload_callbacks) === \"undefined\") {\n",
       "      window._bokeh_onload_callbacks = [];\n",
       "    }\n",
       "  \n",
       "    function run_callbacks() {\n",
       "      window._bokeh_onload_callbacks.forEach(function(callback) { callback() });\n",
       "      delete window._bokeh_onload_callbacks\n",
       "      console.info(\"Bokeh: all callbacks have finished\");\n",
       "    }\n",
       "  \n",
       "    function load_libs(js_urls, callback) {\n",
       "      window._bokeh_onload_callbacks.push(callback);\n",
       "      if (window._bokeh_is_loading > 0) {\n",
       "        console.log(\"Bokeh: BokehJS is being loaded, scheduling callback at\", now());\n",
       "        return null;\n",
       "      }\n",
       "      if (js_urls == null || js_urls.length === 0) {\n",
       "        run_callbacks();\n",
       "        return null;\n",
       "      }\n",
       "      console.log(\"Bokeh: BokehJS not loaded, scheduling load and callback at\", now());\n",
       "      window._bokeh_is_loading = js_urls.length;\n",
       "      for (var i = 0; i < js_urls.length; i++) {\n",
       "        var url = js_urls[i];\n",
       "        var s = document.createElement('script');\n",
       "        s.src = url;\n",
       "        s.async = false;\n",
       "        s.onreadystatechange = s.onload = function() {\n",
       "          window._bokeh_is_loading--;\n",
       "          if (window._bokeh_is_loading === 0) {\n",
       "            console.log(\"Bokeh: all BokehJS libraries loaded\");\n",
       "            run_callbacks()\n",
       "          }\n",
       "        };\n",
       "        s.onerror = function() {\n",
       "          console.warn(\"failed to load library \" + url);\n",
       "        };\n",
       "        console.log(\"Bokeh: injecting script tag for BokehJS library: \", url);\n",
       "        document.getElementsByTagName(\"head\")[0].appendChild(s);\n",
       "      }\n",
       "    };var element = document.getElementById(\"2609ac52-b652-44b9-b38c-8d3aaee0b7ba\");\n",
       "    if (element == null) {\n",
       "      console.log(\"Bokeh: ERROR: autoload.js configured with elementid '2609ac52-b652-44b9-b38c-8d3aaee0b7ba' but no matching script tag was found. \")\n",
       "      return false;\n",
       "    }\n",
       "  \n",
       "    var js_urls = [];\n",
       "  \n",
       "    var inline_js = [\n",
       "      function(Bokeh) {\n",
       "        Bokeh.$(function() {\n",
       "            var docs_json = {\"1403131d-c0f2-4f7e-a6cf-b053c0aa19b6\":{\"roots\":{\"references\":[{\"attributes\":{\"axis_label\":\"Val\",\"formatter\":{\"id\":\"b3c9fc30-7817-4961-9d93-dd9941439a78\",\"type\":\"BasicTickFormatter\"},\"plot\":{\"id\":\"f23a5afa-9d5c-4014-a1fe-0c83a58f8542\",\"subtype\":\"Figure\",\"type\":\"Plot\"},\"ticker\":{\"id\":\"f1a40a61-1ed8-4293-b8c4-13c5e3ea83df\",\"type\":\"BasicTicker\"}},\"id\":\"4cf1b9b9-4a0f-4700-b3b1-d2486f35540d\",\"type\":\"LinearAxis\"},{\"attributes\":{\"plot\":{\"id\":\"f23a5afa-9d5c-4014-a1fe-0c83a58f8542\",\"subtype\":\"Figure\",\"type\":\"Plot\"}},\"id\":\"7a3d8624-629a-47d7-ae48-b7de92cd1e35\",\"type\":\"WheelZoomTool\"},{\"attributes\":{},\"id\":\"f1a40a61-1ed8-4293-b8c4-13c5e3ea83df\",\"type\":\"BasicTicker\"},{\"attributes\":{\"plot\":{\"id\":\"f23a5afa-9d5c-4014-a1fe-0c83a58f8542\",\"subtype\":\"Figure\",\"type\":\"Plot\"}},\"id\":\"efc4d6fa-fbaf-43d5-97e6-efc9169fe55b\",\"type\":\"CrosshairTool\"},{\"attributes\":{\"plot\":{\"id\":\"f23a5afa-9d5c-4014-a1fe-0c83a58f8542\",\"subtype\":\"Figure\",\"type\":\"Plot\"}},\"id\":\"41093985-9a15-43d8-9e1c-d0cc42079091\",\"type\":\"PanTool\"},{\"attributes\":{\"months\":[0,6]},\"id\":\"ed597df7-fb3b-4732-9487-b2f99c4dc9a0\",\"type\":\"MonthsTicker\"},{\"attributes\":{\"base\":24,\"mantissas\":[1,2,4,6,8,12],\"max_interval\":43200000.0,\"min_interval\":3600000.0,\"num_minor_ticks\":0},\"id\":\"e2c62303-7ad1-4eb1-a366-f7e7ba0769ea\",\"type\":\"AdaptiveTicker\"},{\"attributes\":{\"num_minor_ticks\":5},\"id\":\"08ffd0a0-00d2-4f55-8e46-f1da275964bf\",\"type\":\"DatetimeTicker\"},{\"attributes\":{},\"id\":\"0d5f1573-c664-4d81-af81-f6775249cc3c\",\"type\":\"DatetimeTickFormatter\"},{\"attributes\":{\"callback\":null},\"id\":\"9492077c-2af7-4786-9643-8ba921a14723\",\"type\":\"DataRange1d\"},{\"attributes\":{\"plot\":{\"id\":\"f23a5afa-9d5c-4014-a1fe-0c83a58f8542\",\"subtype\":\"Figure\",\"type\":\"Plot\"}},\"id\":\"c26b0e6b-4de1-4351-b231-e9793f0fb66d\",\"type\":\"ResetTool\"},{\"attributes\":{\"days\":[1,8,15,22]},\"id\":\"db78d4ff-674f-4900-afd1-75c3c0466322\",\"type\":\"DaysTicker\"},{\"attributes\":{\"axis_label\":\"Time\",\"formatter\":{\"id\":\"0d5f1573-c664-4d81-af81-f6775249cc3c\",\"type\":\"DatetimeTickFormatter\"},\"plot\":{\"id\":\"f23a5afa-9d5c-4014-a1fe-0c83a58f8542\",\"subtype\":\"Figure\",\"type\":\"Plot\"},\"ticker\":{\"id\":\"08ffd0a0-00d2-4f55-8e46-f1da275964bf\",\"type\":\"DatetimeTicker\"}},\"id\":\"47a09ea6-4946-489b-acfe-9c4a40b516c8\",\"type\":\"DatetimeAxis\"},{\"attributes\":{\"bottom\":{\"field\":\"bottom\"},\"fill_color\":{\"field\":\"color\"},\"left\":{\"field\":\"left\"},\"line_color\":{\"field\":\"color\"},\"right\":{\"field\":\"right\"},\"top\":{\"field\":\"top\"}},\"id\":\"c19a959b-fc21-4d0d-9d69-edeb1ee05cd5\",\"type\":\"Quad\"},{\"attributes\":{\"below\":[{\"id\":\"47a09ea6-4946-489b-acfe-9c4a40b516c8\",\"type\":\"DatetimeAxis\"}],\"left\":[{\"id\":\"4cf1b9b9-4a0f-4700-b3b1-d2486f35540d\",\"type\":\"LinearAxis\"}],\"plot_height\":500,\"plot_width\":700,\"renderers\":[{\"id\":\"47a09ea6-4946-489b-acfe-9c4a40b516c8\",\"type\":\"DatetimeAxis\"},{\"id\":\"f80325c7-ff41-4dd4-a81f-0131ca08657e\",\"type\":\"Grid\"},{\"id\":\"4cf1b9b9-4a0f-4700-b3b1-d2486f35540d\",\"type\":\"LinearAxis\"},{\"id\":\"f2f92e6d-a905-448c-b1a5-5b33de1a0018\",\"type\":\"Grid\"},{\"id\":\"f89047ef-35a5-4b9c-b9d7-97225f75d55c\",\"type\":\"GlyphRenderer\"}],\"title\":\"FI chart\",\"tool_events\":{\"id\":\"325a1cee-b775-405b-8c34-9e8c087b34c5\",\"type\":\"ToolEvents\"},\"tools\":[{\"id\":\"efc4d6fa-fbaf-43d5-97e6-efc9169fe55b\",\"type\":\"CrosshairTool\"},{\"id\":\"41093985-9a15-43d8-9e1c-d0cc42079091\",\"type\":\"PanTool\"},{\"id\":\"c26b0e6b-4de1-4351-b231-e9793f0fb66d\",\"type\":\"ResetTool\"},{\"id\":\"17c03e6d-ed95-457d-a178-327a2a3b384f\",\"type\":\"ResizeTool\"},{\"id\":\"7a3d8624-629a-47d7-ae48-b7de92cd1e35\",\"type\":\"WheelZoomTool\"}],\"x_range\":{\"id\":\"2551d874-a484-402a-9b84-17f6018ab880\",\"type\":\"DataRange1d\"},\"y_range\":{\"id\":\"9492077c-2af7-4786-9643-8ba921a14723\",\"type\":\"DataRange1d\"}},\"id\":\"f23a5afa-9d5c-4014-a1fe-0c83a58f8542\",\"subtype\":\"Figure\",\"type\":\"Plot\"},{\"attributes\":{\"plot\":{\"id\":\"f23a5afa-9d5c-4014-a1fe-0c83a58f8542\",\"subtype\":\"Figure\",\"type\":\"Plot\"}},\"id\":\"17c03e6d-ed95-457d-a178-327a2a3b384f\",\"type\":\"ResizeTool\"},{\"attributes\":{\"base\":60,\"mantissas\":[1,2,5,10,15,20,30],\"max_interval\":1800000.0,\"min_interval\":1000.0,\"num_minor_ticks\":0},\"id\":\"d2385030-5b53-4623-a905-68e54ae03054\",\"type\":\"AdaptiveTicker\"},{\"attributes\":{\"months\":[0,2,4,6,8,10]},\"id\":\"207775f4-349e-44a6-9db8-30516a0c2610\",\"type\":\"MonthsTicker\"},{\"attributes\":{\"max_interval\":500.0,\"num_minor_ticks\":0},\"id\":\"b25095e9-604c-4075-bbb5-bca0ec805c77\",\"type\":\"AdaptiveTicker\"},{\"attributes\":{},\"id\":\"325a1cee-b775-405b-8c34-9e8c087b34c5\",\"type\":\"ToolEvents\"},{\"attributes\":{\"months\":[0,4,8]},\"id\":\"73c853a6-dbf7-4b49-9bab-2f06bbc8a9b6\",\"type\":\"MonthsTicker\"},{\"attributes\":{\"days\":[1,2,3,4,5,6,7,8,9,10,11,12,13,14,15,16,17,18,19,20,21,22,23,24,25,26,27,28,29,30,31]},\"id\":\"b692fa9a-7146-4eb6-a0e6-a762c585bcfd\",\"type\":\"DaysTicker\"},{\"attributes\":{},\"id\":\"231a7f89-649c-4167-9474-e2521f809224\",\"type\":\"YearsTicker\"},{\"attributes\":{\"callback\":null,\"column_names\":[\"top\",\"bottom\",\"right\",\"left\",\"index\",\"color\"],\"data\":{\"bottom\":[-67.7,0.0,15.0,30.0,-65.4,0.0,15.0,30.049950000000003,-63.10000000000001,0.0,15.0,30.100066333500003,-60.80000000000001,0.0,15.0,30.15034955439056,-58.500000000000014,0.0,15.0,30.200800218406677,-56.20000000000002,0.0,15.0,30.251418883133972,-53.90000000000002,0.0,15.0,30.30220610801481,-51.60000000000002,0.0,15.0,30.353162454354504,-49.300000000000026,0.0,15.0,30.404288485327505,-47.00000000000003,0.0,15.0,30.455584765983645,-44.70000000000003,0.0,15.0,30.50705186325437,-42.400000000000034,0.0,15.0,30.558690345959008,-40.10000000000004,0.0,15.0,30.61050078481105,-37.80000000000004,0.0,15.0,30.662483752424475,-35.50000000000004,0.0,15.0,30.71463982332005,-33.200000000000045,0.0,15.0,30.766969573931704,-30.900000000000045,0.0,15.0,30.8194735826129,-28.600000000000044,0.0,15.0,30.872152429643002,-26.300000000000043,0.0,15.0,30.925006697233712,-24.000000000000043,0.0,15.0,30.978036969535502,-21.700000000000042,0.0,15.0,31.031243832644055,-19.40000000000004,0.0,15.0,31.08462787460676,-17.10000000000004,0.0,15.0,31.1381896854292,-14.80000000000004,0.0,15.0,31.19192985708168,-12.500000000000039,0.0,15.0,31.245848983505763,-10.200000000000038,0.0,15.0,31.299947660620838,-7.9000000000000385,0.0,15.0,31.354226486330706,-5.600000000000039,0.0,15.0,31.408686060530187,-3.300000000000039,0.0,15.0,31.463326985111753,-1.000000000000039,0.0,15.0,31.518149863972177,1.2999999999999607,0.0,15.0,31.573155303019206,0.0,0.0,18.59999999999996,35.228343910178225,0.0,0.0,20.89999999999996,37.583716295399114,0.0,0.0,23.19999999999996,39.9392730706628,0.0,0.0,25.49999999999996,42.29501484998811,0.0,0.0,27.79999999999996,44.65094224943857,0.0,0.0,30.099999999999962,47.007055887129205,0.0,0.0,30.099999999999962,47.06335638323335,0.0,0.0,30.099999999999962,49.41984435998951,0.0,0.0,30.099999999999962,51.78417944170828,0.0,0.0,30.099999999999962,54.15638775924917,0.0,0.0,30.099999999999962,56.53649553048747,0.0,0.0,30.099999999999962,58.924529060604,0.0,0.0,30.099999999999962,61.32051474237582,0.0,0.0,30.099999999999962,63.72447905646793,0.0,0.0,30.099999999999962,66.13644857172596,0.0,0.0,30.099999999999962,68.55644994546981,0.0,0.0,30.099999999999962,70.98450992378822,0.0,0.0,30.099999999999962,73.42065534183445,0.0,0.0,30.099999999999962,75.86491312412275,0.0,0.0,30.099999999999962,78.31731028482608,0.0,0.0,30.099999999999962,80.77787392807456,0.0,0.0,30.099999999999962,83.24663124825504,0.0,0.0,30.099999999999962,85.72360953031173,0.0,0.0,30.099999999999962,88.20883615004767,0.0,0.0,30.099999999999962,90.70233857442733,0.0,0.0,30.099999999999962,93.20414436188017,0.0,0.0,30.099999999999962,95.71428116260525,0.0,0.0,30.099999999999962,98.23277671887672,0.0,0.0,30.099999999999962,100.75965886535059,0.0,0.0,30.099999999999962,103.2949555293722,0.0,0.0,30.099999999999962,105.83869473128502,0.0,0.0,30.099999999999962,108.3909045847402,0.0,0.0,30.099999999999962,110.95161329700738,-66.9,0.0,30.099999999999962,33.52084916928642,-63.800000000000004,0.0,30.099999999999962,33.53224059702014,-60.7,0.0,30.099999999999962,33.54366995820822,-57.6,0.0,30.099999999999962,33.555137379169054,-54.5,0.0,30.099999999999962,33.56664298664169,-51.4,0.0,30.099999999999962,33.578186907787206,-48.3,0.0,30.099999999999962,33.58976927019013,-45.199999999999996,0.0,30.099999999999962,33.60139020185987,-42.099999999999994,0.0,30.099999999999962,33.61304983123206,-38.99999999999999,0.0,30.099999999999962,33.624748287170064,-35.89999999999999,0.0,30.099999999999962,33.63648569896634,-32.79999999999999,0.0,30.099999999999962,33.6482621963439,-29.69999999999999,0.0,30.099999999999962,33.660077909457726,-26.599999999999987,0.0,30.099999999999962,33.67193296889622,-23.499999999999986,0.0,30.099999999999962,33.68382750568264,-20.399999999999984,0.0,30.099999999999962,33.69576165127657,-17.299999999999983,0.0,30.099999999999962,33.707735537575324,-14.199999999999983,0.0,30.099999999999962,33.719749296915445,-11.099999999999984,0.0,30.099999999999962,33.73180306207418,-7.999999999999984,0.0,30.099999999999962,33.74389696627088,-4.899999999999984,0.0,30.099999999999962,33.75603114316856,-1.7999999999999847,0.0,30.099999999999962,33.768205726875316,1.300000000000015,0.0,30.099999999999962,33.78042085194581,0.0,0.0,30.099999999999962,33.79267665338279,0.0,0.0,30.099999999999962,38.204973266638575,0.0,0.0,30.099999999999962,41.33196282761648,0.0,0.0,30.099999999999962,44.469365263832444,0.0,0.0,30.099999999999962,47.617215250161,0.0,0.0,30.099999999999962,50.775547576944035,0.0,0.0,30.099999999999962,53.944397150375266,0.0,0.0,30.099999999999962,57.12379899288601,0.0,0.0,30.099999999999962,60.31378824353233,0.0,0.0,30.099999999999962,63.514400158383296,0.0,0.0,30.099999999999962,66.72567011091071,0.0,0.0,30.099999999999962,69.94763359238004,0.0,0.0,30.099999999999962,73.18032621224268,0.0,0.0,30.099999999999962,76.42378369852945,0.0,0.0,30.099999999999962,79.67804189824555,0.0,0.0,30.099999999999962,82.94313677776672,0.0,0.0,30.099999999999962,86.21910442323669,0.0,0.0,30.099999999999962,89.50598104096608,0.0,0.0,30.099999999999962,92.8038029578325,0.0,0.0,30.099999999999962,96.11260662168209,0.0,0.0,30.099999999999962,99.43242860173228,0.0,0.0,30.099999999999962,102.76330558897605,0.0,0.0,30.099999999999962,106.10527439658735,0.0,0.0,30.099999999999962,109.45837196032798,0.0,0.0,30.099999999999962,112.82263533895588,-66.1,0.0,30.099999999999962,36.1981017146346,-62.199999999999996,0.0,30.099999999999962,36.21840839334433,-58.3,0.0,30.099999999999962,36.23878269329417,-54.4,0.0,30.099999999999962,36.25922483966284,-50.5,0.0,30.099999999999962,36.27973505837892,-46.6,0.0,30.099999999999962,36.30031357612332,-42.7,0.0,30.099999999999962,36.32096062033181,-38.800000000000004,0.0,30.099999999999962,36.34167641919752,-34.900000000000006,0.0,30.099999999999962,36.36246120167345,-31.000000000000007,0.0,30.099999999999962,36.38331519747502,-27.10000000000001,0.0,30.099999999999962,36.404238637082614,-23.20000000000001,0.0,30.099999999999962,36.42523175174409,-19.30000000000001,0.0,30.099999999999962,36.446294773477405,-15.400000000000013,0.0,30.099999999999962,36.46742793507308,-11.500000000000014,0.0,30.099999999999962,36.48863147009688,-7.600000000000015,0.0,30.099999999999962,36.509905612892304,-3.7000000000000153,0.0,30.099999999999962,36.531250598583235,0.1999999999999842,0.0,30.099999999999962,36.552666663076515,0.0,0.0,30.099999999999962,36.57415404306456,0.0,0.0,30.099999999999962,40.69571297602795,0.0,0.0,30.099999999999962,44.63099670023813,0.0,0.0,30.099999999999962,48.57938491924992,0.0,0.0,30.099999999999962,52.540921271031024,0.0,0.0,30.099999999999962,56.515649538863556,0.0,0.0,30.099999999999962,60.50361365182797,0.0,0.0,30.099999999999962,64.50485768528856,0.0,0.0,30.099999999999962,68.51942586138057,0.0,0.0,30.099999999999962,72.54736254949897,0.0,0.0,30.099999999999962,76.5887122667888,0.0,0.0,30.099999999999962,80.6435196786372,0.0,0.0,30.099999999999962,84.71182959916707,0.0,0.0,30.099999999999962,88.7936869917323,0.0,0.0,30.099999999999962,92.88913696941476,0.0,0.0,30.099999999999962,96.99822479552293,0.0,0.0,30.099999999999962,101.12099588409203,0.0,0.0,30.099999999999962,105.25749580038607,0.0,0.0,30.099999999999962,109.40777026140137,0.0,0.0,30.099999999999962,113.57186513637184,-65.3,0.0,30.099999999999962,37.749826447275964,-60.599999999999994,0.0,30.099999999999962,37.77530036934539,-55.89999999999999,0.0,30.099999999999962,37.800859119575314,-51.19999999999999,0.0,30.099999999999962,37.8265029804435,-46.499999999999986,0.0,30.099999999999962,37.852232235368376,-41.79999999999998,0.0,30.099999999999962,37.87804716871215,-37.09999999999998,0.0,30.099999999999962,37.903948065783965,-32.39999999999998,0.0,30.099999999999962,37.92993521284303,-27.699999999999978,0.0,30.099999999999962,37.956008897101796,-22.99999999999998,0.0,30.099999999999962,37.98216940672914,-18.29999999999998,0.0,30.099999999999962,38.00841703085355,-13.59999999999998,0.0,30.099999999999962,38.034752059566294,-8.89999999999998,0.0,30.099999999999962,38.06117478392465,-4.1999999999999815,0.0,30.099999999999962,38.08768549595512,0.5000000000000178,0.0,30.099999999999962,38.11428448865665,0.0,0.0,30.099999999999962,38.14097205600388,0.0,0.0,30.099999999999962,43.36774849295039,0.0,0.0,30.099999999999962,48.111930095431916,0.0,0.0,30.099999999999962,52.871909822649705,0.0,0.0,30.099999999999962,57.64774028235913,0.0,0.0,30.099999999999962,62.439474257499384,0.0,0.0,30.099999999999962,67.24716470677687,0.0,0.0,30.099999999999962,72.07086476525043,0.0,0.0,30.099999999999962,76.91062774491871,0.0,0.0,30.099999999999962,81.7665071353093,0.0,0.0,30.099999999999962,86.63855660406988,0.0,0.0,30.099999999999962,91.52682999756144,0.0,0.0,30.099999999999962,96.43138134145332,0.0,0.0,30.099999999999962,101.35226484132036,0.0,0.0,30.099999999999962,106.28953488324197,0.0,0.0,30.099999999999962,111.24324603440317,-64.5,0.0,30.099999999999962,36.21345304369774,-59.0,0.0,30.099999999999962,36.23381084233325,-53.5,0.0,30.099999999999962,36.25423643243822,-48.0,0.0,30.099999999999962,36.27473003975824,-42.5,0.0,30.099999999999962,36.29529189079064,-37.0,0.0,30.099999999999962,36.31592221278697,-31.5,0.0,30.099999999999962,36.33662123375555,-26.0,0.0,30.099999999999962,36.357389182463955,-20.5,0.0,30.099999999999962,36.37822628844156,-15.0,0.0,30.099999999999962,36.399132781982075,-9.5,0.0,30.099999999999962,36.420108894146075,-4.000000000000001,0.0,30.099999999999962,36.44115485676358,1.4999999999999982,0.0,30.099999999999962,36.4622709024366,0.0,0.0,30.099999999999962,36.48345726454172,0.0,0.0,30.099999999999962,43.50471417723264,0.0,0.0,30.099999999999962,49.049351875442824,0.0,0.0,30.099999999999962,54.61245321718805,0.0,0.0,30.099999999999962,60.19407968640129,0.0,0.0,30.099999999999962,65.794292971757],\"color\":[\"#ff944d\",\"#00e600\",\"#e600e6\",\"#b3cccc\",\"#ff944d\",\"#00e600\",\"#e600e6\",\"#b3cccc\",\"#ff944d\",\"#00e600\",\"#e600e6\",\"#b3cccc\",\"#ff944d\",\"#00e600\",\"#e600e6\",\"#b3cccc\",\"#ff944d\",\"#00e600\",\"#e600e6\",\"#b3cccc\",\"#ff944d\",\"#00e600\",\"#e600e6\",\"#b3cccc\",\"#ff944d\",\"#00e600\",\"#e600e6\",\"#b3cccc\",\"#ff944d\",\"#00e600\",\"#e600e6\",\"#b3cccc\",\"#ff944d\",\"#00e600\",\"#e600e6\",\"#b3cccc\",\"#ff944d\",\"#00e600\",\"#e600e6\",\"#b3cccc\",\"#ff944d\",\"#00e600\",\"#e600e6\",\"#b3cccc\",\"#ff944d\",\"#00e600\",\"#e600e6\",\"#b3cccc\",\"#ff944d\",\"#00e600\",\"#e600e6\",\"#b3cccc\",\"#ff944d\",\"#00e600\",\"#e600e6\",\"#b3cccc\",\"#ff944d\",\"#00e600\",\"#e600e6\",\"#b3cccc\",\"#ff944d\",\"#00e600\",\"#e600e6\",\"#b3cccc\",\"#ff944d\",\"#00e600\",\"#e600e6\",\"#b3cccc\",\"#ff944d\",\"#00e600\",\"#e600e6\",\"#b3cccc\",\"#ff944d\",\"#00e600\",\"#e600e6\",\"#b3cccc\",\"#ff944d\",\"#00e600\",\"#e600e6\",\"#b3cccc\",\"#ff944d\",\"#00e600\",\"#e600e6\",\"#b3cccc\",\"#ff944d\",\"#00e600\",\"#e600e6\",\"#b3cccc\",\"#ff944d\",\"#00e600\",\"#e600e6\",\"#b3cccc\",\"#ff944d\",\"#00e600\",\"#e600e6\",\"#b3cccc\",\"#ff944d\",\"#00e600\",\"#e600e6\",\"#b3cccc\",\"#ff944d\",\"#00e600\",\"#e600e6\",\"#b3cccc\",\"#ff944d\",\"#00e600\",\"#e600e6\",\"#b3cccc\",\"#ff944d\",\"#00e600\",\"#e600e6\",\"#b3cccc\",\"#ff944d\",\"#00e600\",\"#e600e6\",\"#b3cccc\",\"#ff944d\",\"#00e600\",\"#e600e6\",\"#b3cccc\",\"#ff944d\",\"#00e600\",\"#e600e6\",\"#b3cccc\",\"#ff944d\",\"#00e600\",\"#e600e6\",\"#b3cccc\",\"#ff944d\",\"#00e600\",\"#e600e6\",\"#b3cccc\",\"#ff944d\",\"#00e600\",\"#e600e6\",\"#b3cccc\",\"#ff944d\",\"#00e600\",\"#e600e6\",\"#b3cccc\",\"#ff944d\",\"#00e600\",\"#e600e6\",\"#b3cccc\",\"#ff944d\",\"#00e600\",\"#e600e6\",\"#b3cccc\",\"#ff944d\",\"#00e600\",\"#e600e6\",\"#b3cccc\",\"#ff944d\",\"#00e600\",\"#e600e6\",\"#b3cccc\",\"#ff944d\",\"#00e600\",\"#e600e6\",\"#b3cccc\",\"#ff944d\",\"#00e600\",\"#e600e6\",\"#b3cccc\",\"#ff944d\",\"#00e600\",\"#e600e6\",\"#b3cccc\",\"#ff944d\",\"#00e600\",\"#e600e6\",\"#b3cccc\",\"#ff944d\",\"#00e600\",\"#e600e6\",\"#b3cccc\",\"#ff944d\",\"#00e600\",\"#e600e6\",\"#b3cccc\",\"#ff944d\",\"#00e600\",\"#e600e6\",\"#b3cccc\",\"#ff944d\",\"#00e600\",\"#e600e6\",\"#b3cccc\",\"#ff944d\",\"#00e600\",\"#e600e6\",\"#b3cccc\",\"#ff944d\",\"#00e600\",\"#e600e6\",\"#b3cccc\",\"#ff944d\",\"#00e600\",\"#e600e6\",\"#b3cccc\",\"#ff944d\",\"#00e600\",\"#e600e6\",\"#b3cccc\",\"#ff944d\",\"#00e600\",\"#e600e6\",\"#b3cccc\",\"#ff944d\",\"#00e600\",\"#e600e6\",\"#b3cccc\",\"#ff944d\",\"#00e600\",\"#e600e6\",\"#b3cccc\",\"#ff944d\",\"#00e600\",\"#e600e6\",\"#b3cccc\",\"#ff944d\",\"#00e600\",\"#e600e6\",\"#b3cccc\",\"#ff944d\",\"#00e600\",\"#e600e6\",\"#b3cccc\",\"#ff944d\",\"#00e600\",\"#e600e6\",\"#b3cccc\",\"#ff944d\",\"#00e600\",\"#e600e6\",\"#b3cccc\",\"#ff944d\",\"#00e600\",\"#e600e6\",\"#b3cccc\",\"#ff944d\",\"#00e600\",\"#e600e6\",\"#b3cccc\",\"#ff944d\",\"#00e600\",\"#e600e6\",\"#b3cccc\",\"#ff944d\",\"#00e600\",\"#e600e6\",\"#b3cccc\",\"#ff944d\",\"#00e600\",\"#e600e6\",\"#b3cccc\",\"#ff944d\",\"#00e600\",\"#e600e6\",\"#b3cccc\",\"#ff944d\",\"#00e600\",\"#e600e6\",\"#b3cccc\",\"#ff944d\",\"#00e600\",\"#e600e6\",\"#b3cccc\",\"#ff944d\",\"#00e600\",\"#e600e6\",\"#b3cccc\",\"#ff944d\",\"#00e600\",\"#e600e6\",\"#b3cccc\",\"#ff944d\",\"#00e600\",\"#e600e6\",\"#b3cccc\",\"#ff944d\",\"#00e600\",\"#e600e6\",\"#b3cccc\",\"#ff944d\",\"#00e600\",\"#e600e6\",\"#b3cccc\",\"#ff944d\",\"#00e600\",\"#e600e6\",\"#b3cccc\",\"#ff944d\",\"#00e600\",\"#e600e6\",\"#b3cccc\",\"#ff944d\",\"#00e600\",\"#e600e6\",\"#b3cccc\",\"#ff944d\",\"#00e600\",\"#e600e6\",\"#b3cccc\",\"#ff944d\",\"#00e600\",\"#e600e6\",\"#b3cccc\",\"#ff944d\",\"#00e600\",\"#e600e6\",\"#b3cccc\",\"#ff944d\",\"#00e600\",\"#e600e6\",\"#b3cccc\",\"#ff944d\",\"#00e600\",\"#e600e6\",\"#b3cccc\",\"#ff944d\",\"#00e600\",\"#e600e6\",\"#b3cccc\",\"#ff944d\",\"#00e600\",\"#e600e6\",\"#b3cccc\",\"#ff944d\",\"#00e600\",\"#e600e6\",\"#b3cccc\",\"#ff944d\",\"#00e600\",\"#e600e6\",\"#b3cccc\",\"#ff944d\",\"#00e600\",\"#e600e6\",\"#b3cccc\",\"#ff944d\",\"#00e600\",\"#e600e6\",\"#b3cccc\",\"#ff944d\",\"#00e600\",\"#e600e6\",\"#b3cccc\",\"#e65c00\",\"#008000\",\"#800080\",\"#75a3a3\",\"#e65c00\",\"#008000\",\"#800080\",\"#75a3a3\",\"#e65c00\",\"#008000\",\"#800080\",\"#75a3a3\",\"#e65c00\",\"#008000\",\"#800080\",\"#75a3a3\",\"#e65c00\",\"#008000\",\"#800080\",\"#75a3a3\",\"#e65c00\",\"#008000\",\"#800080\",\"#75a3a3\",\"#e65c00\",\"#008000\",\"#800080\",\"#75a3a3\",\"#e65c00\",\"#008000\",\"#800080\",\"#75a3a3\",\"#e65c00\",\"#008000\",\"#800080\",\"#75a3a3\",\"#e65c00\",\"#008000\",\"#800080\",\"#75a3a3\",\"#e65c00\",\"#008000\",\"#800080\",\"#75a3a3\",\"#e65c00\",\"#008000\",\"#800080\",\"#75a3a3\",\"#e65c00\",\"#008000\",\"#800080\",\"#75a3a3\",\"#e65c00\",\"#008000\",\"#800080\",\"#75a3a3\",\"#e65c00\",\"#008000\",\"#800080\",\"#75a3a3\",\"#e65c00\",\"#008000\",\"#800080\",\"#75a3a3\",\"#e65c00\",\"#008000\",\"#800080\",\"#75a3a3\",\"#e65c00\",\"#008000\",\"#800080\",\"#75a3a3\",\"#e65c00\",\"#008000\",\"#800080\",\"#75a3a3\",\"#e65c00\",\"#008000\",\"#800080\",\"#75a3a3\",\"#e65c00\",\"#008000\",\"#800080\",\"#75a3a3\",\"#e65c00\",\"#008000\",\"#800080\",\"#75a3a3\",\"#e65c00\",\"#008000\",\"#800080\",\"#75a3a3\",\"#e65c00\",\"#008000\",\"#800080\",\"#75a3a3\",\"#e65c00\",\"#008000\",\"#800080\",\"#75a3a3\",\"#e65c00\",\"#008000\",\"#800080\",\"#75a3a3\",\"#e65c00\",\"#008000\",\"#800080\",\"#75a3a3\",\"#e65c00\",\"#008000\",\"#800080\",\"#75a3a3\",\"#e65c00\",\"#008000\",\"#800080\",\"#75a3a3\",\"#e65c00\",\"#008000\",\"#800080\",\"#75a3a3\",\"#e65c00\",\"#008000\",\"#800080\",\"#75a3a3\",\"#e65c00\",\"#008000\",\"#800080\",\"#75a3a3\",\"#e65c00\",\"#008000\",\"#800080\",\"#75a3a3\",\"#e65c00\",\"#008000\",\"#800080\",\"#75a3a3\",\"#e65c00\",\"#008000\",\"#800080\",\"#75a3a3\",\"#e65c00\",\"#008000\",\"#800080\",\"#75a3a3\",\"#e65c00\",\"#008000\",\"#800080\",\"#75a3a3\",\"#e65c00\",\"#008000\",\"#800080\",\"#75a3a3\",\"#e65c00\",\"#008000\",\"#800080\",\"#75a3a3\",\"#e65c00\",\"#008000\",\"#800080\",\"#75a3a3\",\"#e65c00\",\"#008000\",\"#800080\",\"#75a3a3\",\"#e65c00\",\"#008000\",\"#800080\",\"#75a3a3\",\"#e65c00\",\"#008000\",\"#800080\",\"#75a3a3\",\"#e65c00\",\"#008000\",\"#800080\",\"#75a3a3\",\"#e65c00\",\"#008000\",\"#800080\",\"#75a3a3\",\"#e65c00\",\"#008000\",\"#800080\",\"#75a3a3\",\"#e65c00\",\"#008000\",\"#800080\",\"#75a3a3\",\"#e65c00\",\"#008000\",\"#800080\",\"#75a3a3\",\"#e65c00\",\"#008000\",\"#800080\",\"#75a3a3\",\"#e65c00\",\"#008000\",\"#800080\",\"#75a3a3\",\"#e65c00\",\"#008000\",\"#800080\",\"#75a3a3\",\"#e65c00\",\"#008000\",\"#800080\",\"#75a3a3\",\"#e65c00\",\"#008000\",\"#800080\",\"#75a3a3\",\"#e65c00\",\"#008000\",\"#800080\",\"#75a3a3\",\"#e65c00\",\"#008000\",\"#800080\",\"#75a3a3\",\"#e65c00\",\"#008000\",\"#800080\",\"#75a3a3\",\"#e65c00\",\"#008000\",\"#800080\",\"#75a3a3\",\"#e65c00\",\"#008000\",\"#800080\",\"#75a3a3\",\"#e65c00\",\"#008000\",\"#800080\",\"#75a3a3\",\"#e65c00\",\"#008000\",\"#800080\",\"#75a3a3\",\"#e65c00\",\"#008000\",\"#800080\",\"#75a3a3\",\"#e65c00\",\"#008000\",\"#800080\",\"#75a3a3\",\"#e65c00\",\"#008000\",\"#800080\",\"#75a3a3\",\"#e65c00\",\"#008000\",\"#800080\",\"#75a3a3\",\"#e65c00\",\"#008000\",\"#800080\",\"#75a3a3\",\"#e65c00\",\"#008000\",\"#800080\",\"#75a3a3\",\"#e65c00\",\"#008000\",\"#800080\",\"#75a3a3\",\"#e65c00\",\"#008000\",\"#800080\",\"#75a3a3\",\"#e65c00\",\"#008000\",\"#800080\",\"#75a3a3\",\"#e65c00\",\"#008000\",\"#800080\",\"#75a3a3\",\"#e65c00\",\"#008000\",\"#800080\",\"#75a3a3\",\"#e65c00\",\"#008000\",\"#800080\",\"#75a3a3\",\"#e65c00\",\"#008000\",\"#800080\",\"#75a3a3\",\"#e65c00\",\"#008000\",\"#800080\",\"#75a3a3\",\"#e65c00\",\"#008000\",\"#800080\",\"#75a3a3\",\"#e65c00\",\"#008000\",\"#800080\",\"#75a3a3\",\"#e65c00\",\"#008000\",\"#800080\",\"#75a3a3\",\"#e65c00\",\"#008000\",\"#800080\",\"#75a3a3\",\"#e65c00\",\"#008000\",\"#800080\",\"#75a3a3\",\"#e65c00\",\"#008000\",\"#800080\",\"#75a3a3\",\"#e65c00\",\"#008000\",\"#800080\",\"#75a3a3\",\"#e65c00\",\"#008000\",\"#800080\",\"#75a3a3\",\"#e65c00\",\"#008000\",\"#800080\",\"#75a3a3\",\"#e65c00\",\"#008000\",\"#800080\",\"#75a3a3\",\"#e65c00\",\"#008000\",\"#800080\",\"#75a3a3\",\"#e65c00\",\"#008000\",\"#800080\",\"#75a3a3\",\"#e65c00\",\"#008000\",\"#800080\",\"#75a3a3\",\"#e65c00\",\"#008000\",\"#800080\",\"#75a3a3\",\"#e65c00\",\"#008000\",\"#800080\",\"#75a3a3\",\"#e65c00\",\"#008000\",\"#800080\",\"#75a3a3\",\"#e65c00\",\"#008000\",\"#800080\",\"#75a3a3\",\"#e65c00\",\"#008000\",\"#800080\",\"#75a3a3\",\"#e65c00\",\"#008000\",\"#800080\",\"#75a3a3\",\"#e65c00\",\"#008000\",\"#800080\",\"#75a3a3\",\"#e65c00\",\"#008000\",\"#800080\",\"#75a3a3\",\"#e65c00\",\"#008000\",\"#800080\",\"#75a3a3\",\"#e65c00\",\"#008000\",\"#800080\",\"#75a3a3\",\"#e65c00\",\"#008000\",\"#800080\",\"#75a3a3\",\"#e65c00\",\"#008000\",\"#800080\",\"#75a3a3\",\"#e65c00\",\"#008000\",\"#800080\",\"#75a3a3\",\"#e65c00\",\"#008000\",\"#800080\",\"#75a3a3\",\"#e65c00\",\"#008000\",\"#800080\",\"#75a3a3\",\"#e65c00\",\"#008000\",\"#800080\",\"#75a3a3\",\"#e65c00\",\"#008000\",\"#800080\",\"#75a3a3\",\"#e65c00\",\"#008000\",\"#800080\",\"#75a3a3\",\"#e65c00\",\"#008000\",\"#800080\",\"#75a3a3\",\"#e65c00\",\"#008000\",\"#800080\",\"#75a3a3\",\"#e65c00\",\"#008000\",\"#800080\",\"#75a3a3\",\"#e65c00\",\"#008000\",\"#800080\",\"#75a3a3\",\"#e65c00\",\"#008000\",\"#800080\",\"#75a3a3\",\"#e65c00\",\"#008000\",\"#800080\",\"#75a3a3\",\"#e65c00\",\"#008000\",\"#800080\",\"#75a3a3\",\"#e65c00\",\"#008000\",\"#800080\",\"#75a3a3\"],\"index\":[0,1,2,3,4,5,6,7,8,9,10,11,12,13,14,15,16,17,18,19,20,21,22,23,24,25,26,27,28,29,30,31,32,33,34,35,36,37,38,39,40,41,42,43,44,45,46,47,48,49,50,51,52,53,54,55,56,57,58,59,60,61,62,63,64,65,66,67,68,69,70,71,72,73,74,75,76,77,78,79,80,81,82,83,84,85,86,87,88,89,90,91,92,93,94,95,96,97,98,99,100,101,102,103,104,105,106,107,108,109,110,111,112,113,114,115,116,117,118,119,120,121,122,123,124,125,126,127,128,129,130,131,132,133,134,135,136,137,138,139,140,141,142,143,144,145,146,147,148,149,150,151,152,153,154,155,156,157,158,159,160,161,162,163,164,165,166,167,168,169,170,171,172,173,174,175,176,177,178,179,180,181,182,183,184,185,186,187,188,189,190,191,192,193,194,195,196,197,198,199,200,201,202,203,204,205,206,207,208,209,210,211,212,213,214,215,216,217,218,219,220,221,222,223,224,225,226,227,228,229,230,231,232,233,234,235,236,237,238,239,240,241,242,243,244,245,246,247,248,249,250,251,252,253,254,255,256,257,258,259,260,261,262,263,264,265,266,267,268,269,270,271,272,273,274,275,276,277,278,279,280,281,282,283,284,285,286,287,288,289,290,291,292,293,294,295,296,297,298,299,300,301,302,303,304,305,306,307,308,309,310,311,312,313,314,315,316,317,318,319,320,321,322,323,324,325,326,327,328,329,330,331,332,333,334,335,336,337,338,339,340,341,342,343,344,345,346,347,348,349,350,351,352,353,354,355,356,357,358,359,360,361,362,363,364,365,366,367,368,369,370,371,372,373,374,375,376,377,378,379,380,381,382,383,384,385,386,387,388,389,390,391,392,393,394,395,396,397,398,399,400,401,402,403,404,405,406,407,408,409,410,411,412,413,414,415,416,417,418,419,420,421,422,423,424,425,426,427,428,429,430,431,432,433,434,435,436,437,438,439,440,441,442,443,444,445,446,447,448,449,450,451,452,453,454,455,456,457,458,459,460,461,462,463,464,465,466,467,468,469,470,471,472,473,474,475,476,477,478,479,480,481,482,483,484,485,486,487,488,489,490,491,492,493,494,495,496,497,498,499,500,501,502,503,504,505,506,507,508,509,510,511,512,513,514,515,516,517,518,519,520,521,522,523,524,525,526,527,528,529,530,531,532,533,534,535,536,537,538,539,540,541,542,543,544,545,546,547,548,549,550,551,552,553,554,555,556,557,558,559,560,561,562,563,564,565,566,567,568,569,570,571,572,573,574,575,576,577,578,579,580,581,582,583,584,585,586,587,588,589,590,591,592,593,594,595,596,597,598,599,600,601,602,603,604,605,606,607,608,609,610,611,612,613,614,615,616,617,618,619,620,621,622,623,624,625,626,627,628,629,630,631,632,633,634,635,636,637,638,639,640,641,642,643,644,645,646,647,648,649,650,651,652,653,654,655,656,657,658,659,660,661,662,663,664,665,666,667,668,669,670,671,672,673,674,675,676,677,678,679,680,681,682,683,684,685,686,687,688,689,690,691,692,693,694,695,696,697,698,699,700,701,702,703,704,705,706,707,708,709,710,711,712,713,714,715,716,717,718,719,720,721,722,723,724,725,726,727,728,729,730,731,732,733,734,735,736,737,738,739,740,741,742,743,744,745,746,747,748,749,750,751,752,753,754,755,756,757,758,759,760,761,762,763,764,765,766,767,768,769,770,771,772,773,774,775,776,777,778,779,780,781,782,783,784,785,786,787,788,789,790,791,792,793,794,795,796,797,798,799],\"left\":[1467331200000.0,1467331200000.0,1467331200000.0,1467331200000.0,1470009600000.0,1470009600000.0,1470009600000.0,1470009600000.0,1472688000000.0,1472688000000.0,1472688000000.0,1472688000000.0,1475280000000.0,1475280000000.0,1475280000000.0,1475280000000.0,1477958400000.0,1477958400000.0,1477958400000.0,1477958400000.0,1480550400000.0,1480550400000.0,1480550400000.0,1480550400000.0,1483228800000.0,1483228800000.0,1483228800000.0,1483228800000.0,1485907200000.0,1485907200000.0,1485907200000.0,1485907200000.0,1488326400000.0,1488326400000.0,1488326400000.0,1488326400000.0,1491004800000.0,1491004800000.0,1491004800000.0,1491004800000.0,1493596800000.0,1493596800000.0,1493596800000.0,1493596800000.0,1496275200000.0,1496275200000.0,1496275200000.0,1496275200000.0,1498867200000.0,1498867200000.0,1498867200000.0,1498867200000.0,1501545600000.0,1501545600000.0,1501545600000.0,1501545600000.0,1504224000000.0,1504224000000.0,1504224000000.0,1504224000000.0,1506816000000.0,1506816000000.0,1506816000000.0,1506816000000.0,1509494400000.0,1509494400000.0,1509494400000.0,1509494400000.0,1512086400000.0,1512086400000.0,1512086400000.0,1512086400000.0,1514764800000.0,1514764800000.0,1514764800000.0,1514764800000.0,1517443200000.0,1517443200000.0,1517443200000.0,1517443200000.0,1519862400000.0,1519862400000.0,1519862400000.0,1519862400000.0,1522540800000.0,1522540800000.0,1522540800000.0,1522540800000.0,1525132800000.0,1525132800000.0,1525132800000.0,1525132800000.0,1527811200000.0,1527811200000.0,1527811200000.0,1527811200000.0,1530403200000.0,1530403200000.0,1530403200000.0,1530403200000.0,1533081600000.0,1533081600000.0,1533081600000.0,1533081600000.0,1535760000000.0,1535760000000.0,1535760000000.0,1535760000000.0,1538352000000.0,1538352000000.0,1538352000000.0,1538352000000.0,1541030400000.0,1541030400000.0,1541030400000.0,1541030400000.0,1543622400000.0,1543622400000.0,1543622400000.0,1543622400000.0,1546300800000.0,1546300800000.0,1546300800000.0,1546300800000.0,1548979200000.0,1548979200000.0,1548979200000.0,1548979200000.0,1551398400000.0,1551398400000.0,1551398400000.0,1551398400000.0,1554076800000.0,1554076800000.0,1554076800000.0,1554076800000.0,1556668800000.0,1556668800000.0,1556668800000.0,1556668800000.0,1559347200000.0,1559347200000.0,1559347200000.0,1559347200000.0,1561939200000.0,1561939200000.0,1561939200000.0,1561939200000.0,1564617600000.0,1564617600000.0,1564617600000.0,1564617600000.0,1567296000000.0,1567296000000.0,1567296000000.0,1567296000000.0,1569888000000.0,1569888000000.0,1569888000000.0,1569888000000.0,1572566400000.0,1572566400000.0,1572566400000.0,1572566400000.0,1575158400000.0,1575158400000.0,1575158400000.0,1575158400000.0,1577836800000.0,1577836800000.0,1577836800000.0,1577836800000.0,1580515200000.0,1580515200000.0,1580515200000.0,1580515200000.0,1583020800000.0,1583020800000.0,1583020800000.0,1583020800000.0,1585699200000.0,1585699200000.0,1585699200000.0,1585699200000.0,1588291200000.0,1588291200000.0,1588291200000.0,1588291200000.0,1590969600000.0,1590969600000.0,1590969600000.0,1590969600000.0,1593561600000.0,1593561600000.0,1593561600000.0,1593561600000.0,1596240000000.0,1596240000000.0,1596240000000.0,1596240000000.0,1598918400000.0,1598918400000.0,1598918400000.0,1598918400000.0,1601510400000.0,1601510400000.0,1601510400000.0,1601510400000.0,1604188800000.0,1604188800000.0,1604188800000.0,1604188800000.0,1606780800000.0,1606780800000.0,1606780800000.0,1606780800000.0,1609459200000.0,1609459200000.0,1609459200000.0,1609459200000.0,1612137600000.0,1612137600000.0,1612137600000.0,1612137600000.0,1614556800000.0,1614556800000.0,1614556800000.0,1614556800000.0,1617235200000.0,1617235200000.0,1617235200000.0,1617235200000.0,1619827200000.0,1619827200000.0,1619827200000.0,1619827200000.0,1622505600000.0,1622505600000.0,1622505600000.0,1622505600000.0,1625097600000.0,1625097600000.0,1625097600000.0,1625097600000.0,1627776000000.0,1627776000000.0,1627776000000.0,1627776000000.0,1630454400000.0,1630454400000.0,1630454400000.0,1630454400000.0,1633046400000.0,1633046400000.0,1633046400000.0,1633046400000.0,1635724800000.0,1635724800000.0,1635724800000.0,1635724800000.0,1638316800000.0,1638316800000.0,1638316800000.0,1638316800000.0,1640995200000.0,1640995200000.0,1640995200000.0,1640995200000.0,1643673600000.0,1643673600000.0,1643673600000.0,1643673600000.0,1646092800000.0,1646092800000.0,1646092800000.0,1646092800000.0,1648771200000.0,1648771200000.0,1648771200000.0,1648771200000.0,1651363200000.0,1651363200000.0,1651363200000.0,1651363200000.0,1654041600000.0,1654041600000.0,1654041600000.0,1654041600000.0,1656633600000.0,1656633600000.0,1656633600000.0,1656633600000.0,1659312000000.0,1659312000000.0,1659312000000.0,1659312000000.0,1661990400000.0,1661990400000.0,1661990400000.0,1661990400000.0,1664582400000.0,1664582400000.0,1664582400000.0,1664582400000.0,1667260800000.0,1667260800000.0,1667260800000.0,1667260800000.0,1669852800000.0,1669852800000.0,1669852800000.0,1669852800000.0,1672531200000.0,1672531200000.0,1672531200000.0,1672531200000.0,1675209600000.0,1675209600000.0,1675209600000.0,1675209600000.0,1677628800000.0,1677628800000.0,1677628800000.0,1677628800000.0,1680307200000.0,1680307200000.0,1680307200000.0,1680307200000.0,1682899200000.0,1682899200000.0,1682899200000.0,1682899200000.0,1685577600000.0,1685577600000.0,1685577600000.0,1685577600000.0,1688169600000.0,1688169600000.0,1688169600000.0,1688169600000.0,1690848000000.0,1690848000000.0,1690848000000.0,1690848000000.0,1693526400000.0,1693526400000.0,1693526400000.0,1693526400000.0,1696118400000.0,1696118400000.0,1696118400000.0,1696118400000.0,1698796800000.0,1698796800000.0,1698796800000.0,1698796800000.0,1701388800000.0,1701388800000.0,1701388800000.0,1701388800000.0,1704067200000.0,1704067200000.0,1704067200000.0,1704067200000.0,1706745600000.0,1706745600000.0,1706745600000.0,1706745600000.0,1709251200000.0,1709251200000.0,1709251200000.0,1709251200000.0,1711929600000.0,1711929600000.0,1711929600000.0,1711929600000.0,1714521600000.0,1714521600000.0,1714521600000.0,1714521600000.0,1717200000000.0,1717200000000.0,1717200000000.0,1717200000000.0,1719792000000.0,1719792000000.0,1719792000000.0,1719792000000.0,1722470400000.0,1722470400000.0,1722470400000.0,1722470400000.0,1725148800000.0,1725148800000.0,1725148800000.0,1725148800000.0,1727740800000.0,1727740800000.0,1727740800000.0,1727740800000.0,1730419200000.0,1730419200000.0,1730419200000.0,1730419200000.0,1733011200000.0,1733011200000.0,1733011200000.0,1733011200000.0,1735689600000.0,1735689600000.0,1735689600000.0,1735689600000.0,1738368000000.0,1738368000000.0,1738368000000.0,1738368000000.0,1740787200000.0,1740787200000.0,1740787200000.0,1740787200000.0,1743465600000.0,1743465600000.0,1743465600000.0,1743465600000.0,1746057600000.0,1746057600000.0,1746057600000.0,1746057600000.0,1748736000000.0,1748736000000.0,1748736000000.0,1748736000000.0,1751328000000.0,1751328000000.0,1751328000000.0,1751328000000.0,1754006400000.0,1754006400000.0,1754006400000.0,1754006400000.0,1756684800000.0,1756684800000.0,1756684800000.0,1756684800000.0,1759276800000.0,1759276800000.0,1759276800000.0,1759276800000.0,1761955200000.0,1761955200000.0,1761955200000.0,1761955200000.0,1764547200000.0,1764547200000.0,1764547200000.0,1764547200000.0,1767225600000.0,1767225600000.0,1767225600000.0,1767225600000.0,1769904000000.0,1769904000000.0,1769904000000.0,1769904000000.0,1772323200000.0,1772323200000.0,1772323200000.0,1772323200000.0,1775001600000.0,1775001600000.0,1775001600000.0,1775001600000.0,1777593600000.0,1777593600000.0,1777593600000.0,1777593600000.0,1780272000000.0,1780272000000.0,1780272000000.0,1780272000000.0,1782864000000.0,1782864000000.0,1782864000000.0,1782864000000.0,1785542400000.0,1785542400000.0,1785542400000.0,1785542400000.0,1788220800000.0,1788220800000.0,1788220800000.0,1788220800000.0,1790812800000.0,1790812800000.0,1790812800000.0,1790812800000.0,1793491200000.0,1793491200000.0,1793491200000.0,1793491200000.0,1796083200000.0,1796083200000.0,1796083200000.0,1796083200000.0,1798761600000.0,1798761600000.0,1798761600000.0,1798761600000.0,1801440000000.0,1801440000000.0,1801440000000.0,1801440000000.0,1803859200000.0,1803859200000.0,1803859200000.0,1803859200000.0,1806537600000.0,1806537600000.0,1806537600000.0,1806537600000.0,1809129600000.0,1809129600000.0,1809129600000.0,1809129600000.0,1811808000000.0,1811808000000.0,1811808000000.0,1811808000000.0,1814400000000.0,1814400000000.0,1814400000000.0,1814400000000.0,1817078400000.0,1817078400000.0,1817078400000.0,1817078400000.0,1819756800000.0,1819756800000.0,1819756800000.0,1819756800000.0,1822348800000.0,1822348800000.0,1822348800000.0,1822348800000.0,1825027200000.0,1825027200000.0,1825027200000.0,1825027200000.0,1827619200000.0,1827619200000.0,1827619200000.0,1827619200000.0,1830297600000.0,1830297600000.0,1830297600000.0,1830297600000.0,1832976000000.0,1832976000000.0,1832976000000.0,1832976000000.0,1835481600000.0,1835481600000.0,1835481600000.0,1835481600000.0,1838160000000.0,1838160000000.0,1838160000000.0,1838160000000.0,1840752000000.0,1840752000000.0,1840752000000.0,1840752000000.0,1843430400000.0,1843430400000.0,1843430400000.0,1843430400000.0,1846022400000.0,1846022400000.0,1846022400000.0,1846022400000.0,1848700800000.0,1848700800000.0,1848700800000.0,1848700800000.0,1851379200000.0,1851379200000.0,1851379200000.0,1851379200000.0,1853971200000.0,1853971200000.0,1853971200000.0,1853971200000.0,1856649600000.0,1856649600000.0,1856649600000.0,1856649600000.0,1859241600000.0,1859241600000.0,1859241600000.0,1859241600000.0,1861920000000.0,1861920000000.0,1861920000000.0,1861920000000.0,1864598400000.0,1864598400000.0,1864598400000.0,1864598400000.0,1867017600000.0,1867017600000.0,1867017600000.0,1867017600000.0,1869696000000.0,1869696000000.0,1869696000000.0,1869696000000.0,1872288000000.0,1872288000000.0,1872288000000.0,1872288000000.0,1874966400000.0,1874966400000.0,1874966400000.0,1874966400000.0,1877558400000.0,1877558400000.0,1877558400000.0,1877558400000.0,1880236800000.0,1880236800000.0,1880236800000.0,1880236800000.0,1882915200000.0,1882915200000.0,1882915200000.0,1882915200000.0,1885507200000.0,1885507200000.0,1885507200000.0,1885507200000.0,1888185600000.0,1888185600000.0,1888185600000.0,1888185600000.0,1890777600000.0,1890777600000.0,1890777600000.0,1890777600000.0,1893456000000.0,1893456000000.0,1893456000000.0,1893456000000.0,1896134400000.0,1896134400000.0,1896134400000.0,1896134400000.0,1898553600000.0,1898553600000.0,1898553600000.0,1898553600000.0,1901232000000.0,1901232000000.0,1901232000000.0,1901232000000.0,1903824000000.0,1903824000000.0,1903824000000.0,1903824000000.0,1906502400000.0,1906502400000.0,1906502400000.0,1906502400000.0,1909094400000.0,1909094400000.0,1909094400000.0,1909094400000.0,1911772800000.0,1911772800000.0,1911772800000.0,1911772800000.0,1914451200000.0,1914451200000.0,1914451200000.0,1914451200000.0,1917043200000.0,1917043200000.0,1917043200000.0,1917043200000.0,1919721600000.0,1919721600000.0,1919721600000.0,1919721600000.0,1922313600000.0,1922313600000.0,1922313600000.0,1922313600000.0,1924992000000.0,1924992000000.0,1924992000000.0,1924992000000.0,1927670400000.0,1927670400000.0,1927670400000.0,1927670400000.0,1930089600000.0,1930089600000.0,1930089600000.0,1930089600000.0,1932768000000.0,1932768000000.0,1932768000000.0,1932768000000.0,1935360000000.0,1935360000000.0,1935360000000.0,1935360000000.0,1938038400000.0,1938038400000.0,1938038400000.0,1938038400000.0,1940630400000.0,1940630400000.0,1940630400000.0,1940630400000.0,1943308800000.0,1943308800000.0,1943308800000.0,1943308800000.0,1945987200000.0,1945987200000.0,1945987200000.0,1945987200000.0,1948579200000.0,1948579200000.0,1948579200000.0,1948579200000.0,1951257600000.0,1951257600000.0,1951257600000.0,1951257600000.0,1953849600000.0,1953849600000.0,1953849600000.0,1953849600000.0,1956528000000.0,1956528000000.0,1956528000000.0,1956528000000.0,1959206400000.0,1959206400000.0,1959206400000.0,1959206400000.0,1961712000000.0,1961712000000.0,1961712000000.0,1961712000000.0,1964390400000.0,1964390400000.0,1964390400000.0,1964390400000.0,1966982400000.0,1966982400000.0,1966982400000.0,1966982400000.0,1969660800000.0,1969660800000.0,1969660800000.0,1969660800000.0,1972252800000.0,1972252800000.0,1972252800000.0,1972252800000.0,1974931200000.0,1974931200000.0,1974931200000.0,1974931200000.0,1977609600000.0,1977609600000.0,1977609600000.0,1977609600000.0,1980201600000.0,1980201600000.0,1980201600000.0,1980201600000.0,1982880000000.0,1982880000000.0,1982880000000.0,1982880000000.0,1985472000000.0,1985472000000.0,1985472000000.0,1985472000000.0,1988150400000.0,1988150400000.0,1988150400000.0,1988150400000.0,1990828800000.0,1990828800000.0,1990828800000.0,1990828800000.0],\"right\":[1470009600000.0,1470009600000.0,1470009600000.0,1470009600000.0,1472688000000.0,1472688000000.0,1472688000000.0,1472688000000.0,1475280000000.0,1475280000000.0,1475280000000.0,1475280000000.0,1477958400000.0,1477958400000.0,1477958400000.0,1477958400000.0,1480550400000.0,1480550400000.0,1480550400000.0,1480550400000.0,1483228800000.0,1483228800000.0,1483228800000.0,1483228800000.0,1485907200000.0,1485907200000.0,1485907200000.0,1485907200000.0,1488326400000.0,1488326400000.0,1488326400000.0,1488326400000.0,1491004800000.0,1491004800000.0,1491004800000.0,1491004800000.0,1493596800000.0,1493596800000.0,1493596800000.0,1493596800000.0,1496275200000.0,1496275200000.0,1496275200000.0,1496275200000.0,1498867200000.0,1498867200000.0,1498867200000.0,1498867200000.0,1501545600000.0,1501545600000.0,1501545600000.0,1501545600000.0,1504224000000.0,1504224000000.0,1504224000000.0,1504224000000.0,1506816000000.0,1506816000000.0,1506816000000.0,1506816000000.0,1509494400000.0,1509494400000.0,1509494400000.0,1509494400000.0,1512086400000.0,1512086400000.0,1512086400000.0,1512086400000.0,1514764800000.0,1514764800000.0,1514764800000.0,1514764800000.0,1517443200000.0,1517443200000.0,1517443200000.0,1517443200000.0,1519862400000.0,1519862400000.0,1519862400000.0,1519862400000.0,1522540800000.0,1522540800000.0,1522540800000.0,1522540800000.0,1525132800000.0,1525132800000.0,1525132800000.0,1525132800000.0,1527811200000.0,1527811200000.0,1527811200000.0,1527811200000.0,1530403200000.0,1530403200000.0,1530403200000.0,1530403200000.0,1533081600000.0,1533081600000.0,1533081600000.0,1533081600000.0,1535760000000.0,1535760000000.0,1535760000000.0,1535760000000.0,1538352000000.0,1538352000000.0,1538352000000.0,1538352000000.0,1541030400000.0,1541030400000.0,1541030400000.0,1541030400000.0,1543622400000.0,1543622400000.0,1543622400000.0,1543622400000.0,1546300800000.0,1546300800000.0,1546300800000.0,1546300800000.0,1548979200000.0,1548979200000.0,1548979200000.0,1548979200000.0,1551398400000.0,1551398400000.0,1551398400000.0,1551398400000.0,1554076800000.0,1554076800000.0,1554076800000.0,1554076800000.0,1556668800000.0,1556668800000.0,1556668800000.0,1556668800000.0,1559347200000.0,1559347200000.0,1559347200000.0,1559347200000.0,1561939200000.0,1561939200000.0,1561939200000.0,1561939200000.0,1564617600000.0,1564617600000.0,1564617600000.0,1564617600000.0,1567296000000.0,1567296000000.0,1567296000000.0,1567296000000.0,1569888000000.0,1569888000000.0,1569888000000.0,1569888000000.0,1572566400000.0,1572566400000.0,1572566400000.0,1572566400000.0,1575158400000.0,1575158400000.0,1575158400000.0,1575158400000.0,1577836800000.0,1577836800000.0,1577836800000.0,1577836800000.0,1580515200000.0,1580515200000.0,1580515200000.0,1580515200000.0,1583020800000.0,1583020800000.0,1583020800000.0,1583020800000.0,1585699200000.0,1585699200000.0,1585699200000.0,1585699200000.0,1588291200000.0,1588291200000.0,1588291200000.0,1588291200000.0,1590969600000.0,1590969600000.0,1590969600000.0,1590969600000.0,1593561600000.0,1593561600000.0,1593561600000.0,1593561600000.0,1596240000000.0,1596240000000.0,1596240000000.0,1596240000000.0,1598918400000.0,1598918400000.0,1598918400000.0,1598918400000.0,1601510400000.0,1601510400000.0,1601510400000.0,1601510400000.0,1604188800000.0,1604188800000.0,1604188800000.0,1604188800000.0,1606780800000.0,1606780800000.0,1606780800000.0,1606780800000.0,1609459200000.0,1609459200000.0,1609459200000.0,1609459200000.0,1612137600000.0,1612137600000.0,1612137600000.0,1612137600000.0,1614556800000.0,1614556800000.0,1614556800000.0,1614556800000.0,1617235200000.0,1617235200000.0,1617235200000.0,1617235200000.0,1619827200000.0,1619827200000.0,1619827200000.0,1619827200000.0,1622505600000.0,1622505600000.0,1622505600000.0,1622505600000.0,1625097600000.0,1625097600000.0,1625097600000.0,1625097600000.0,1627776000000.0,1627776000000.0,1627776000000.0,1627776000000.0,1630454400000.0,1630454400000.0,1630454400000.0,1630454400000.0,1633046400000.0,1633046400000.0,1633046400000.0,1633046400000.0,1635724800000.0,1635724800000.0,1635724800000.0,1635724800000.0,1638316800000.0,1638316800000.0,1638316800000.0,1638316800000.0,1640995200000.0,1640995200000.0,1640995200000.0,1640995200000.0,1643673600000.0,1643673600000.0,1643673600000.0,1643673600000.0,1646092800000.0,1646092800000.0,1646092800000.0,1646092800000.0,1648771200000.0,1648771200000.0,1648771200000.0,1648771200000.0,1651363200000.0,1651363200000.0,1651363200000.0,1651363200000.0,1654041600000.0,1654041600000.0,1654041600000.0,1654041600000.0,1656633600000.0,1656633600000.0,1656633600000.0,1656633600000.0,1659312000000.0,1659312000000.0,1659312000000.0,1659312000000.0,1661990400000.0,1661990400000.0,1661990400000.0,1661990400000.0,1664582400000.0,1664582400000.0,1664582400000.0,1664582400000.0,1667260800000.0,1667260800000.0,1667260800000.0,1667260800000.0,1669852800000.0,1669852800000.0,1669852800000.0,1669852800000.0,1672531200000.0,1672531200000.0,1672531200000.0,1672531200000.0,1675209600000.0,1675209600000.0,1675209600000.0,1675209600000.0,1677628800000.0,1677628800000.0,1677628800000.0,1677628800000.0,1680307200000.0,1680307200000.0,1680307200000.0,1680307200000.0,1682899200000.0,1682899200000.0,1682899200000.0,1682899200000.0,1685577600000.0,1685577600000.0,1685577600000.0,1685577600000.0,1688169600000.0,1688169600000.0,1688169600000.0,1688169600000.0,1690848000000.0,1690848000000.0,1690848000000.0,1690848000000.0,1693526400000.0,1693526400000.0,1693526400000.0,1693526400000.0,1696118400000.0,1696118400000.0,1696118400000.0,1696118400000.0,1698796800000.0,1698796800000.0,1698796800000.0,1698796800000.0,1701388800000.0,1701388800000.0,1701388800000.0,1701388800000.0,1704067200000.0,1704067200000.0,1704067200000.0,1704067200000.0,1706745600000.0,1706745600000.0,1706745600000.0,1706745600000.0,1709251200000.0,1709251200000.0,1709251200000.0,1709251200000.0,1711929600000.0,1711929600000.0,1711929600000.0,1711929600000.0,1714521600000.0,1714521600000.0,1714521600000.0,1714521600000.0,1717200000000.0,1717200000000.0,1717200000000.0,1717200000000.0,1719792000000.0,1719792000000.0,1719792000000.0,1719792000000.0,1722470400000.0,1722470400000.0,1722470400000.0,1722470400000.0,1725148800000.0,1725148800000.0,1725148800000.0,1725148800000.0,1727740800000.0,1727740800000.0,1727740800000.0,1727740800000.0,1730419200000.0,1730419200000.0,1730419200000.0,1730419200000.0,1733011200000.0,1733011200000.0,1733011200000.0,1733011200000.0,1735689600000.0,1735689600000.0,1735689600000.0,1735689600000.0,1738368000000.0,1738368000000.0,1738368000000.0,1738368000000.0,1740787200000.0,1740787200000.0,1740787200000.0,1740787200000.0,1743465600000.0,1743465600000.0,1743465600000.0,1743465600000.0,1746057600000.0,1746057600000.0,1746057600000.0,1746057600000.0,1748736000000.0,1748736000000.0,1748736000000.0,1748736000000.0,1751328000000.0,1751328000000.0,1751328000000.0,1751328000000.0,1754006400000.0,1754006400000.0,1754006400000.0,1754006400000.0,1756684800000.0,1756684800000.0,1756684800000.0,1756684800000.0,1759276800000.0,1759276800000.0,1759276800000.0,1759276800000.0,1761955200000.0,1761955200000.0,1761955200000.0,1761955200000.0,1764547200000.0,1764547200000.0,1764547200000.0,1764547200000.0,1767225600000.0,1767225600000.0,1767225600000.0,1767225600000.0,1769904000000.0,1769904000000.0,1769904000000.0,1769904000000.0,1772323200000.0,1772323200000.0,1772323200000.0,1772323200000.0,1775001600000.0,1775001600000.0,1775001600000.0,1775001600000.0,1777593600000.0,1777593600000.0,1777593600000.0,1777593600000.0,1780272000000.0,1780272000000.0,1780272000000.0,1780272000000.0,1782864000000.0,1782864000000.0,1782864000000.0,1782864000000.0,1785542400000.0,1785542400000.0,1785542400000.0,1785542400000.0,1788220800000.0,1788220800000.0,1788220800000.0,1788220800000.0,1790812800000.0,1790812800000.0,1790812800000.0,1790812800000.0,1793491200000.0,1793491200000.0,1793491200000.0,1793491200000.0,1796083200000.0,1796083200000.0,1796083200000.0,1796083200000.0,1798761600000.0,1798761600000.0,1798761600000.0,1798761600000.0,1801440000000.0,1801440000000.0,1801440000000.0,1801440000000.0,1803859200000.0,1803859200000.0,1803859200000.0,1803859200000.0,1806537600000.0,1806537600000.0,1806537600000.0,1806537600000.0,1809129600000.0,1809129600000.0,1809129600000.0,1809129600000.0,1811808000000.0,1811808000000.0,1811808000000.0,1811808000000.0,1814400000000.0,1814400000000.0,1814400000000.0,1814400000000.0,1817078400000.0,1817078400000.0,1817078400000.0,1817078400000.0,1819756800000.0,1819756800000.0,1819756800000.0,1819756800000.0,1822348800000.0,1822348800000.0,1822348800000.0,1822348800000.0,1825027200000.0,1825027200000.0,1825027200000.0,1825027200000.0,1827619200000.0,1827619200000.0,1827619200000.0,1827619200000.0,1830297600000.0,1830297600000.0,1830297600000.0,1830297600000.0,1832976000000.0,1832976000000.0,1832976000000.0,1832976000000.0,1835481600000.0,1835481600000.0,1835481600000.0,1835481600000.0,1838160000000.0,1838160000000.0,1838160000000.0,1838160000000.0,1840752000000.0,1840752000000.0,1840752000000.0,1840752000000.0,1843430400000.0,1843430400000.0,1843430400000.0,1843430400000.0,1846022400000.0,1846022400000.0,1846022400000.0,1846022400000.0,1848700800000.0,1848700800000.0,1848700800000.0,1848700800000.0,1851379200000.0,1851379200000.0,1851379200000.0,1851379200000.0,1853971200000.0,1853971200000.0,1853971200000.0,1853971200000.0,1856649600000.0,1856649600000.0,1856649600000.0,1856649600000.0,1859241600000.0,1859241600000.0,1859241600000.0,1859241600000.0,1861920000000.0,1861920000000.0,1861920000000.0,1861920000000.0,1864598400000.0,1864598400000.0,1864598400000.0,1864598400000.0,1867017600000.0,1867017600000.0,1867017600000.0,1867017600000.0,1869696000000.0,1869696000000.0,1869696000000.0,1869696000000.0,1872288000000.0,1872288000000.0,1872288000000.0,1872288000000.0,1874966400000.0,1874966400000.0,1874966400000.0,1874966400000.0,1877558400000.0,1877558400000.0,1877558400000.0,1877558400000.0,1880236800000.0,1880236800000.0,1880236800000.0,1880236800000.0,1882915200000.0,1882915200000.0,1882915200000.0,1882915200000.0,1885507200000.0,1885507200000.0,1885507200000.0,1885507200000.0,1888185600000.0,1888185600000.0,1888185600000.0,1888185600000.0,1890777600000.0,1890777600000.0,1890777600000.0,1890777600000.0,1893456000000.0,1893456000000.0,1893456000000.0,1893456000000.0,1896134400000.0,1896134400000.0,1896134400000.0,1896134400000.0,1898553600000.0,1898553600000.0,1898553600000.0,1898553600000.0,1901232000000.0,1901232000000.0,1901232000000.0,1901232000000.0,1903824000000.0,1903824000000.0,1903824000000.0,1903824000000.0,1906502400000.0,1906502400000.0,1906502400000.0,1906502400000.0,1909094400000.0,1909094400000.0,1909094400000.0,1909094400000.0,1911772800000.0,1911772800000.0,1911772800000.0,1911772800000.0,1914451200000.0,1914451200000.0,1914451200000.0,1914451200000.0,1917043200000.0,1917043200000.0,1917043200000.0,1917043200000.0,1919721600000.0,1919721600000.0,1919721600000.0,1919721600000.0,1922313600000.0,1922313600000.0,1922313600000.0,1922313600000.0,1924992000000.0,1924992000000.0,1924992000000.0,1924992000000.0,1927670400000.0,1927670400000.0,1927670400000.0,1927670400000.0,1930089600000.0,1930089600000.0,1930089600000.0,1930089600000.0,1932768000000.0,1932768000000.0,1932768000000.0,1932768000000.0,1935360000000.0,1935360000000.0,1935360000000.0,1935360000000.0,1938038400000.0,1938038400000.0,1938038400000.0,1938038400000.0,1940630400000.0,1940630400000.0,1940630400000.0,1940630400000.0,1943308800000.0,1943308800000.0,1943308800000.0,1943308800000.0,1945987200000.0,1945987200000.0,1945987200000.0,1945987200000.0,1948579200000.0,1948579200000.0,1948579200000.0,1948579200000.0,1951257600000.0,1951257600000.0,1951257600000.0,1951257600000.0,1953849600000.0,1953849600000.0,1953849600000.0,1953849600000.0,1956528000000.0,1956528000000.0,1956528000000.0,1956528000000.0,1959206400000.0,1959206400000.0,1959206400000.0,1959206400000.0,1961712000000.0,1961712000000.0,1961712000000.0,1961712000000.0,1964390400000.0,1964390400000.0,1964390400000.0,1964390400000.0,1966982400000.0,1966982400000.0,1966982400000.0,1966982400000.0,1969660800000.0,1969660800000.0,1969660800000.0,1969660800000.0,1972252800000.0,1972252800000.0,1972252800000.0,1972252800000.0,1974931200000.0,1974931200000.0,1974931200000.0,1974931200000.0,1977609600000.0,1977609600000.0,1977609600000.0,1977609600000.0,1980201600000.0,1980201600000.0,1980201600000.0,1980201600000.0,1982880000000.0,1982880000000.0,1982880000000.0,1982880000000.0,1985472000000.0,1985472000000.0,1985472000000.0,1985472000000.0,1988150400000.0,1988150400000.0,1988150400000.0,1988150400000.0,1990828800000.0,1990828800000.0,1990828800000.0,1990828800000.0,1993248000000.0,1993248000000.0,1993248000000.0,1993248000000.0],\"top\":[0.0,15.0,30.0,112.34994999999999,0.0,15.0,30.049950000000003,114.70006633349999,0.0,15.0,30.100066333500003,117.05034955439054,0.0,15.0,30.15034955439056,119.40080021840666,0.0,15.0,30.200800218406677,121.75141888313395,0.0,15.0,30.251418883133972,124.1022061080148,0.0,15.0,30.30220610801481,126.45316245435448,0.0,15.0,30.353162454354504,128.80428848532748,0.0,15.0,30.404288485327505,131.15558476598363,0.0,15.0,30.455584765983645,133.50705186325433,0.0,15.0,30.50705186325437,135.85869034595896,0.0,15.0,30.558690345959008,138.21050078481102,0.0,15.0,30.61050078481105,140.56248375242444,0.0,15.0,30.662483752424475,142.91463982332002,0.0,15.0,30.71463982332005,145.26696957393165,0.0,15.0,30.766969573931704,147.61947358261284,0.0,15.0,30.8194735826129,149.97215242964296,0.0,15.0,30.872152429643002,152.32500669723365,0.0,15.0,30.925006697233712,154.67803696953547,0.0,15.0,30.978036969535502,157.031243832644,0.0,15.0,31.031243832644055,159.3846278746067,0.0,15.0,31.08462787460676,161.73818968542918,0.0,15.0,31.1381896854292,164.09192985708162,0.0,15.0,31.19192985708168,166.44584898350573,0.0,15.0,31.245848983505763,168.7999476606208,0.0,15.0,31.299947660620838,171.15422648633066,0.0,15.0,31.354226486330706,173.50868606053015,0.0,15.0,31.408686060530187,175.8633269851117,0.0,15.0,31.463326985111753,178.21814986397214,0.0,15.0,31.518149863972177,180.57315530301918,0.0,15.0,31.573155303019206,182.92834391017823,0.0,18.59999999999996,35.228343910178225,185.28371629539913,0.0,20.89999999999996,37.583716295399114,187.6392730706628,0.0,23.19999999999996,39.9392730706628,189.9950148499881,0.0,25.49999999999996,42.29501484998811,192.3509422494386,0.0,27.79999999999996,44.65094224943857,194.7070558871292,0.0,30.099999999999962,47.007055887129205,197.06335638323336,0.0,30.099999999999962,47.06335638323335,199.41984435998953,0.0,30.099999999999962,49.41984435998951,201.7841794417083,0.0,30.099999999999962,51.78417944170828,204.15638775924918,0.0,30.099999999999962,54.15638775924917,206.53649553048749,0.0,30.099999999999962,56.53649553048747,208.92452906060402,0.0,30.099999999999962,58.924529060604,211.32051474237582,0.0,30.099999999999962,61.32051474237582,213.72447905646794,0.0,30.099999999999962,63.72447905646793,216.13644857172596,0.0,30.099999999999962,66.13644857172596,218.5564499454698,0.0,30.099999999999962,68.55644994546981,220.98450992378824,0.0,30.099999999999962,70.98450992378822,223.42065534183445,0.0,30.099999999999962,73.42065534183445,225.86491312412275,0.0,30.099999999999962,75.86491312412275,228.31731028482608,0.0,30.099999999999962,78.31731028482608,230.77787392807454,0.0,30.099999999999962,80.77787392807456,233.24663124825503,0.0,30.099999999999962,83.24663124825504,235.72360953031173,0.0,30.099999999999962,85.72360953031173,238.20883615004766,0.0,30.099999999999962,88.20883615004767,240.70233857442733,0.0,30.099999999999962,90.70233857442733,243.20414436188017,0.0,30.099999999999962,93.20414436188017,245.71428116260523,0.0,30.099999999999962,95.71428116260525,248.23277671887672,0.0,30.099999999999962,98.23277671887672,250.7596588653506,0.0,30.099999999999962,100.75965886535059,253.2949555293722,0.0,30.099999999999962,103.2949555293722,255.83869473128502,0.0,30.099999999999962,105.83869473128502,258.3909045847402,0.0,30.099999999999962,108.3909045847402,260.9516132970074,0.0,30.099999999999962,110.95161329700738,263.5208491692864,0.0,30.099999999999962,33.52084916928642,266.6322405970202,0.0,30.099999999999962,33.53224059702014,269.7436699582082,0.0,30.099999999999962,33.54366995820822,272.8551373791691,0.0,30.099999999999962,33.555137379169054,275.96664298664166,0.0,30.099999999999962,33.56664298664169,279.0781869077872,0.0,30.099999999999962,33.578186907787206,282.18976927019014,0.0,30.099999999999962,33.58976927019013,285.3013902018599,0.0,30.099999999999962,33.60139020185987,288.41304983123206,0.0,30.099999999999962,33.61304983123206,291.52474828717004,0.0,30.099999999999962,33.624748287170064,294.63648569896634,0.0,30.099999999999962,33.63648569896634,297.74826219634394,0.0,30.099999999999962,33.6482621963439,300.86007790945774,0.0,30.099999999999962,33.660077909457726,303.9719329688962,0.0,30.099999999999962,33.67193296889622,307.0838275056827,0.0,30.099999999999962,33.68382750568264,310.1957616512766,0.0,30.099999999999962,33.69576165127657,313.30773553757535,0.0,30.099999999999962,33.707735537575324,316.4197492969155,0.0,30.099999999999962,33.719749296915445,319.5318030620742,0.0,30.099999999999962,33.73180306207418,322.6438969662709,0.0,30.099999999999962,33.74389696627088,325.75603114316857,0.0,30.099999999999962,33.75603114316856,328.8682057268753,0.0,30.099999999999962,33.768205726875316,331.9804208519458,0.0,30.099999999999962,33.78042085194581,335.0926766533828,0.0,30.099999999999962,33.79267665338279,338.2049732666386,0.0,30.099999999999962,38.204973266638575,341.3319628276165,0.0,30.099999999999962,41.33196282761648,344.46936526383246,0.0,30.099999999999962,44.469365263832444,347.617215250161,0.0,30.099999999999962,47.617215250161,350.77554757694406,0.0,30.099999999999962,50.775547576944035,353.94439715037527,0.0,30.099999999999962,53.944397150375266,357.123798992886,0.0,30.099999999999962,57.12379899288601,360.3137882435323,0.0,30.099999999999962,60.31378824353233,363.5144001583833,0.0,30.099999999999962,63.514400158383296,366.7256701109107,0.0,30.099999999999962,66.72567011091071,369.94763359238004,0.0,30.099999999999962,69.94763359238004,373.1803262122427,0.0,30.099999999999962,73.18032621224268,376.42378369852946,0.0,30.099999999999962,76.42378369852945,379.67804189824557,0.0,30.099999999999962,79.67804189824555,382.9431367777667,0.0,30.099999999999962,82.94313677776672,386.2191044232367,0.0,30.099999999999962,86.21910442323669,389.50598104096605,0.0,30.099999999999962,89.50598104096608,392.8038029578325,0.0,30.099999999999962,92.8038029578325,396.11260662168206,0.0,30.099999999999962,96.11260662168209,399.4324286017323,0.0,30.099999999999962,99.43242860173228,402.76330558897604,0.0,30.099999999999962,102.76330558897605,406.10527439658733,0.0,30.099999999999962,106.10527439658735,409.45837196032795,0.0,30.099999999999962,109.45837196032798,412.8226353389559,0.0,30.099999999999962,112.82263533895588,416.1981017146346,0.0,30.099999999999962,36.1981017146346,420.11840839334434,0.0,30.099999999999962,36.21840839334433,424.0387826932942,0.0,30.099999999999962,36.23878269329417,427.9592248396628,0.0,30.099999999999962,36.25922483966284,431.87973505837897,0.0,30.099999999999962,36.27973505837892,435.80031357612336,0.0,30.099999999999962,36.30031357612332,439.72096062033177,0.0,30.099999999999962,36.32096062033181,443.6416764191975,0.0,30.099999999999962,36.34167641919752,447.56246120167344,0.0,30.099999999999962,36.36246120167345,451.483315197475,0.0,30.099999999999962,36.38331519747502,455.4042386370826,0.0,30.099999999999962,36.404238637082614,459.32523175174407,0.0,30.099999999999962,36.42523175174409,463.2462947734774,0.0,30.099999999999962,36.446294773477405,467.1674279350731,0.0,30.099999999999962,36.46742793507308,471.08863147009686,0.0,30.099999999999962,36.48863147009688,475.00990561289234,0.0,30.099999999999962,36.509905612892304,478.93125059858323,0.0,30.099999999999962,36.531250598583235,482.8526666630765,0.0,30.099999999999962,36.552666663076515,486.7741540430646,0.0,30.099999999999962,36.57415404306456,490.69571297602795,0.0,30.099999999999962,40.69571297602795,494.63099670023814,0.0,30.099999999999962,44.63099670023813,498.57938491924995,0.0,30.099999999999962,48.57938491924992,502.54092127103104,0.0,30.099999999999962,52.540921271031024,506.51564953886356,0.0,30.099999999999962,56.515649538863556,510.503613651828,0.0,30.099999999999962,60.50361365182797,514.5048576852886,0.0,30.099999999999962,64.50485768528856,518.5194258613806,0.0,30.099999999999962,68.51942586138057,522.547362549499,0.0,30.099999999999962,72.54736254949897,526.5887122667888,0.0,30.099999999999962,76.5887122667888,530.6435196786372,0.0,30.099999999999962,80.6435196786372,534.711829599167,0.0,30.099999999999962,84.71182959916707,538.7936869917323,0.0,30.099999999999962,88.7936869917323,542.8891369694147,0.0,30.099999999999962,92.88913696941476,546.9982247955229,0.0,30.099999999999962,96.99822479552293,551.120995884092,0.0,30.099999999999962,101.12099588409203,555.2574958003861,0.0,30.099999999999962,105.25749580038607,559.4077702614013,0.0,30.099999999999962,109.40777026140137,563.5718651363718,0.0,30.099999999999962,113.57186513637184,567.749826447276,0.0,30.099999999999962,37.749826447275964,572.4753003693454,0.0,30.099999999999962,37.77530036934539,577.2008591195753,0.0,30.099999999999962,37.800859119575314,581.9265029804435,0.0,30.099999999999962,37.8265029804435,586.6522322353683,0.0,30.099999999999962,37.852232235368376,591.3780471687121,0.0,30.099999999999962,37.87804716871215,596.103948065784,0.0,30.099999999999962,37.903948065783965,600.829935212843,0.0,30.099999999999962,37.92993521284303,605.5560088971018,0.0,30.099999999999962,37.956008897101796,610.2821694067292,0.0,30.099999999999962,37.98216940672914,615.0084170308536,0.0,30.099999999999962,38.00841703085355,619.7347520595663,0.0,30.099999999999962,38.034752059566294,624.4611747839247,0.0,30.099999999999962,38.06117478392465,629.1876854959552,0.0,30.099999999999962,38.08768549595512,633.9142844886568,0.0,30.099999999999962,38.11428448865665,638.6409720560039,0.0,30.099999999999962,38.14097205600388,643.3677484929503,0.0,30.099999999999962,43.36774849295039,648.111930095432,0.0,30.099999999999962,48.111930095431916,652.8719098226497,0.0,30.099999999999962,52.871909822649705,657.6477402823591,0.0,30.099999999999962,57.64774028235913,662.4394742574993,0.0,30.099999999999962,62.439474257499384,667.2471647067769,0.0,30.099999999999962,67.24716470677687,672.0708647652505,0.0,30.099999999999962,72.07086476525043,676.9106277449187,0.0,30.099999999999962,76.91062774491871,681.7665071353093,0.0,30.099999999999962,81.7665071353093,686.6385566040699,0.0,30.099999999999962,86.63855660406988,691.5268299975614,0.0,30.099999999999962,91.52682999756144,696.4313813414533,0.0,30.099999999999962,96.43138134145332,701.3522648413203,0.0,30.099999999999962,101.35226484132036,706.2895348832419,0.0,30.099999999999962,106.28953488324197,711.2432460344032,0.0,30.099999999999962,111.24324603440317,716.2134530436977,0.0,30.099999999999962,36.21345304369774,721.7338108423332,0.0,30.099999999999962,36.23381084233325,727.2542364324382,0.0,30.099999999999962,36.25423643243822,732.7747300397582,0.0,30.099999999999962,36.27473003975824,738.2952918907906,0.0,30.099999999999962,36.29529189079064,743.815922212787,0.0,30.099999999999962,36.31592221278697,749.3366212337555,0.0,30.099999999999962,36.33662123375555,754.857389182464,0.0,30.099999999999962,36.357389182463955,760.3782262884415,0.0,30.099999999999962,36.37822628844156,765.8991327819821,0.0,30.099999999999962,36.399132781982075,771.4201088941461,0.0,30.099999999999962,36.420108894146075,776.9411548567635,0.0,30.099999999999962,36.44115485676358,782.4622709024366,0.0,30.099999999999962,36.4622709024366,787.9834572645417,0.0,30.099999999999962,36.48345726454172,793.5047141772327,0.0,30.099999999999962,43.50471417723264,799.0493518754429,0.0,30.099999999999962,49.049351875442824,804.6124532171881,0.0,30.099999999999962,54.61245321718805,810.1940796864013,0.0,30.099999999999962,60.19407968640129,815.794292971757,0.0,30.099999999999962,65.794292971757,821.413154967353]}},\"id\":\"6f35b971-1354-45ca-8332-0f7fbe06de30\",\"type\":\"ColumnDataSource\"},{\"attributes\":{\"bottom\":{\"field\":\"bottom\"},\"fill_alpha\":{\"value\":0.1},\"fill_color\":{\"value\":\"#1f77b4\"},\"left\":{\"field\":\"left\"},\"line_alpha\":{\"value\":0.1},\"line_color\":{\"value\":\"#1f77b4\"},\"right\":{\"field\":\"right\"},\"top\":{\"field\":\"top\"}},\"id\":\"65d70d46-d8cb-4735-9dd4-2ce7231d61d9\",\"type\":\"Quad\"},{\"attributes\":{\"dimension\":1,\"plot\":{\"id\":\"f23a5afa-9d5c-4014-a1fe-0c83a58f8542\",\"subtype\":\"Figure\",\"type\":\"Plot\"},\"ticker\":{\"id\":\"f1a40a61-1ed8-4293-b8c4-13c5e3ea83df\",\"type\":\"BasicTicker\"}},\"id\":\"f2f92e6d-a905-448c-b1a5-5b33de1a0018\",\"type\":\"Grid\"},{\"attributes\":{\"data_source\":{\"id\":\"6f35b971-1354-45ca-8332-0f7fbe06de30\",\"type\":\"ColumnDataSource\"},\"glyph\":{\"id\":\"c19a959b-fc21-4d0d-9d69-edeb1ee05cd5\",\"type\":\"Quad\"},\"hover_glyph\":null,\"nonselection_glyph\":{\"id\":\"65d70d46-d8cb-4735-9dd4-2ce7231d61d9\",\"type\":\"Quad\"},\"selection_glyph\":null},\"id\":\"f89047ef-35a5-4b9c-b9d7-97225f75d55c\",\"type\":\"GlyphRenderer\"},{\"attributes\":{\"months\":[0,1,2,3,4,5,6,7,8,9,10,11]},\"id\":\"937e3c49-d79c-427f-9069-4085f2126ebd\",\"type\":\"MonthsTicker\"},{\"attributes\":{\"days\":[1,4,7,10,13,16,19,22,25,28]},\"id\":\"218c32b3-3468-4a4a-964f-ddfe9af3f694\",\"type\":\"DaysTicker\"},{\"attributes\":{},\"id\":\"b3c9fc30-7817-4961-9d93-dd9941439a78\",\"type\":\"BasicTickFormatter\"},{\"attributes\":{\"days\":[1,15]},\"id\":\"6bc1425c-6508-4710-b85a-81746f5978ae\",\"type\":\"DaysTicker\"},{\"attributes\":{\"callback\":null},\"id\":\"2551d874-a484-402a-9b84-17f6018ab880\",\"type\":\"DataRange1d\"},{\"attributes\":{\"plot\":{\"id\":\"f23a5afa-9d5c-4014-a1fe-0c83a58f8542\",\"subtype\":\"Figure\",\"type\":\"Plot\"},\"ticker\":{\"id\":\"08ffd0a0-00d2-4f55-8e46-f1da275964bf\",\"type\":\"DatetimeTicker\"}},\"id\":\"f80325c7-ff41-4dd4-a81f-0131ca08657e\",\"type\":\"Grid\"}],\"root_ids\":[\"f23a5afa-9d5c-4014-a1fe-0c83a58f8542\"]},\"title\":\"Bokeh Application\",\"version\":\"0.11.1\"}};\n",
       "            var render_items = [{\"docid\":\"1403131d-c0f2-4f7e-a6cf-b053c0aa19b6\",\"elementid\":\"2609ac52-b652-44b9-b38c-8d3aaee0b7ba\",\"modelid\":\"f23a5afa-9d5c-4014-a1fe-0c83a58f8542\",\"notebook_comms_target\":\"d19a695b-86d9-4991-8718-c3617773d537\"}];\n",
       "            \n",
       "            Bokeh.embed.embed_items(docs_json, render_items);\n",
       "        });\n",
       "      },\n",
       "      function(Bokeh) {\n",
       "      }\n",
       "    ];\n",
       "  \n",
       "    function run_inline_js() {\n",
       "      for (var i = 0; i < inline_js.length; i++) {\n",
       "        inline_js[i](window.Bokeh);\n",
       "      }\n",
       "    }\n",
       "  \n",
       "    if (window._bokeh_is_loading === 0) {\n",
       "      console.log(\"Bokeh: BokehJS loaded, going straight to plotting\");\n",
       "      run_inline_js();\n",
       "    } else {\n",
       "      load_libs(js_urls, function() {\n",
       "        console.log(\"Bokeh: BokehJS plotting callback run at\", now());\n",
       "        run_inline_js();\n",
       "      });\n",
       "    }\n",
       "  }(this));\n",
       "</script>"
      ]
     },
     "metadata": {},
     "output_type": "display_data"
    },
    {
     "data": {
      "text/html": [
       "<p><code>&lt;Bokeh Notebook handle for <strong>In[58]</strong>&gt;</code></p>"
      ],
      "text/plain": [
       "<bokeh.io._CommsHandle at 0x7fd9e2e74048>"
      ]
     },
     "execution_count": 58,
     "metadata": {},
     "output_type": "execute_result"
    }
   ],
   "source": [
    "source=ColumnDataSource(bdf_quad)\n",
    "TOOLS=\"crosshair, pan, reset, resize, wheel_zoom\"\n",
    "\n",
    "plot = Figure(tools=TOOLS, x_axis_type='datetime', plot_height=500, \n",
    "              plot_width=700, title=\"FI chart\")\n",
    "\n",
    "#plot.add_tools(TapTool())\n",
    "plot.yaxis.axis_label = \"Val\"\n",
    "plot.xaxis.axis_label = \"Time\"\n",
    "\n",
    "renderer = plot.quad(source=source, left='left', right='right', \n",
    "                     bottom='bottom', top='top', color='color')\n",
    "\n",
    "#selected_q = Quad(fill_alpha=1, fill_color=\"green\", line_color=None)\n",
    "#nonselected_q = Quad(fill_alpha=0.2, fill_color=\"blue\", line_color=\"firebrick\")\n",
    "#renderer.selection_glyph = selected_q\n",
    "#renderer.nonselection_glyph = nonselected_q\n",
    "    \n",
    "show(plot)"
   ]
  },
  {
   "cell_type": "code",
   "execution_count": null,
   "metadata": {
    "collapsed": false
   },
   "outputs": [],
   "source": [
    "d1 = {'kind': 'job', \n",
    "      'monthly_income': 1.5, \n",
    "      'start_date': dt.date(2016, 6, 1)}\n",
    "\n",
    "d2 = {'kind': 'job', \n",
    "      'monthly_income': 1.5, \n",
    "      'start_date': dt.date(2016, 6, 1)}\n",
    "\n",
    "\n",
    "test2 = Portfolio(Asset(**d1),Asset(**d2) )\n",
    "test2.monthlyIncome()\n",
    "\n",
    "assert test2.monthly_income == 3.0, \"Income incorrect\""
   ]
  },
  {
   "cell_type": "code",
   "execution_count": null,
   "metadata": {
    "collapsed": false
   },
   "outputs": [],
   "source": []
  },
  {
   "cell_type": "code",
   "execution_count": null,
   "metadata": {
    "collapsed": false
   },
   "outputs": [],
   "source": [
    "import datetime as dt"
   ]
  },
  {
   "cell_type": "code",
   "execution_count": null,
   "metadata": {
    "collapsed": false
   },
   "outputs": [],
   "source": [
    "tdate = dt.date(2003,2,1)\n",
    "start = dt.date(2000,1,1)\n",
    "end = dt.date(2099,1,1)\n",
    "in_month = tdate >= start and tdate <= end"
   ]
  },
  {
   "cell_type": "code",
   "execution_count": null,
   "metadata": {
    "collapsed": false
   },
   "outputs": [],
   "source": []
  },
  {
   "cell_type": "code",
   "execution_count": null,
   "metadata": {
    "collapsed": true
   },
   "outputs": [],
   "source": []
  },
  {
   "cell_type": "code",
   "execution_count": null,
   "metadata": {
    "collapsed": true
   },
   "outputs": [],
   "source": []
  }
 ],
 "metadata": {
  "kernelspec": {
   "display_name": "Python 3",
   "language": "python",
   "name": "python3"
  },
  "language_info": {
   "codemirror_mode": {
    "name": "ipython",
    "version": 3
   },
   "file_extension": ".py",
   "mimetype": "text/x-python",
   "name": "python",
   "nbconvert_exporter": "python",
   "pygments_lexer": "ipython3",
   "version": "3.5.1"
  },
  "widgets": {
   "state": {},
   "version": "1.1.2"
  }
 },
 "nbformat": 4,
 "nbformat_minor": 0
}
